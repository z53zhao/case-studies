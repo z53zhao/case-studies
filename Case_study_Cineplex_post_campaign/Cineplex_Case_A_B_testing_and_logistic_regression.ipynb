{
 "cells": [
  {
   "cell_type": "code",
   "execution_count": 149,
   "metadata": {},
   "outputs": [],
   "source": [
    "import matplotlib\n",
    "import matplotlib.pyplot as plt\n",
    "import numpy as np\n",
    "import pandas as pd"
   ]
  },
  {
   "cell_type": "code",
   "execution_count": 150,
   "metadata": {},
   "outputs": [
    {
     "name": "stdout",
     "output_type": "stream",
     "text": [
      "hello world!\n"
     ]
    }
   ],
   "source": [
    "print(\"hello world!\")"
   ]
  },
  {
   "cell_type": "markdown",
   "metadata": {},
   "source": [
    "# 1. Loading the dataset to dataframe"
   ]
  },
  {
   "cell_type": "code",
   "execution_count": 151,
   "metadata": {},
   "outputs": [],
   "source": [
    "import os\n",
    "import pandas as pd\n",
    "\n",
    "df = pd.read_excel(\"Cineplex Case Study Data 2019.xlsx\") \n",
    "#housing_label = housing.loc[:,\"median_house_value\"]\n",
    "#housing = housing.drop(\"median_house_value\",axis=1)"
   ]
  },
  {
   "cell_type": "code",
   "execution_count": 152,
   "metadata": {},
   "outputs": [
    {
     "data": {
      "text/html": [
       "<div>\n",
       "<style scoped>\n",
       "    .dataframe tbody tr th:only-of-type {\n",
       "        vertical-align: middle;\n",
       "    }\n",
       "\n",
       "    .dataframe tbody tr th {\n",
       "        vertical-align: top;\n",
       "    }\n",
       "\n",
       "    .dataframe thead th {\n",
       "        text-align: right;\n",
       "    }\n",
       "</style>\n",
       "<table border=\"1\" class=\"dataframe\">\n",
       "  <thead>\n",
       "    <tr style=\"text-align: right;\">\n",
       "      <th></th>\n",
       "      <th>UNIQUE_COLLECTOR_ID</th>\n",
       "      <th>ACCOUNT_STATUS</th>\n",
       "      <th>COLLECTOR_TIER</th>\n",
       "      <th>ENROLLMENT_DATE</th>\n",
       "      <th>BIRTHDATE</th>\n",
       "      <th>GENDER</th>\n",
       "      <th>LANGUAGE</th>\n",
       "      <th>HOUSEHOLD_INCOME_CATEGORY</th>\n",
       "      <th>HOME_ADDRESS_CITY</th>\n",
       "      <th>HOME_ADDRESS_PROVINCE_CODE</th>\n",
       "      <th>...</th>\n",
       "      <th>LAST_RATIO_CHG_DATE</th>\n",
       "      <th>EMAIL_OPT_IN_FLAG</th>\n",
       "      <th>EARN_IN_CAMPAIGN_PERIOD</th>\n",
       "      <th>POST_1M_EARN</th>\n",
       "      <th>WEB_ACTIVE_30DAYS</th>\n",
       "      <th>EMAIL_ENGAGED_30DAYS</th>\n",
       "      <th>RESPONDENT</th>\n",
       "      <th>DATE_OF_RESPONSE</th>\n",
       "      <th>CONTROL_FLAG</th>\n",
       "      <th>TEST_ACCOUNT_FLAG</th>\n",
       "    </tr>\n",
       "  </thead>\n",
       "  <tbody>\n",
       "    <tr>\n",
       "      <td>0</td>\n",
       "      <td>14089420521</td>\n",
       "      <td>A</td>\n",
       "      <td>O</td>\n",
       "      <td>1997-04-11</td>\n",
       "      <td>1973-06-10 00:00:00</td>\n",
       "      <td>F</td>\n",
       "      <td>E</td>\n",
       "      <td>-1</td>\n",
       "      <td>KESWICK RIDGE</td>\n",
       "      <td>NB</td>\n",
       "      <td>...</td>\n",
       "      <td>2014-06-02</td>\n",
       "      <td>Y</td>\n",
       "      <td>3788</td>\n",
       "      <td>1353</td>\n",
       "      <td>1.0</td>\n",
       "      <td>1.0</td>\n",
       "      <td>Y</td>\n",
       "      <td>2018-02-28</td>\n",
       "      <td>N</td>\n",
       "      <td>N</td>\n",
       "    </tr>\n",
       "    <tr>\n",
       "      <td>1</td>\n",
       "      <td>18507021933</td>\n",
       "      <td>A</td>\n",
       "      <td>B</td>\n",
       "      <td>2013-05-03</td>\n",
       "      <td>1994-05-23 00:00:00</td>\n",
       "      <td>F</td>\n",
       "      <td>E</td>\n",
       "      <td>0</td>\n",
       "      <td>MARKHAM</td>\n",
       "      <td>ON</td>\n",
       "      <td>...</td>\n",
       "      <td>2019-07-19</td>\n",
       "      <td>Y</td>\n",
       "      <td>20</td>\n",
       "      <td>1</td>\n",
       "      <td>1.0</td>\n",
       "      <td>0.0</td>\n",
       "      <td>Y</td>\n",
       "      <td>2018-02-26</td>\n",
       "      <td>N</td>\n",
       "      <td>Y</td>\n",
       "    </tr>\n",
       "    <tr>\n",
       "      <td>2</td>\n",
       "      <td>15139470171</td>\n",
       "      <td>A</td>\n",
       "      <td>B</td>\n",
       "      <td>2015-07-14</td>\n",
       "      <td>1996-05-05 00:00:00</td>\n",
       "      <td>F</td>\n",
       "      <td>E</td>\n",
       "      <td>-1</td>\n",
       "      <td>SCARBOROUGH</td>\n",
       "      <td>ON</td>\n",
       "      <td>...</td>\n",
       "      <td>2015-07-14</td>\n",
       "      <td>Y</td>\n",
       "      <td>23</td>\n",
       "      <td>6</td>\n",
       "      <td>0.0</td>\n",
       "      <td>1.0</td>\n",
       "      <td>Y</td>\n",
       "      <td>2018-02-20</td>\n",
       "      <td>N</td>\n",
       "      <td>N</td>\n",
       "    </tr>\n",
       "    <tr>\n",
       "      <td>3</td>\n",
       "      <td>12883629783</td>\n",
       "      <td>A</td>\n",
       "      <td>B</td>\n",
       "      <td>2015-07-14</td>\n",
       "      <td>1996-05-05 00:00:00</td>\n",
       "      <td>F</td>\n",
       "      <td>E</td>\n",
       "      <td>-1</td>\n",
       "      <td>SCARBOROUGH</td>\n",
       "      <td>ON</td>\n",
       "      <td>...</td>\n",
       "      <td>2015-07-14</td>\n",
       "      <td>Y</td>\n",
       "      <td>23</td>\n",
       "      <td>6</td>\n",
       "      <td>0.0</td>\n",
       "      <td>1.0</td>\n",
       "      <td>Y</td>\n",
       "      <td>2018-02-24</td>\n",
       "      <td>N</td>\n",
       "      <td>N</td>\n",
       "    </tr>\n",
       "    <tr>\n",
       "      <td>4</td>\n",
       "      <td>12371682557</td>\n",
       "      <td>A</td>\n",
       "      <td>G</td>\n",
       "      <td>2017-07-26</td>\n",
       "      <td>1978-07-07 00:00:00</td>\n",
       "      <td>F</td>\n",
       "      <td>E</td>\n",
       "      <td>-1</td>\n",
       "      <td>VICTORIA</td>\n",
       "      <td>BC</td>\n",
       "      <td>...</td>\n",
       "      <td>2017-07-27</td>\n",
       "      <td>Y</td>\n",
       "      <td>150</td>\n",
       "      <td>732</td>\n",
       "      <td>0.0</td>\n",
       "      <td>0.0</td>\n",
       "      <td>Y</td>\n",
       "      <td>2018-02-26</td>\n",
       "      <td>N</td>\n",
       "      <td>N</td>\n",
       "    </tr>\n",
       "  </tbody>\n",
       "</table>\n",
       "<p>5 rows × 26 columns</p>\n",
       "</div>"
      ],
      "text/plain": [
       "   UNIQUE_COLLECTOR_ID ACCOUNT_STATUS COLLECTOR_TIER ENROLLMENT_DATE  \\\n",
       "0          14089420521              A              O      1997-04-11   \n",
       "1          18507021933              A              B      2013-05-03   \n",
       "2          15139470171              A              B      2015-07-14   \n",
       "3          12883629783              A              B      2015-07-14   \n",
       "4          12371682557              A              G      2017-07-26   \n",
       "\n",
       "             BIRTHDATE GENDER LANGUAGE  HOUSEHOLD_INCOME_CATEGORY  \\\n",
       "0  1973-06-10 00:00:00      F        E                         -1   \n",
       "1  1994-05-23 00:00:00      F        E                          0   \n",
       "2  1996-05-05 00:00:00      F        E                         -1   \n",
       "3  1996-05-05 00:00:00      F        E                         -1   \n",
       "4  1978-07-07 00:00:00      F        E                         -1   \n",
       "\n",
       "  HOME_ADDRESS_CITY HOME_ADDRESS_PROVINCE_CODE  ... LAST_RATIO_CHG_DATE  \\\n",
       "0     KESWICK RIDGE                         NB  ...          2014-06-02   \n",
       "1           MARKHAM                         ON  ...          2019-07-19   \n",
       "2       SCARBOROUGH                         ON  ...          2015-07-14   \n",
       "3       SCARBOROUGH                         ON  ...          2015-07-14   \n",
       "4          VICTORIA                         BC  ...          2017-07-27   \n",
       "\n",
       "  EMAIL_OPT_IN_FLAG  EARN_IN_CAMPAIGN_PERIOD  POST_1M_EARN  WEB_ACTIVE_30DAYS  \\\n",
       "0                 Y                     3788          1353                1.0   \n",
       "1                 Y                       20             1                1.0   \n",
       "2                 Y                       23             6                0.0   \n",
       "3                 Y                       23             6                0.0   \n",
       "4                 Y                      150           732                0.0   \n",
       "\n",
       "   EMAIL_ENGAGED_30DAYS RESPONDENT DATE_OF_RESPONSE  CONTROL_FLAG  \\\n",
       "0                   1.0          Y       2018-02-28             N   \n",
       "1                   0.0          Y       2018-02-26             N   \n",
       "2                   1.0          Y       2018-02-20             N   \n",
       "3                   1.0          Y       2018-02-24             N   \n",
       "4                   0.0          Y       2018-02-26             N   \n",
       "\n",
       "   TEST_ACCOUNT_FLAG  \n",
       "0                  N  \n",
       "1                  Y  \n",
       "2                  N  \n",
       "3                  N  \n",
       "4                  N  \n",
       "\n",
       "[5 rows x 26 columns]"
      ]
     },
     "execution_count": 152,
     "metadata": {},
     "output_type": "execute_result"
    }
   ],
   "source": [
    "df.head()"
   ]
  },
  {
   "cell_type": "code",
   "execution_count": 153,
   "metadata": {},
   "outputs": [
    {
     "name": "stdout",
     "output_type": "stream",
     "text": [
      "<class 'pandas.core.frame.DataFrame'>\n",
      "RangeIndex: 8598 entries, 0 to 8597\n",
      "Data columns (total 26 columns):\n",
      "UNIQUE_COLLECTOR_ID           8598 non-null int64\n",
      "ACCOUNT_STATUS                8598 non-null object\n",
      "COLLECTOR_TIER                8598 non-null object\n",
      "ENROLLMENT_DATE               8598 non-null datetime64[ns]\n",
      "BIRTHDATE                     8598 non-null object\n",
      "GENDER                        6723 non-null object\n",
      "LANGUAGE                      8598 non-null object\n",
      "HOUSEHOLD_INCOME_CATEGORY     8598 non-null int64\n",
      "HOME_ADDRESS_CITY             8598 non-null object\n",
      "HOME_ADDRESS_PROVINCE_CODE    8598 non-null object\n",
      "HOME_ADDRESS_REGION_CODE      8598 non-null object\n",
      "PROMO_MAILABLE_FLAG           8598 non-null object\n",
      "ACCOUNT_BALANCE               8598 non-null int64\n",
      "DREAM_ACCOUNT_BALANCE         8598 non-null int64\n",
      "CASH_ACCOUNT_BALANCE          8598 non-null int64\n",
      "CASH_RATIO                    8598 non-null int64\n",
      "LAST_RATIO_CHG_DATE           6006 non-null datetime64[ns]\n",
      "EMAIL_OPT_IN_FLAG             8595 non-null object\n",
      "EARN_IN_CAMPAIGN_PERIOD       8598 non-null int64\n",
      "POST_1M_EARN                  8598 non-null int64\n",
      "WEB_ACTIVE_30DAYS             8532 non-null float64\n",
      "EMAIL_ENGAGED_30DAYS          8008 non-null float64\n",
      "RESPONDENT                    8598 non-null object\n",
      "DATE_OF_RESPONSE              600 non-null datetime64[ns]\n",
      "CONTROL_FLAG                  8598 non-null object\n",
      "TEST_ACCOUNT_FLAG             8598 non-null object\n",
      "dtypes: datetime64[ns](3), float64(2), int64(8), object(13)\n",
      "memory usage: 1.7+ MB\n"
     ]
    }
   ],
   "source": [
    "df.info()"
   ]
  },
  {
   "cell_type": "code",
   "execution_count": 154,
   "metadata": {},
   "outputs": [
    {
     "name": "stdout",
     "output_type": "stream",
     "text": [
      "(8598, 26)\n"
     ]
    }
   ],
   "source": [
    "print(df.shape)"
   ]
  },
  {
   "cell_type": "markdown",
   "metadata": {},
   "source": [
    "# 2. Discovering and visualizing data "
   ]
  },
  {
   "cell_type": "code",
   "execution_count": 155,
   "metadata": {},
   "outputs": [
    {
     "data": {
      "text/plain": [
       "0    7998\n",
       "1     600\n",
       "Name: RESPONDENT, dtype: int64"
      ]
     },
     "execution_count": 155,
     "metadata": {},
     "output_type": "execute_result"
    }
   ],
   "source": [
    "##Convert RESPONDENT from Y/N to 1/0\n",
    "df['RESPONDENT'] = df['RESPONDENT'].map({'Y': 1, 'N': 0})\n",
    "\n",
    "##Change data type\n",
    "df[\"HOME_ADDRESS_REGION_CODE\"]=df[\"HOME_ADDRESS_REGION_CODE\"].astype('category')\n",
    "df[\"HOME_ADDRESS_REGION_CODE\"]=df[\"HOME_ADDRESS_REGION_CODE\"].astype('category')\n",
    "df[\"HOME_ADDRESS_CITY\"]=df[\"HOME_ADDRESS_CITY\"].astype('category')\n",
    "df[\"HOME_ADDRESS_PROVINCE_CODE\"]=df[\"HOME_ADDRESS_PROVINCE_CODE\"].astype('category')\n",
    "df[\"COLLECTOR_TIER\"]=df[\"COLLECTOR_TIER\"].astype('category')\n",
    "df['ACCOUNT_STATUS'] = df['ACCOUNT_STATUS'].map({'A': 1, 'I': 0})\n",
    "df['LANGUAGE'] = df['LANGUAGE'].map({'E': 1, 'F': 0})\n",
    "df['PROMO_MAILABLE_FLAG'] = df['PROMO_MAILABLE_FLAG'].map({'Y': 1, 'N': 0})\n",
    "df['CONTROL_FLAG'] = df['CONTROL_FLAG'].map({'Y': 1, 'N': 0})\n",
    "\n",
    "\n",
    "df['RESPONDENT'].value_counts()"
   ]
  },
  {
   "cell_type": "code",
   "execution_count": 156,
   "metadata": {},
   "outputs": [
    {
     "name": "stdout",
     "output_type": "stream",
     "text": [
      "<class 'pandas.core.frame.DataFrame'>\n",
      "RangeIndex: 8598 entries, 0 to 8597\n",
      "Data columns (total 26 columns):\n",
      "UNIQUE_COLLECTOR_ID           8598 non-null int64\n",
      "ACCOUNT_STATUS                8598 non-null int64\n",
      "COLLECTOR_TIER                8598 non-null category\n",
      "ENROLLMENT_DATE               8598 non-null datetime64[ns]\n",
      "BIRTHDATE                     8598 non-null object\n",
      "GENDER                        6723 non-null object\n",
      "LANGUAGE                      8598 non-null int64\n",
      "HOUSEHOLD_INCOME_CATEGORY     8598 non-null int64\n",
      "HOME_ADDRESS_CITY             8598 non-null category\n",
      "HOME_ADDRESS_PROVINCE_CODE    8598 non-null category\n",
      "HOME_ADDRESS_REGION_CODE      8598 non-null category\n",
      "PROMO_MAILABLE_FLAG           8598 non-null int64\n",
      "ACCOUNT_BALANCE               8598 non-null int64\n",
      "DREAM_ACCOUNT_BALANCE         8598 non-null int64\n",
      "CASH_ACCOUNT_BALANCE          8598 non-null int64\n",
      "CASH_RATIO                    8598 non-null int64\n",
      "LAST_RATIO_CHG_DATE           6006 non-null datetime64[ns]\n",
      "EMAIL_OPT_IN_FLAG             8595 non-null object\n",
      "EARN_IN_CAMPAIGN_PERIOD       8598 non-null int64\n",
      "POST_1M_EARN                  8598 non-null int64\n",
      "WEB_ACTIVE_30DAYS             8532 non-null float64\n",
      "EMAIL_ENGAGED_30DAYS          8008 non-null float64\n",
      "RESPONDENT                    8598 non-null int64\n",
      "DATE_OF_RESPONSE              600 non-null datetime64[ns]\n",
      "CONTROL_FLAG                  8598 non-null int64\n",
      "TEST_ACCOUNT_FLAG             8598 non-null object\n",
      "dtypes: category(4), datetime64[ns](3), float64(2), int64(13), object(4)\n",
      "memory usage: 1.5+ MB\n"
     ]
    }
   ],
   "source": [
    "df.info()"
   ]
  },
  {
   "cell_type": "code",
   "execution_count": 157,
   "metadata": {},
   "outputs": [
    {
     "data": {
      "image/png": "[encoded data removed]",
      "text/plain": [
       "<Figure size 432x288 with 1 Axes>"
      ]
     },
     "metadata": {},
     "output_type": "display_data"
    }
   ],
   "source": [
    "import seaborn as sns\n",
    "sns.set(style=\"white\")\n",
    "sns.set(style=\"whitegrid\", color_codes=True)\n",
    "import matplotlib.pyplot as plt \n",
    "plt.rc(\"font\", size=14)\n",
    "sns.countplot(x='RESPONDENT',data=df,palette='hls')\n",
    "plt.show()"
   ]
  },
  {
   "cell_type": "code",
   "execution_count": 158,
   "metadata": {},
   "outputs": [
    {
     "name": "stdout",
     "output_type": "stream",
     "text": [
      "percentage of no respondent is 93.02163293789253\n",
      "percentage of respondent 6.978367062107467\n"
     ]
    }
   ],
   "source": [
    "count_no_resp = len(df[df['RESPONDENT']==0])\n",
    "count_resp = len(df[df['RESPONDENT']==1])\n",
    "pct_of_no_resp = count_no_resp/(count_no_resp+count_resp)\n",
    "print(\"percentage of no respondent is\", pct_of_no_resp*100)\n",
    "pct_of_resp = count_resp/(count_no_resp+count_resp)\n",
    "print(\"percentage of respondent\", pct_of_resp*100)"
   ]
  },
  {
   "cell_type": "code",
   "execution_count": 159,
   "metadata": {},
   "outputs": [
    {
     "data": {
      "text/html": [
       "<div>\n",
       "<style scoped>\n",
       "    .dataframe tbody tr th:only-of-type {\n",
       "        vertical-align: middle;\n",
       "    }\n",
       "\n",
       "    .dataframe tbody tr th {\n",
       "        vertical-align: top;\n",
       "    }\n",
       "\n",
       "    .dataframe thead th {\n",
       "        text-align: right;\n",
       "    }\n",
       "</style>\n",
       "<table border=\"1\" class=\"dataframe\">\n",
       "  <thead>\n",
       "    <tr style=\"text-align: right;\">\n",
       "      <th></th>\n",
       "      <th>UNIQUE_COLLECTOR_ID</th>\n",
       "      <th>ACCOUNT_STATUS</th>\n",
       "      <th>LANGUAGE</th>\n",
       "      <th>HOUSEHOLD_INCOME_CATEGORY</th>\n",
       "      <th>PROMO_MAILABLE_FLAG</th>\n",
       "      <th>ACCOUNT_BALANCE</th>\n",
       "      <th>DREAM_ACCOUNT_BALANCE</th>\n",
       "      <th>CASH_ACCOUNT_BALANCE</th>\n",
       "      <th>CASH_RATIO</th>\n",
       "      <th>EARN_IN_CAMPAIGN_PERIOD</th>\n",
       "      <th>POST_1M_EARN</th>\n",
       "      <th>WEB_ACTIVE_30DAYS</th>\n",
       "      <th>EMAIL_ENGAGED_30DAYS</th>\n",
       "      <th>CONTROL_FLAG</th>\n",
       "    </tr>\n",
       "    <tr>\n",
       "      <th>RESPONDENT</th>\n",
       "      <th></th>\n",
       "      <th></th>\n",
       "      <th></th>\n",
       "      <th></th>\n",
       "      <th></th>\n",
       "      <th></th>\n",
       "      <th></th>\n",
       "      <th></th>\n",
       "      <th></th>\n",
       "      <th></th>\n",
       "      <th></th>\n",
       "      <th></th>\n",
       "      <th></th>\n",
       "      <th></th>\n",
       "    </tr>\n",
       "  </thead>\n",
       "  <tbody>\n",
       "    <tr>\n",
       "      <td>0</td>\n",
       "      <td>1.450694e+10</td>\n",
       "      <td>0.9995</td>\n",
       "      <td>0.907352</td>\n",
       "      <td>0.177294</td>\n",
       "      <td>0.976494</td>\n",
       "      <td>3828.162166</td>\n",
       "      <td>3481.000875</td>\n",
       "      <td>347.161290</td>\n",
       "      <td>44.759940</td>\n",
       "      <td>541.310578</td>\n",
       "      <td>345.139660</td>\n",
       "      <td>0.385100</td>\n",
       "      <td>0.777986</td>\n",
       "      <td>0.030258</td>\n",
       "    </tr>\n",
       "    <tr>\n",
       "      <td>1</td>\n",
       "      <td>1.450187e+10</td>\n",
       "      <td>1.0000</td>\n",
       "      <td>0.895000</td>\n",
       "      <td>-0.008333</td>\n",
       "      <td>0.980000</td>\n",
       "      <td>3877.928333</td>\n",
       "      <td>3543.161667</td>\n",
       "      <td>334.766667</td>\n",
       "      <td>45.966667</td>\n",
       "      <td>512.781667</td>\n",
       "      <td>333.716667</td>\n",
       "      <td>0.397329</td>\n",
       "      <td>0.745763</td>\n",
       "      <td>0.041667</td>\n",
       "    </tr>\n",
       "  </tbody>\n",
       "</table>\n",
       "</div>"
      ],
      "text/plain": [
       "            UNIQUE_COLLECTOR_ID  ACCOUNT_STATUS  LANGUAGE  \\\n",
       "RESPONDENT                                                  \n",
       "0                  1.450694e+10          0.9995  0.907352   \n",
       "1                  1.450187e+10          1.0000  0.895000   \n",
       "\n",
       "            HOUSEHOLD_INCOME_CATEGORY  PROMO_MAILABLE_FLAG  ACCOUNT_BALANCE  \\\n",
       "RESPONDENT                                                                    \n",
       "0                            0.177294             0.976494      3828.162166   \n",
       "1                           -0.008333             0.980000      3877.928333   \n",
       "\n",
       "            DREAM_ACCOUNT_BALANCE  CASH_ACCOUNT_BALANCE  CASH_RATIO  \\\n",
       "RESPONDENT                                                            \n",
       "0                     3481.000875            347.161290   44.759940   \n",
       "1                     3543.161667            334.766667   45.966667   \n",
       "\n",
       "            EARN_IN_CAMPAIGN_PERIOD  POST_1M_EARN  WEB_ACTIVE_30DAYS  \\\n",
       "RESPONDENT                                                             \n",
       "0                        541.310578    345.139660           0.385100   \n",
       "1                        512.781667    333.716667           0.397329   \n",
       "\n",
       "            EMAIL_ENGAGED_30DAYS  CONTROL_FLAG  \n",
       "RESPONDENT                                      \n",
       "0                       0.777986      0.030258  \n",
       "1                       0.745763      0.041667  "
      ]
     },
     "execution_count": 159,
     "metadata": {},
     "output_type": "execute_result"
    }
   ],
   "source": [
    "df.groupby('RESPONDENT').mean()"
   ]
  },
  {
   "cell_type": "markdown",
   "metadata": {},
   "source": [
    "#### Observations:\n",
    "- The average income of collectors who responsed is lower than that of collectors who didn't.\n",
    "- The average account balance/dream miles balance of collectors who responsed is higher than that of collectors who didn't.\n",
    "- Collectors who responsed is more active on websites for the past 30 days.\n",
    "- Surprisingly, collectors who responsed have a higher cash ratios"
   ]
  },
  {
   "cell_type": "code",
   "execution_count": 160,
   "metadata": {},
   "outputs": [
    {
     "data": {
      "text/html": [
       "<div>\n",
       "<style scoped>\n",
       "    .dataframe tbody tr th:only-of-type {\n",
       "        vertical-align: middle;\n",
       "    }\n",
       "\n",
       "    .dataframe tbody tr th {\n",
       "        vertical-align: top;\n",
       "    }\n",
       "\n",
       "    .dataframe thead th {\n",
       "        text-align: right;\n",
       "    }\n",
       "</style>\n",
       "<table border=\"1\" class=\"dataframe\">\n",
       "  <thead>\n",
       "    <tr style=\"text-align: right;\">\n",
       "      <th></th>\n",
       "      <th>UNIQUE_COLLECTOR_ID</th>\n",
       "      <th>ACCOUNT_STATUS</th>\n",
       "      <th>LANGUAGE</th>\n",
       "      <th>PROMO_MAILABLE_FLAG</th>\n",
       "      <th>ACCOUNT_BALANCE</th>\n",
       "      <th>DREAM_ACCOUNT_BALANCE</th>\n",
       "      <th>CASH_ACCOUNT_BALANCE</th>\n",
       "      <th>CASH_RATIO</th>\n",
       "      <th>EARN_IN_CAMPAIGN_PERIOD</th>\n",
       "      <th>POST_1M_EARN</th>\n",
       "      <th>WEB_ACTIVE_30DAYS</th>\n",
       "      <th>EMAIL_ENGAGED_30DAYS</th>\n",
       "      <th>RESPONDENT</th>\n",
       "      <th>CONTROL_FLAG</th>\n",
       "    </tr>\n",
       "    <tr>\n",
       "      <th>HOUSEHOLD_INCOME_CATEGORY</th>\n",
       "      <th></th>\n",
       "      <th></th>\n",
       "      <th></th>\n",
       "      <th></th>\n",
       "      <th></th>\n",
       "      <th></th>\n",
       "      <th></th>\n",
       "      <th></th>\n",
       "      <th></th>\n",
       "      <th></th>\n",
       "      <th></th>\n",
       "      <th></th>\n",
       "      <th></th>\n",
       "      <th></th>\n",
       "    </tr>\n",
       "  </thead>\n",
       "  <tbody>\n",
       "    <tr>\n",
       "      <td>-1</td>\n",
       "      <td>1.452413e+10</td>\n",
       "      <td>0.999229</td>\n",
       "      <td>0.904413</td>\n",
       "      <td>0.976296</td>\n",
       "      <td>3562.855078</td>\n",
       "      <td>3232.913856</td>\n",
       "      <td>329.941222</td>\n",
       "      <td>46.097514</td>\n",
       "      <td>494.064560</td>\n",
       "      <td>320.018115</td>\n",
       "      <td>0.359199</td>\n",
       "      <td>0.764350</td>\n",
       "      <td>0.072268</td>\n",
       "      <td>0.034689</td>\n",
       "    </tr>\n",
       "    <tr>\n",
       "      <td>0</td>\n",
       "      <td>1.451126e+10</td>\n",
       "      <td>1.000000</td>\n",
       "      <td>0.871914</td>\n",
       "      <td>0.983025</td>\n",
       "      <td>2254.424383</td>\n",
       "      <td>1909.282407</td>\n",
       "      <td>345.141975</td>\n",
       "      <td>56.080247</td>\n",
       "      <td>309.834877</td>\n",
       "      <td>197.425926</td>\n",
       "      <td>0.335404</td>\n",
       "      <td>0.715008</td>\n",
       "      <td>0.097222</td>\n",
       "      <td>0.024691</td>\n",
       "    </tr>\n",
       "    <tr>\n",
       "      <td>1</td>\n",
       "      <td>1.447458e+10</td>\n",
       "      <td>1.000000</td>\n",
       "      <td>0.902047</td>\n",
       "      <td>0.964912</td>\n",
       "      <td>3753.618421</td>\n",
       "      <td>3415.181287</td>\n",
       "      <td>338.437135</td>\n",
       "      <td>45.511696</td>\n",
       "      <td>477.998538</td>\n",
       "      <td>298.343567</td>\n",
       "      <td>0.380882</td>\n",
       "      <td>0.779180</td>\n",
       "      <td>0.061404</td>\n",
       "      <td>0.030702</td>\n",
       "    </tr>\n",
       "    <tr>\n",
       "      <td>2</td>\n",
       "      <td>1.448590e+10</td>\n",
       "      <td>1.000000</td>\n",
       "      <td>0.911236</td>\n",
       "      <td>0.973034</td>\n",
       "      <td>4109.628090</td>\n",
       "      <td>3700.791011</td>\n",
       "      <td>408.837079</td>\n",
       "      <td>41.932584</td>\n",
       "      <td>594.004494</td>\n",
       "      <td>384.968539</td>\n",
       "      <td>0.426954</td>\n",
       "      <td>0.816351</td>\n",
       "      <td>0.068539</td>\n",
       "      <td>0.032584</td>\n",
       "    </tr>\n",
       "    <tr>\n",
       "      <td>3</td>\n",
       "      <td>1.441837e+10</td>\n",
       "      <td>1.000000</td>\n",
       "      <td>0.916393</td>\n",
       "      <td>0.985246</td>\n",
       "      <td>5213.837705</td>\n",
       "      <td>4769.268852</td>\n",
       "      <td>444.568852</td>\n",
       "      <td>37.491803</td>\n",
       "      <td>780.350820</td>\n",
       "      <td>446.365574</td>\n",
       "      <td>0.472817</td>\n",
       "      <td>0.820339</td>\n",
       "      <td>0.049180</td>\n",
       "      <td>0.013115</td>\n",
       "    </tr>\n",
       "    <tr>\n",
       "      <td>4</td>\n",
       "      <td>1.450662e+10</td>\n",
       "      <td>1.000000</td>\n",
       "      <td>0.951473</td>\n",
       "      <td>0.984402</td>\n",
       "      <td>6222.514731</td>\n",
       "      <td>5918.882149</td>\n",
       "      <td>303.632582</td>\n",
       "      <td>32.426343</td>\n",
       "      <td>937.552860</td>\n",
       "      <td>612.095321</td>\n",
       "      <td>0.532986</td>\n",
       "      <td>0.827338</td>\n",
       "      <td>0.050260</td>\n",
       "      <td>0.022530</td>\n",
       "    </tr>\n",
       "  </tbody>\n",
       "</table>\n",
       "</div>"
      ],
      "text/plain": [
       "                           UNIQUE_COLLECTOR_ID  ACCOUNT_STATUS  LANGUAGE  \\\n",
       "HOUSEHOLD_INCOME_CATEGORY                                                  \n",
       "-1                                1.452413e+10        0.999229  0.904413   \n",
       " 0                                1.451126e+10        1.000000  0.871914   \n",
       " 1                                1.447458e+10        1.000000  0.902047   \n",
       " 2                                1.448590e+10        1.000000  0.911236   \n",
       " 3                                1.441837e+10        1.000000  0.916393   \n",
       " 4                                1.450662e+10        1.000000  0.951473   \n",
       "\n",
       "                           PROMO_MAILABLE_FLAG  ACCOUNT_BALANCE  \\\n",
       "HOUSEHOLD_INCOME_CATEGORY                                         \n",
       "-1                                    0.976296      3562.855078   \n",
       " 0                                    0.983025      2254.424383   \n",
       " 1                                    0.964912      3753.618421   \n",
       " 2                                    0.973034      4109.628090   \n",
       " 3                                    0.985246      5213.837705   \n",
       " 4                                    0.984402      6222.514731   \n",
       "\n",
       "                           DREAM_ACCOUNT_BALANCE  CASH_ACCOUNT_BALANCE  \\\n",
       "HOUSEHOLD_INCOME_CATEGORY                                                \n",
       "-1                                   3232.913856            329.941222   \n",
       " 0                                   1909.282407            345.141975   \n",
       " 1                                   3415.181287            338.437135   \n",
       " 2                                   3700.791011            408.837079   \n",
       " 3                                   4769.268852            444.568852   \n",
       " 4                                   5918.882149            303.632582   \n",
       "\n",
       "                           CASH_RATIO  EARN_IN_CAMPAIGN_PERIOD  POST_1M_EARN  \\\n",
       "HOUSEHOLD_INCOME_CATEGORY                                                      \n",
       "-1                          46.097514               494.064560    320.018115   \n",
       " 0                          56.080247               309.834877    197.425926   \n",
       " 1                          45.511696               477.998538    298.343567   \n",
       " 2                          41.932584               594.004494    384.968539   \n",
       " 3                          37.491803               780.350820    446.365574   \n",
       " 4                          32.426343               937.552860    612.095321   \n",
       "\n",
       "                           WEB_ACTIVE_30DAYS  EMAIL_ENGAGED_30DAYS  \\\n",
       "HOUSEHOLD_INCOME_CATEGORY                                            \n",
       "-1                                  0.359199              0.764350   \n",
       " 0                                  0.335404              0.715008   \n",
       " 1                                  0.380882              0.779180   \n",
       " 2                                  0.426954              0.816351   \n",
       " 3                                  0.472817              0.820339   \n",
       " 4                                  0.532986              0.827338   \n",
       "\n",
       "                           RESPONDENT  CONTROL_FLAG  \n",
       "HOUSEHOLD_INCOME_CATEGORY                            \n",
       "-1                           0.072268      0.034689  \n",
       " 0                           0.097222      0.024691  \n",
       " 1                           0.061404      0.030702  \n",
       " 2                           0.068539      0.032584  \n",
       " 3                           0.049180      0.013115  \n",
       " 4                           0.050260      0.022530  "
      ]
     },
     "execution_count": 160,
     "metadata": {},
     "output_type": "execute_result"
    }
   ],
   "source": [
    "df.groupby('HOUSEHOLD_INCOME_CATEGORY').mean()"
   ]
  },
  {
   "cell_type": "code",
   "execution_count": 161,
   "metadata": {},
   "outputs": [
    {
     "data": {
      "text/html": [
       "<div>\n",
       "<style scoped>\n",
       "    .dataframe tbody tr th:only-of-type {\n",
       "        vertical-align: middle;\n",
       "    }\n",
       "\n",
       "    .dataframe tbody tr th {\n",
       "        vertical-align: top;\n",
       "    }\n",
       "\n",
       "    .dataframe thead th {\n",
       "        text-align: right;\n",
       "    }\n",
       "</style>\n",
       "<table border=\"1\" class=\"dataframe\">\n",
       "  <thead>\n",
       "    <tr style=\"text-align: right;\">\n",
       "      <th></th>\n",
       "      <th>UNIQUE_COLLECTOR_ID</th>\n",
       "      <th>ACCOUNT_STATUS</th>\n",
       "      <th>LANGUAGE</th>\n",
       "      <th>HOUSEHOLD_INCOME_CATEGORY</th>\n",
       "      <th>PROMO_MAILABLE_FLAG</th>\n",
       "      <th>ACCOUNT_BALANCE</th>\n",
       "      <th>DREAM_ACCOUNT_BALANCE</th>\n",
       "      <th>CASH_ACCOUNT_BALANCE</th>\n",
       "      <th>CASH_RATIO</th>\n",
       "      <th>EARN_IN_CAMPAIGN_PERIOD</th>\n",
       "      <th>POST_1M_EARN</th>\n",
       "      <th>WEB_ACTIVE_30DAYS</th>\n",
       "      <th>EMAIL_ENGAGED_30DAYS</th>\n",
       "      <th>RESPONDENT</th>\n",
       "      <th>CONTROL_FLAG</th>\n",
       "    </tr>\n",
       "    <tr>\n",
       "      <th>GENDER</th>\n",
       "      <th></th>\n",
       "      <th></th>\n",
       "      <th></th>\n",
       "      <th></th>\n",
       "      <th></th>\n",
       "      <th></th>\n",
       "      <th></th>\n",
       "      <th></th>\n",
       "      <th></th>\n",
       "      <th></th>\n",
       "      <th></th>\n",
       "      <th></th>\n",
       "      <th></th>\n",
       "      <th></th>\n",
       "      <th></th>\n",
       "    </tr>\n",
       "  </thead>\n",
       "  <tbody>\n",
       "    <tr>\n",
       "      <td>F</td>\n",
       "      <td>1.452639e+10</td>\n",
       "      <td>0.999765</td>\n",
       "      <td>0.893662</td>\n",
       "      <td>0.125352</td>\n",
       "      <td>0.976291</td>\n",
       "      <td>3415.733568</td>\n",
       "      <td>3124.977465</td>\n",
       "      <td>290.756103</td>\n",
       "      <td>46.546948</td>\n",
       "      <td>482.755399</td>\n",
       "      <td>315.781455</td>\n",
       "      <td>0.377278</td>\n",
       "      <td>0.762712</td>\n",
       "      <td>0.072535</td>\n",
       "      <td>0.029812</td>\n",
       "    </tr>\n",
       "    <tr>\n",
       "      <td>M</td>\n",
       "      <td>1.453964e+10</td>\n",
       "      <td>0.999188</td>\n",
       "      <td>0.922858</td>\n",
       "      <td>0.396671</td>\n",
       "      <td>0.978076</td>\n",
       "      <td>4531.300853</td>\n",
       "      <td>4081.102720</td>\n",
       "      <td>450.198132</td>\n",
       "      <td>43.012586</td>\n",
       "      <td>650.677629</td>\n",
       "      <td>416.793747</td>\n",
       "      <td>0.404996</td>\n",
       "      <td>0.796464</td>\n",
       "      <td>0.066179</td>\n",
       "      <td>0.030451</td>\n",
       "    </tr>\n",
       "  </tbody>\n",
       "</table>\n",
       "</div>"
      ],
      "text/plain": [
       "        UNIQUE_COLLECTOR_ID  ACCOUNT_STATUS  LANGUAGE  \\\n",
       "GENDER                                                  \n",
       "F              1.452639e+10        0.999765  0.893662   \n",
       "M              1.453964e+10        0.999188  0.922858   \n",
       "\n",
       "        HOUSEHOLD_INCOME_CATEGORY  PROMO_MAILABLE_FLAG  ACCOUNT_BALANCE  \\\n",
       "GENDER                                                                    \n",
       "F                        0.125352             0.976291      3415.733568   \n",
       "M                        0.396671             0.978076      4531.300853   \n",
       "\n",
       "        DREAM_ACCOUNT_BALANCE  CASH_ACCOUNT_BALANCE  CASH_RATIO  \\\n",
       "GENDER                                                            \n",
       "F                 3124.977465            290.756103   46.546948   \n",
       "M                 4081.102720            450.198132   43.012586   \n",
       "\n",
       "        EARN_IN_CAMPAIGN_PERIOD  POST_1M_EARN  WEB_ACTIVE_30DAYS  \\\n",
       "GENDER                                                             \n",
       "F                    482.755399    315.781455           0.377278   \n",
       "M                    650.677629    416.793747           0.404996   \n",
       "\n",
       "        EMAIL_ENGAGED_30DAYS  RESPONDENT  CONTROL_FLAG  \n",
       "GENDER                                                  \n",
       "F                   0.762712    0.072535      0.029812  \n",
       "M                   0.796464    0.066179      0.030451  "
      ]
     },
     "execution_count": 161,
     "metadata": {},
     "output_type": "execute_result"
    }
   ],
   "source": [
    "df.groupby('GENDER').mean()"
   ]
  },
  {
   "cell_type": "code",
   "execution_count": 162,
   "metadata": {},
   "outputs": [
    {
     "data": {
      "text/html": [
       "<div>\n",
       "<style scoped>\n",
       "    .dataframe tbody tr th:only-of-type {\n",
       "        vertical-align: middle;\n",
       "    }\n",
       "\n",
       "    .dataframe tbody tr th {\n",
       "        vertical-align: top;\n",
       "    }\n",
       "\n",
       "    .dataframe thead th {\n",
       "        text-align: right;\n",
       "    }\n",
       "</style>\n",
       "<table border=\"1\" class=\"dataframe\">\n",
       "  <thead>\n",
       "    <tr style=\"text-align: right;\">\n",
       "      <th></th>\n",
       "      <th>UNIQUE_COLLECTOR_ID</th>\n",
       "      <th>ACCOUNT_STATUS</th>\n",
       "      <th>LANGUAGE</th>\n",
       "      <th>HOUSEHOLD_INCOME_CATEGORY</th>\n",
       "      <th>PROMO_MAILABLE_FLAG</th>\n",
       "      <th>ACCOUNT_BALANCE</th>\n",
       "      <th>DREAM_ACCOUNT_BALANCE</th>\n",
       "      <th>CASH_ACCOUNT_BALANCE</th>\n",
       "      <th>CASH_RATIO</th>\n",
       "      <th>EARN_IN_CAMPAIGN_PERIOD</th>\n",
       "      <th>POST_1M_EARN</th>\n",
       "      <th>WEB_ACTIVE_30DAYS</th>\n",
       "      <th>EMAIL_ENGAGED_30DAYS</th>\n",
       "      <th>RESPONDENT</th>\n",
       "      <th>CONTROL_FLAG</th>\n",
       "    </tr>\n",
       "    <tr>\n",
       "      <th>HOME_ADDRESS_REGION_CODE</th>\n",
       "      <th></th>\n",
       "      <th></th>\n",
       "      <th></th>\n",
       "      <th></th>\n",
       "      <th></th>\n",
       "      <th></th>\n",
       "      <th></th>\n",
       "      <th></th>\n",
       "      <th></th>\n",
       "      <th></th>\n",
       "      <th></th>\n",
       "      <th></th>\n",
       "      <th></th>\n",
       "      <th></th>\n",
       "      <th></th>\n",
       "    </tr>\n",
       "  </thead>\n",
       "  <tbody>\n",
       "    <tr>\n",
       "      <td>A</td>\n",
       "      <td>1.443790e+10</td>\n",
       "      <td>0.999171</td>\n",
       "      <td>0.980116</td>\n",
       "      <td>0.105220</td>\n",
       "      <td>0.973488</td>\n",
       "      <td>4026.007457</td>\n",
       "      <td>3751.055510</td>\n",
       "      <td>274.951947</td>\n",
       "      <td>47.183099</td>\n",
       "      <td>598.033969</td>\n",
       "      <td>457.305717</td>\n",
       "      <td>0.437240</td>\n",
       "      <td>0.786486</td>\n",
       "      <td>0.065452</td>\n",
       "      <td>0.028169</td>\n",
       "    </tr>\n",
       "    <tr>\n",
       "      <td>O</td>\n",
       "      <td>1.452779e+10</td>\n",
       "      <td>0.999719</td>\n",
       "      <td>0.993251</td>\n",
       "      <td>0.064961</td>\n",
       "      <td>0.977784</td>\n",
       "      <td>3323.766029</td>\n",
       "      <td>2883.634421</td>\n",
       "      <td>440.131609</td>\n",
       "      <td>49.516310</td>\n",
       "      <td>451.337739</td>\n",
       "      <td>293.696007</td>\n",
       "      <td>0.358175</td>\n",
       "      <td>0.765725</td>\n",
       "      <td>0.070304</td>\n",
       "      <td>0.031215</td>\n",
       "    </tr>\n",
       "    <tr>\n",
       "      <td>Q</td>\n",
       "      <td>1.458675e+10</td>\n",
       "      <td>0.999018</td>\n",
       "      <td>0.265226</td>\n",
       "      <td>0.024558</td>\n",
       "      <td>0.984283</td>\n",
       "      <td>2176.321218</td>\n",
       "      <td>1799.728880</td>\n",
       "      <td>376.592338</td>\n",
       "      <td>62.956778</td>\n",
       "      <td>340.504912</td>\n",
       "      <td>262.714145</td>\n",
       "      <td>0.249503</td>\n",
       "      <td>0.744111</td>\n",
       "      <td>0.074656</td>\n",
       "      <td>0.022593</td>\n",
       "    </tr>\n",
       "    <tr>\n",
       "      <td>W</td>\n",
       "      <td>1.448027e+10</td>\n",
       "      <td>0.999645</td>\n",
       "      <td>0.997160</td>\n",
       "      <td>0.365637</td>\n",
       "      <td>0.974086</td>\n",
       "      <td>4987.646432</td>\n",
       "      <td>4740.181044</td>\n",
       "      <td>247.465389</td>\n",
       "      <td>31.398651</td>\n",
       "      <td>697.072417</td>\n",
       "      <td>389.372737</td>\n",
       "      <td>0.448103</td>\n",
       "      <td>0.794987</td>\n",
       "      <td>0.069223</td>\n",
       "      <td>0.035144</td>\n",
       "    </tr>\n",
       "  </tbody>\n",
       "</table>\n",
       "</div>"
      ],
      "text/plain": [
       "                          UNIQUE_COLLECTOR_ID  ACCOUNT_STATUS  LANGUAGE  \\\n",
       "HOME_ADDRESS_REGION_CODE                                                  \n",
       "A                                1.443790e+10        0.999171  0.980116   \n",
       "O                                1.452779e+10        0.999719  0.993251   \n",
       "Q                                1.458675e+10        0.999018  0.265226   \n",
       "W                                1.448027e+10        0.999645  0.997160   \n",
       "\n",
       "                          HOUSEHOLD_INCOME_CATEGORY  PROMO_MAILABLE_FLAG  \\\n",
       "HOME_ADDRESS_REGION_CODE                                                   \n",
       "A                                          0.105220             0.973488   \n",
       "O                                          0.064961             0.977784   \n",
       "Q                                          0.024558             0.984283   \n",
       "W                                          0.365637             0.974086   \n",
       "\n",
       "                          ACCOUNT_BALANCE  DREAM_ACCOUNT_BALANCE  \\\n",
       "HOME_ADDRESS_REGION_CODE                                           \n",
       "A                             4026.007457            3751.055510   \n",
       "O                             3323.766029            2883.634421   \n",
       "Q                             2176.321218            1799.728880   \n",
       "W                             4987.646432            4740.181044   \n",
       "\n",
       "                          CASH_ACCOUNT_BALANCE  CASH_RATIO  \\\n",
       "HOME_ADDRESS_REGION_CODE                                     \n",
       "A                                   274.951947   47.183099   \n",
       "O                                   440.131609   49.516310   \n",
       "Q                                   376.592338   62.956778   \n",
       "W                                   247.465389   31.398651   \n",
       "\n",
       "                          EARN_IN_CAMPAIGN_PERIOD  POST_1M_EARN  \\\n",
       "HOME_ADDRESS_REGION_CODE                                          \n",
       "A                                      598.033969    457.305717   \n",
       "O                                      451.337739    293.696007   \n",
       "Q                                      340.504912    262.714145   \n",
       "W                                      697.072417    389.372737   \n",
       "\n",
       "                          WEB_ACTIVE_30DAYS  EMAIL_ENGAGED_30DAYS  RESPONDENT  \\\n",
       "HOME_ADDRESS_REGION_CODE                                                        \n",
       "A                                  0.437240              0.786486    0.065452   \n",
       "O                                  0.358175              0.765725    0.070304   \n",
       "Q                                  0.249503              0.744111    0.074656   \n",
       "W                                  0.448103              0.794987    0.069223   \n",
       "\n",
       "                          CONTROL_FLAG  \n",
       "HOME_ADDRESS_REGION_CODE                \n",
       "A                             0.028169  \n",
       "O                             0.031215  \n",
       "Q                             0.022593  \n",
       "W                             0.035144  "
      ]
     },
     "execution_count": 162,
     "metadata": {},
     "output_type": "execute_result"
    }
   ],
   "source": [
    "df.groupby('HOME_ADDRESS_REGION_CODE').mean()"
   ]
  },
  {
   "cell_type": "code",
   "execution_count": 163,
   "metadata": {},
   "outputs": [
    {
     "data": {
      "text/html": [
       "<div>\n",
       "<style scoped>\n",
       "    .dataframe tbody tr th:only-of-type {\n",
       "        vertical-align: middle;\n",
       "    }\n",
       "\n",
       "    .dataframe tbody tr th {\n",
       "        vertical-align: top;\n",
       "    }\n",
       "\n",
       "    .dataframe thead th {\n",
       "        text-align: right;\n",
       "    }\n",
       "</style>\n",
       "<table border=\"1\" class=\"dataframe\">\n",
       "  <thead>\n",
       "    <tr style=\"text-align: right;\">\n",
       "      <th></th>\n",
       "      <th>UNIQUE_COLLECTOR_ID</th>\n",
       "      <th>ACCOUNT_STATUS</th>\n",
       "      <th>LANGUAGE</th>\n",
       "      <th>HOUSEHOLD_INCOME_CATEGORY</th>\n",
       "      <th>PROMO_MAILABLE_FLAG</th>\n",
       "      <th>ACCOUNT_BALANCE</th>\n",
       "      <th>DREAM_ACCOUNT_BALANCE</th>\n",
       "      <th>CASH_ACCOUNT_BALANCE</th>\n",
       "      <th>CASH_RATIO</th>\n",
       "      <th>EARN_IN_CAMPAIGN_PERIOD</th>\n",
       "      <th>POST_1M_EARN</th>\n",
       "      <th>WEB_ACTIVE_30DAYS</th>\n",
       "      <th>EMAIL_ENGAGED_30DAYS</th>\n",
       "      <th>RESPONDENT</th>\n",
       "      <th>CONTROL_FLAG</th>\n",
       "    </tr>\n",
       "    <tr>\n",
       "      <th>COLLECTOR_TIER</th>\n",
       "      <th></th>\n",
       "      <th></th>\n",
       "      <th></th>\n",
       "      <th></th>\n",
       "      <th></th>\n",
       "      <th></th>\n",
       "      <th></th>\n",
       "      <th></th>\n",
       "      <th></th>\n",
       "      <th></th>\n",
       "      <th></th>\n",
       "      <th></th>\n",
       "      <th></th>\n",
       "      <th></th>\n",
       "      <th></th>\n",
       "    </tr>\n",
       "  </thead>\n",
       "  <tbody>\n",
       "    <tr>\n",
       "      <td>B</td>\n",
       "      <td>1.452097e+10</td>\n",
       "      <td>0.999558</td>\n",
       "      <td>0.887318</td>\n",
       "      <td>-0.026293</td>\n",
       "      <td>0.970835</td>\n",
       "      <td>1324.305347</td>\n",
       "      <td>1182.949403</td>\n",
       "      <td>141.355943</td>\n",
       "      <td>53.157313</td>\n",
       "      <td>78.783915</td>\n",
       "      <td>30.606054</td>\n",
       "      <td>0.184787</td>\n",
       "      <td>0.692403</td>\n",
       "      <td>0.072028</td>\n",
       "      <td>0.031374</td>\n",
       "    </tr>\n",
       "    <tr>\n",
       "      <td>G</td>\n",
       "      <td>1.451590e+10</td>\n",
       "      <td>0.999653</td>\n",
       "      <td>0.919237</td>\n",
       "      <td>0.261005</td>\n",
       "      <td>0.980936</td>\n",
       "      <td>4247.766724</td>\n",
       "      <td>3727.185789</td>\n",
       "      <td>520.580936</td>\n",
       "      <td>42.301560</td>\n",
       "      <td>571.745927</td>\n",
       "      <td>403.498094</td>\n",
       "      <td>0.513561</td>\n",
       "      <td>0.835011</td>\n",
       "      <td>0.072097</td>\n",
       "      <td>0.033969</td>\n",
       "    </tr>\n",
       "    <tr>\n",
       "      <td>O</td>\n",
       "      <td>1.442906e+10</td>\n",
       "      <td>0.999158</td>\n",
       "      <td>0.948610</td>\n",
       "      <td>0.656276</td>\n",
       "      <td>0.989048</td>\n",
       "      <td>12380.610783</td>\n",
       "      <td>11676.480202</td>\n",
       "      <td>704.130581</td>\n",
       "      <td>19.326032</td>\n",
       "      <td>2216.518955</td>\n",
       "      <td>1396.834035</td>\n",
       "      <td>0.834739</td>\n",
       "      <td>0.924061</td>\n",
       "      <td>0.055602</td>\n",
       "      <td>0.022746</td>\n",
       "    </tr>\n",
       "  </tbody>\n",
       "</table>\n",
       "</div>"
      ],
      "text/plain": [
       "                UNIQUE_COLLECTOR_ID  ACCOUNT_STATUS  LANGUAGE  \\\n",
       "COLLECTOR_TIER                                                  \n",
       "B                      1.452097e+10        0.999558  0.887318   \n",
       "G                      1.451590e+10        0.999653  0.919237   \n",
       "O                      1.442906e+10        0.999158  0.948610   \n",
       "\n",
       "                HOUSEHOLD_INCOME_CATEGORY  PROMO_MAILABLE_FLAG  \\\n",
       "COLLECTOR_TIER                                                   \n",
       "B                               -0.026293             0.970835   \n",
       "G                                0.261005             0.980936   \n",
       "O                                0.656276             0.989048   \n",
       "\n",
       "                ACCOUNT_BALANCE  DREAM_ACCOUNT_BALANCE  CASH_ACCOUNT_BALANCE  \\\n",
       "COLLECTOR_TIER                                                                 \n",
       "B                   1324.305347            1182.949403            141.355943   \n",
       "G                   4247.766724            3727.185789            520.580936   \n",
       "O                  12380.610783           11676.480202            704.130581   \n",
       "\n",
       "                CASH_RATIO  EARN_IN_CAMPAIGN_PERIOD  POST_1M_EARN  \\\n",
       "COLLECTOR_TIER                                                      \n",
       "B                53.157313                78.783915     30.606054   \n",
       "G                42.301560               571.745927    403.498094   \n",
       "O                19.326032              2216.518955   1396.834035   \n",
       "\n",
       "                WEB_ACTIVE_30DAYS  EMAIL_ENGAGED_30DAYS  RESPONDENT  \\\n",
       "COLLECTOR_TIER                                                        \n",
       "B                        0.184787              0.692403    0.072028   \n",
       "G                        0.513561              0.835011    0.072097   \n",
       "O                        0.834739              0.924061    0.055602   \n",
       "\n",
       "                CONTROL_FLAG  \n",
       "COLLECTOR_TIER                \n",
       "B                   0.031374  \n",
       "G                   0.033969  \n",
       "O                   0.022746  "
      ]
     },
     "execution_count": 163,
     "metadata": {},
     "output_type": "execute_result"
    }
   ],
   "source": [
    "df.groupby('COLLECTOR_TIER').mean()"
   ]
  },
  {
   "cell_type": "code",
   "execution_count": 164,
   "metadata": {},
   "outputs": [
    {
     "data": {
      "text/html": [
       "<div>\n",
       "<style scoped>\n",
       "    .dataframe tbody tr th:only-of-type {\n",
       "        vertical-align: middle;\n",
       "    }\n",
       "\n",
       "    .dataframe tbody tr th {\n",
       "        vertical-align: top;\n",
       "    }\n",
       "\n",
       "    .dataframe thead th {\n",
       "        text-align: right;\n",
       "    }\n",
       "</style>\n",
       "<table border=\"1\" class=\"dataframe\">\n",
       "  <thead>\n",
       "    <tr style=\"text-align: right;\">\n",
       "      <th></th>\n",
       "      <th>UNIQUE_COLLECTOR_ID</th>\n",
       "      <th>LANGUAGE</th>\n",
       "      <th>HOUSEHOLD_INCOME_CATEGORY</th>\n",
       "      <th>PROMO_MAILABLE_FLAG</th>\n",
       "      <th>ACCOUNT_BALANCE</th>\n",
       "      <th>DREAM_ACCOUNT_BALANCE</th>\n",
       "      <th>CASH_ACCOUNT_BALANCE</th>\n",
       "      <th>CASH_RATIO</th>\n",
       "      <th>EARN_IN_CAMPAIGN_PERIOD</th>\n",
       "      <th>POST_1M_EARN</th>\n",
       "      <th>WEB_ACTIVE_30DAYS</th>\n",
       "      <th>EMAIL_ENGAGED_30DAYS</th>\n",
       "      <th>RESPONDENT</th>\n",
       "      <th>CONTROL_FLAG</th>\n",
       "    </tr>\n",
       "    <tr>\n",
       "      <th>ACCOUNT_STATUS</th>\n",
       "      <th></th>\n",
       "      <th></th>\n",
       "      <th></th>\n",
       "      <th></th>\n",
       "      <th></th>\n",
       "      <th></th>\n",
       "      <th></th>\n",
       "      <th></th>\n",
       "      <th></th>\n",
       "      <th></th>\n",
       "      <th></th>\n",
       "      <th></th>\n",
       "      <th></th>\n",
       "      <th></th>\n",
       "    </tr>\n",
       "  </thead>\n",
       "  <tbody>\n",
       "    <tr>\n",
       "      <td>0</td>\n",
       "      <td>1.364872e+10</td>\n",
       "      <td>0.750000</td>\n",
       "      <td>-1.000000</td>\n",
       "      <td>0.000000</td>\n",
       "      <td>30.250000</td>\n",
       "      <td>14.25000</td>\n",
       "      <td>16.000000</td>\n",
       "      <td>50.00000</td>\n",
       "      <td>373.250000</td>\n",
       "      <td>224.250000</td>\n",
       "      <td>0.000000</td>\n",
       "      <td>0.500000</td>\n",
       "      <td>0.000000</td>\n",
       "      <td>0.000000</td>\n",
       "    </tr>\n",
       "    <tr>\n",
       "      <td>1</td>\n",
       "      <td>1.450698e+10</td>\n",
       "      <td>0.906563</td>\n",
       "      <td>0.164882</td>\n",
       "      <td>0.977193</td>\n",
       "      <td>3833.404352</td>\n",
       "      <td>3486.95427</td>\n",
       "      <td>346.450081</td>\n",
       "      <td>44.84175</td>\n",
       "      <td>539.397021</td>\n",
       "      <td>344.398418</td>\n",
       "      <td>0.386095</td>\n",
       "      <td>0.775987</td>\n",
       "      <td>0.069816</td>\n",
       "      <td>0.031068</td>\n",
       "    </tr>\n",
       "  </tbody>\n",
       "</table>\n",
       "</div>"
      ],
      "text/plain": [
       "                UNIQUE_COLLECTOR_ID  LANGUAGE  HOUSEHOLD_INCOME_CATEGORY  \\\n",
       "ACCOUNT_STATUS                                                             \n",
       "0                      1.364872e+10  0.750000                  -1.000000   \n",
       "1                      1.450698e+10  0.906563                   0.164882   \n",
       "\n",
       "                PROMO_MAILABLE_FLAG  ACCOUNT_BALANCE  DREAM_ACCOUNT_BALANCE  \\\n",
       "ACCOUNT_STATUS                                                                \n",
       "0                          0.000000        30.250000               14.25000   \n",
       "1                          0.977193      3833.404352             3486.95427   \n",
       "\n",
       "                CASH_ACCOUNT_BALANCE  CASH_RATIO  EARN_IN_CAMPAIGN_PERIOD  \\\n",
       "ACCOUNT_STATUS                                                              \n",
       "0                          16.000000    50.00000               373.250000   \n",
       "1                         346.450081    44.84175               539.397021   \n",
       "\n",
       "                POST_1M_EARN  WEB_ACTIVE_30DAYS  EMAIL_ENGAGED_30DAYS  \\\n",
       "ACCOUNT_STATUS                                                          \n",
       "0                 224.250000           0.000000              0.500000   \n",
       "1                 344.398418           0.386095              0.775987   \n",
       "\n",
       "                RESPONDENT  CONTROL_FLAG  \n",
       "ACCOUNT_STATUS                            \n",
       "0                 0.000000      0.000000  \n",
       "1                 0.069816      0.031068  "
      ]
     },
     "execution_count": 164,
     "metadata": {},
     "output_type": "execute_result"
    }
   ],
   "source": [
    "df.groupby('ACCOUNT_STATUS').mean()"
   ]
  },
  {
   "cell_type": "code",
   "execution_count": 165,
   "metadata": {},
   "outputs": [
    {
     "data": {
      "text/plain": [
       "Text(0, 0.5, 'Number of Respondents')"
      ]
     },
     "execution_count": 165,
     "metadata": {},
     "output_type": "execute_result"
    },
    {
     "data": {
      "image/png": "[encoded data removed]",
      "text/plain": [
       "<Figure size 432x288 with 1 Axes>"
      ]
     },
     "metadata": {
      "needs_background": "light"
     },
     "output_type": "display_data"
    }
   ],
   "source": [
    "%matplotlib inline\n",
    "pd.crosstab(df.HOUSEHOLD_INCOME_CATEGORY,df.RESPONDENT).plot(kind='bar')\n",
    "plt.title('Respondents for Household Income Categories')\n",
    "plt.xlabel('Category of Household Income')\n",
    "plt.ylabel('Number of Respondents')\n",
    "#plt.savefig('Account_Balance_and_Income')"
   ]
  },
  {
   "cell_type": "code",
   "execution_count": 19,
   "metadata": {},
   "outputs": [
    {
     "data": {
      "text/plain": [
       "<function matplotlib.pyplot.show(*args, **kw)>"
      ]
     },
     "execution_count": 19,
     "metadata": {},
     "output_type": "execute_result"
    },
    {
     "data": {
      "image/png": "[encoded data removed]",
      "text/plain": [
       "<Figure size 1440x1080 with 16 Axes>"
      ]
     },
     "metadata": {
      "needs_background": "light"
     },
     "output_type": "display_data"
    }
   ],
   "source": [
    "%matplotlib inline\n",
    "import matplotlib.pyplot as plt\n",
    "df.hist(bins=25,figsize=(20,15))\n",
    "#save_fig(\"attribute_histogram_plots\")\n",
    "plt.show"
   ]
  },
  {
   "cell_type": "markdown",
   "metadata": {},
   "source": [
    "# 3. Data cleaning"
   ]
  },
  {
   "cell_type": "markdown",
   "metadata": {},
   "source": [
    "## 3.1 Dealing with missing values and outliers"
   ]
  },
  {
   "cell_type": "code",
   "execution_count": 204,
   "metadata": {},
   "outputs": [
    {
     "name": "stdout",
     "output_type": "stream",
     "text": [
      "<class 'pandas.core.frame.DataFrame'>\n",
      "Int64Index: 6158 entries, 0 to 8597\n",
      "Data columns (total 25 columns):\n",
      "UNIQUE_COLLECTOR_ID           6158 non-null int64\n",
      "ACCOUNT_STATUS                6158 non-null int64\n",
      "COLLECTOR_TIER                6158 non-null category\n",
      "ENROLLMENT_DATE               6158 non-null datetime64[ns]\n",
      "BIRTHDATE                     6158 non-null object\n",
      "GENDER                        6158 non-null object\n",
      "LANGUAGE                      6158 non-null int64\n",
      "HOUSEHOLD_INCOME_CATEGORY     6158 non-null int64\n",
      "HOME_ADDRESS_CITY             6158 non-null category\n",
      "HOME_ADDRESS_PROVINCE_CODE    6158 non-null category\n",
      "HOME_ADDRESS_REGION_CODE      6158 non-null category\n",
      "PROMO_MAILABLE_FLAG           6158 non-null int64\n",
      "ACCOUNT_BALANCE               6158 non-null int64\n",
      "DREAM_ACCOUNT_BALANCE         6158 non-null int64\n",
      "CASH_ACCOUNT_BALANCE          6158 non-null int64\n",
      "CASH_RATIO                    6158 non-null int64\n",
      "LAST_RATIO_CHG_DATE           4422 non-null datetime64[ns]\n",
      "EMAIL_OPT_IN_FLAG             6158 non-null object\n",
      "EARN_IN_CAMPAIGN_PERIOD       6158 non-null int64\n",
      "POST_1M_EARN                  6158 non-null int64\n",
      "WEB_ACTIVE_30DAYS             6158 non-null float64\n",
      "EMAIL_ENGAGED_30DAYS          6158 non-null float64\n",
      "RESPONDENT                    6158 non-null int64\n",
      "DATE_OF_RESPONSE              414 non-null datetime64[ns]\n",
      "CONTROL_FLAG                  6158 non-null int64\n",
      "dtypes: category(4), datetime64[ns](3), float64(2), int64(13), object(3)\n",
      "memory usage: 1.1+ MB\n"
     ]
    }
   ],
   "source": [
    "## Dealing with missing features (GENDER,EMAIL_OPT_IN_FLAG, WEB_ACTIVE_30DAYS, EMAIL_ENGAGED_30DAY)\n",
    "df_dropna=df.dropna(subset=[\"GENDER\"])\n",
    "df_dropna=df_dropna.dropna(subset=[\"EMAIL_ENGAGED_30DAYS\"])\n",
    "df_dropna=df_dropna.dropna(subset=[\"WEB_ACTIVE_30DAYS\"])\n",
    "df_dropna=df_dropna.dropna(subset=[\"EMAIL_OPT_IN_FLAG\"])\n",
    "#df_dropna=df_dropna[(df_dropna['TEST_ACCOUNT_FLAG'] == \"N\")]\n",
    "\n",
    "#Remove outliers of BIRTHDATE \n",
    "df_dropna=df_dropna[(df_dropna[\"BIRTHDATE\"]!='0001-01-01') & (df_dropna['TEST_ACCOUNT_FLAG'] == \"N\")]\n",
    "#Remove all test account data (2 accounts) \n",
    "df_dropna=df_dropna.drop(\"TEST_ACCOUNT_FLAG\",axis=1)\n",
    "df_dropna.info()"
   ]
  },
  {
   "cell_type": "code",
   "execution_count": 205,
   "metadata": {},
   "outputs": [
    {
     "data": {
      "text/plain": [
       "Series([], Name: BIRTHDATE, dtype: object)"
      ]
     },
     "execution_count": 205,
     "metadata": {},
     "output_type": "execute_result"
    }
   ],
   "source": [
    "df_dropna.loc[df_dropna['BIRTHDATE']=='0001-01-01','BIRTHDATE']"
   ]
  },
  {
   "cell_type": "markdown",
   "metadata": {},
   "source": [
    "## 3.2 Changing data types"
   ]
  },
  {
   "cell_type": "code",
   "execution_count": 206,
   "metadata": {},
   "outputs": [],
   "source": [
    "## Converting data types\n",
    "df_dropna[\"HOUSEHOLD_INCOME_CATEGORY\"]=df_dropna[\"HOUSEHOLD_INCOME_CATEGORY\"].astype('category')\n",
    "df_dropna[\"WEB_ACTIVE_30DAYS\"]=df_dropna[\"WEB_ACTIVE_30DAYS\"].astype('int64')\n",
    "df_dropna[\"EMAIL_ENGAGED_30DAYS\"]=df_dropna[\"EMAIL_ENGAGED_30DAYS\"].astype('int64')\n",
    "\n",
    "##Converting dummy variables: \n",
    "#df_dropna['RESPONDENT'] = df_dropna['RESPONDENT'].map({'Y': 1, 'N': 0})\n",
    "df_dropna['GENDER'] = df_dropna['GENDER'].map({'F': 0, 'M': 1})\n",
    "\n",
    "df_dropna['EMAIL_OPT_IN_FLAG'] = df_dropna['EMAIL_OPT_IN_FLAG'].map({'Y': 1, 'N': 0})"
   ]
  },
  {
   "cell_type": "code",
   "execution_count": 207,
   "metadata": {},
   "outputs": [
    {
     "name": "stdout",
     "output_type": "stream",
     "text": [
      "<class 'pandas.core.frame.DataFrame'>\n",
      "Int64Index: 6158 entries, 0 to 8597\n",
      "Data columns (total 25 columns):\n",
      "UNIQUE_COLLECTOR_ID           6158 non-null int64\n",
      "ACCOUNT_STATUS                6158 non-null int64\n",
      "COLLECTOR_TIER                6158 non-null category\n",
      "ENROLLMENT_DATE               6158 non-null datetime64[ns]\n",
      "BIRTHDATE                     6158 non-null object\n",
      "GENDER                        6158 non-null int64\n",
      "LANGUAGE                      6158 non-null int64\n",
      "HOUSEHOLD_INCOME_CATEGORY     6158 non-null category\n",
      "HOME_ADDRESS_CITY             6158 non-null category\n",
      "HOME_ADDRESS_PROVINCE_CODE    6158 non-null category\n",
      "HOME_ADDRESS_REGION_CODE      6158 non-null category\n",
      "PROMO_MAILABLE_FLAG           6158 non-null int64\n",
      "ACCOUNT_BALANCE               6158 non-null int64\n",
      "DREAM_ACCOUNT_BALANCE         6158 non-null int64\n",
      "CASH_ACCOUNT_BALANCE          6158 non-null int64\n",
      "CASH_RATIO                    6158 non-null int64\n",
      "LAST_RATIO_CHG_DATE           4422 non-null datetime64[ns]\n",
      "EMAIL_OPT_IN_FLAG             6158 non-null int64\n",
      "EARN_IN_CAMPAIGN_PERIOD       6158 non-null int64\n",
      "POST_1M_EARN                  6158 non-null int64\n",
      "WEB_ACTIVE_30DAYS             6158 non-null int64\n",
      "EMAIL_ENGAGED_30DAYS          6158 non-null int64\n",
      "RESPONDENT                    6158 non-null int64\n",
      "DATE_OF_RESPONSE              414 non-null datetime64[ns]\n",
      "CONTROL_FLAG                  6158 non-null int64\n",
      "dtypes: category(5), datetime64[ns](3), int64(16), object(1)\n",
      "memory usage: 1.1+ MB\n"
     ]
    }
   ],
   "source": [
    "df_dropna.info()"
   ]
  },
  {
   "cell_type": "code",
   "execution_count": 208,
   "metadata": {},
   "outputs": [
    {
     "data": {
      "text/plain": [
       "0    5744\n",
       "1     414\n",
       "Name: RESPONDENT, dtype: int64"
      ]
     },
     "execution_count": 208,
     "metadata": {},
     "output_type": "execute_result"
    }
   ],
   "source": [
    "df_dropna['RESPONDENT'].value_counts()"
   ]
  },
  {
   "cell_type": "markdown",
   "metadata": {},
   "source": [
    "## 3.3 Populating additional numerical features (AGE, YEARS_OF_ENROLL) catogerical features (AGE_CAT, YEARS_OF_ENROLL_CAT;)"
   ]
  },
  {
   "cell_type": "code",
   "execution_count": 25,
   "metadata": {},
   "outputs": [],
   "source": [
    "##Convert datatype of BIRTHDATE\n",
    "from datetime import datetime\n",
    "#df[\"BIRTHDATE\"] = pd.to_datetime(df[\"BIRTHDATE\"])\n",
    "df_dropna[\"BIRTHDATE\"] = pd.to_datetime(df_dropna[\"BIRTHDATE\"])"
   ]
  },
  {
   "cell_type": "code",
   "execution_count": 26,
   "metadata": {},
   "outputs": [],
   "source": [
    "from dateutil.relativedelta import relativedelta\n",
    "a= datetime.strptime('May 15, 2017, 00:00:00',\"%B %d, %Y, %H:%M:%S\")\n",
    "df_dropna[\"AGE\"] = [relativedelta(a, i).years for i in df_dropna[\"BIRTHDATE\"]]"
   ]
  },
  {
   "cell_type": "code",
   "execution_count": 27,
   "metadata": {},
   "outputs": [],
   "source": [
    "df_dropna[\"YEARS_OF_ENROLL\"] = [relativedelta(a, i).years for i in df_dropna[\"ENROLLMENT_DATE\"]]"
   ]
  },
  {
   "cell_type": "code",
   "execution_count": 28,
   "metadata": {},
   "outputs": [
    {
     "data": {
      "text/html": [
       "<div>\n",
       "<style scoped>\n",
       "    .dataframe tbody tr th:only-of-type {\n",
       "        vertical-align: middle;\n",
       "    }\n",
       "\n",
       "    .dataframe tbody tr th {\n",
       "        vertical-align: top;\n",
       "    }\n",
       "\n",
       "    .dataframe thead th {\n",
       "        text-align: right;\n",
       "    }\n",
       "</style>\n",
       "<table border=\"1\" class=\"dataframe\">\n",
       "  <thead>\n",
       "    <tr style=\"text-align: right;\">\n",
       "      <th></th>\n",
       "      <th>UNIQUE_COLLECTOR_ID</th>\n",
       "      <th>ACCOUNT_STATUS</th>\n",
       "      <th>GENDER</th>\n",
       "      <th>LANGUAGE</th>\n",
       "      <th>PROMO_MAILABLE_FLAG</th>\n",
       "      <th>ACCOUNT_BALANCE</th>\n",
       "      <th>DREAM_ACCOUNT_BALANCE</th>\n",
       "      <th>CASH_ACCOUNT_BALANCE</th>\n",
       "      <th>CASH_RATIO</th>\n",
       "      <th>EMAIL_OPT_IN_FLAG</th>\n",
       "      <th>EARN_IN_CAMPAIGN_PERIOD</th>\n",
       "      <th>POST_1M_EARN</th>\n",
       "      <th>WEB_ACTIVE_30DAYS</th>\n",
       "      <th>EMAIL_ENGAGED_30DAYS</th>\n",
       "      <th>RESPONDENT</th>\n",
       "      <th>CONTROL_FLAG</th>\n",
       "      <th>AGE</th>\n",
       "      <th>YEARS_OF_ENROLL</th>\n",
       "    </tr>\n",
       "  </thead>\n",
       "  <tbody>\n",
       "    <tr>\n",
       "      <td>count</td>\n",
       "      <td>6.158000e+03</td>\n",
       "      <td>6158.000000</td>\n",
       "      <td>6158.000000</td>\n",
       "      <td>6158.000000</td>\n",
       "      <td>6158.000000</td>\n",
       "      <td>6158.000000</td>\n",
       "      <td>6158.000000</td>\n",
       "      <td>6158.000000</td>\n",
       "      <td>6158.000000</td>\n",
       "      <td>6158.0</td>\n",
       "      <td>6158.000000</td>\n",
       "      <td>6158.000000</td>\n",
       "      <td>6158.000000</td>\n",
       "      <td>6158.000000</td>\n",
       "      <td>6158.00000</td>\n",
       "      <td>6158.000000</td>\n",
       "      <td>6158.000000</td>\n",
       "      <td>6158.000000</td>\n",
       "    </tr>\n",
       "    <tr>\n",
       "      <td>mean</td>\n",
       "      <td>1.452869e+10</td>\n",
       "      <td>0.999675</td>\n",
       "      <td>0.369113</td>\n",
       "      <td>0.905651</td>\n",
       "      <td>0.978077</td>\n",
       "      <td>4017.920429</td>\n",
       "      <td>3652.958103</td>\n",
       "      <td>364.962325</td>\n",
       "      <td>44.952907</td>\n",
       "      <td>1.0</td>\n",
       "      <td>577.588665</td>\n",
       "      <td>375.094511</td>\n",
       "      <td>0.406788</td>\n",
       "      <td>0.777038</td>\n",
       "      <td>0.06723</td>\n",
       "      <td>0.029717</td>\n",
       "      <td>42.455018</td>\n",
       "      <td>13.684475</td>\n",
       "    </tr>\n",
       "    <tr>\n",
       "      <td>std</td>\n",
       "      <td>2.605354e+09</td>\n",
       "      <td>0.018020</td>\n",
       "      <td>0.482604</td>\n",
       "      <td>0.292337</td>\n",
       "      <td>0.146443</td>\n",
       "      <td>8350.561556</td>\n",
       "      <td>8225.860460</td>\n",
       "      <td>1255.986411</td>\n",
       "      <td>47.384981</td>\n",
       "      <td>0.0</td>\n",
       "      <td>1180.714415</td>\n",
       "      <td>698.968168</td>\n",
       "      <td>0.491275</td>\n",
       "      <td>0.416267</td>\n",
       "      <td>0.25044</td>\n",
       "      <td>0.169820</td>\n",
       "      <td>10.701185</td>\n",
       "      <td>7.695141</td>\n",
       "    </tr>\n",
       "    <tr>\n",
       "      <td>min</td>\n",
       "      <td>1.000120e+10</td>\n",
       "      <td>0.000000</td>\n",
       "      <td>0.000000</td>\n",
       "      <td>0.000000</td>\n",
       "      <td>0.000000</td>\n",
       "      <td>-312.000000</td>\n",
       "      <td>0.000000</td>\n",
       "      <td>-312.000000</td>\n",
       "      <td>0.000000</td>\n",
       "      <td>1.0</td>\n",
       "      <td>-1145.000000</td>\n",
       "      <td>-1079.000000</td>\n",
       "      <td>0.000000</td>\n",
       "      <td>0.000000</td>\n",
       "      <td>0.00000</td>\n",
       "      <td>0.000000</td>\n",
       "      <td>15.000000</td>\n",
       "      <td>0.000000</td>\n",
       "    </tr>\n",
       "    <tr>\n",
       "      <td>25%</td>\n",
       "      <td>1.225627e+10</td>\n",
       "      <td>1.000000</td>\n",
       "      <td>0.000000</td>\n",
       "      <td>1.000000</td>\n",
       "      <td>1.000000</td>\n",
       "      <td>326.000000</td>\n",
       "      <td>108.000000</td>\n",
       "      <td>0.000000</td>\n",
       "      <td>0.000000</td>\n",
       "      <td>1.0</td>\n",
       "      <td>48.000000</td>\n",
       "      <td>13.000000</td>\n",
       "      <td>0.000000</td>\n",
       "      <td>1.000000</td>\n",
       "      <td>0.00000</td>\n",
       "      <td>0.000000</td>\n",
       "      <td>35.000000</td>\n",
       "      <td>8.000000</td>\n",
       "    </tr>\n",
       "    <tr>\n",
       "      <td>50%</td>\n",
       "      <td>1.456125e+10</td>\n",
       "      <td>1.000000</td>\n",
       "      <td>0.000000</td>\n",
       "      <td>1.000000</td>\n",
       "      <td>1.000000</td>\n",
       "      <td>1363.000000</td>\n",
       "      <td>955.000000</td>\n",
       "      <td>35.000000</td>\n",
       "      <td>10.000000</td>\n",
       "      <td>1.0</td>\n",
       "      <td>182.000000</td>\n",
       "      <td>60.000000</td>\n",
       "      <td>0.000000</td>\n",
       "      <td>1.000000</td>\n",
       "      <td>0.00000</td>\n",
       "      <td>0.000000</td>\n",
       "      <td>42.000000</td>\n",
       "      <td>15.000000</td>\n",
       "    </tr>\n",
       "    <tr>\n",
       "      <td>75%</td>\n",
       "      <td>1.680942e+10</td>\n",
       "      <td>1.000000</td>\n",
       "      <td>1.000000</td>\n",
       "      <td>1.000000</td>\n",
       "      <td>1.000000</td>\n",
       "      <td>4459.750000</td>\n",
       "      <td>4019.000000</td>\n",
       "      <td>139.000000</td>\n",
       "      <td>100.000000</td>\n",
       "      <td>1.0</td>\n",
       "      <td>610.750000</td>\n",
       "      <td>409.000000</td>\n",
       "      <td>1.000000</td>\n",
       "      <td>1.000000</td>\n",
       "      <td>0.00000</td>\n",
       "      <td>0.000000</td>\n",
       "      <td>49.000000</td>\n",
       "      <td>20.000000</td>\n",
       "    </tr>\n",
       "    <tr>\n",
       "      <td>max</td>\n",
       "      <td>1.899778e+10</td>\n",
       "      <td>1.000000</td>\n",
       "      <td>1.000000</td>\n",
       "      <td>1.000000</td>\n",
       "      <td>1.000000</td>\n",
       "      <td>271188.000000</td>\n",
       "      <td>271188.000000</td>\n",
       "      <td>33335.000000</td>\n",
       "      <td>100.000000</td>\n",
       "      <td>1.0</td>\n",
       "      <td>30213.000000</td>\n",
       "      <td>19699.000000</td>\n",
       "      <td>1.000000</td>\n",
       "      <td>1.000000</td>\n",
       "      <td>1.00000</td>\n",
       "      <td>1.000000</td>\n",
       "      <td>87.000000</td>\n",
       "      <td>25.000000</td>\n",
       "    </tr>\n",
       "  </tbody>\n",
       "</table>\n",
       "</div>"
      ],
      "text/plain": [
       "       UNIQUE_COLLECTOR_ID  ACCOUNT_STATUS       GENDER     LANGUAGE  \\\n",
       "count         6.158000e+03     6158.000000  6158.000000  6158.000000   \n",
       "mean          1.452869e+10        0.999675     0.369113     0.905651   \n",
       "std           2.605354e+09        0.018020     0.482604     0.292337   \n",
       "min           1.000120e+10        0.000000     0.000000     0.000000   \n",
       "25%           1.225627e+10        1.000000     0.000000     1.000000   \n",
       "50%           1.456125e+10        1.000000     0.000000     1.000000   \n",
       "75%           1.680942e+10        1.000000     1.000000     1.000000   \n",
       "max           1.899778e+10        1.000000     1.000000     1.000000   \n",
       "\n",
       "       PROMO_MAILABLE_FLAG  ACCOUNT_BALANCE  DREAM_ACCOUNT_BALANCE  \\\n",
       "count          6158.000000      6158.000000            6158.000000   \n",
       "mean              0.978077      4017.920429            3652.958103   \n",
       "std               0.146443      8350.561556            8225.860460   \n",
       "min               0.000000      -312.000000               0.000000   \n",
       "25%               1.000000       326.000000             108.000000   \n",
       "50%               1.000000      1363.000000             955.000000   \n",
       "75%               1.000000      4459.750000            4019.000000   \n",
       "max               1.000000    271188.000000          271188.000000   \n",
       "\n",
       "       CASH_ACCOUNT_BALANCE   CASH_RATIO  EMAIL_OPT_IN_FLAG  \\\n",
       "count           6158.000000  6158.000000             6158.0   \n",
       "mean             364.962325    44.952907                1.0   \n",
       "std             1255.986411    47.384981                0.0   \n",
       "min             -312.000000     0.000000                1.0   \n",
       "25%                0.000000     0.000000                1.0   \n",
       "50%               35.000000    10.000000                1.0   \n",
       "75%              139.000000   100.000000                1.0   \n",
       "max            33335.000000   100.000000                1.0   \n",
       "\n",
       "       EARN_IN_CAMPAIGN_PERIOD  POST_1M_EARN  WEB_ACTIVE_30DAYS  \\\n",
       "count              6158.000000   6158.000000        6158.000000   \n",
       "mean                577.588665    375.094511           0.406788   \n",
       "std                1180.714415    698.968168           0.491275   \n",
       "min               -1145.000000  -1079.000000           0.000000   \n",
       "25%                  48.000000     13.000000           0.000000   \n",
       "50%                 182.000000     60.000000           0.000000   \n",
       "75%                 610.750000    409.000000           1.000000   \n",
       "max               30213.000000  19699.000000           1.000000   \n",
       "\n",
       "       EMAIL_ENGAGED_30DAYS  RESPONDENT  CONTROL_FLAG          AGE  \\\n",
       "count           6158.000000  6158.00000   6158.000000  6158.000000   \n",
       "mean               0.777038     0.06723      0.029717    42.455018   \n",
       "std                0.416267     0.25044      0.169820    10.701185   \n",
       "min                0.000000     0.00000      0.000000    15.000000   \n",
       "25%                1.000000     0.00000      0.000000    35.000000   \n",
       "50%                1.000000     0.00000      0.000000    42.000000   \n",
       "75%                1.000000     0.00000      0.000000    49.000000   \n",
       "max                1.000000     1.00000      1.000000    87.000000   \n",
       "\n",
       "       YEARS_OF_ENROLL  \n",
       "count      6158.000000  \n",
       "mean         13.684475  \n",
       "std           7.695141  \n",
       "min           0.000000  \n",
       "25%           8.000000  \n",
       "50%          15.000000  \n",
       "75%          20.000000  \n",
       "max          25.000000  "
      ]
     },
     "execution_count": 28,
     "metadata": {},
     "output_type": "execute_result"
    }
   ],
   "source": [
    "df_dropna.describe()"
   ]
  },
  {
   "cell_type": "code",
   "execution_count": 29,
   "metadata": {},
   "outputs": [
    {
     "data": {
      "text/plain": [
       "<matplotlib.axes._subplots.AxesSubplot at 0x17060e6fbc8>"
      ]
     },
     "execution_count": 29,
     "metadata": {},
     "output_type": "execute_result"
    },
    {
     "data": {
      "image/png": "[encoded data removed]",
      "text/plain": [
       "<Figure size 432x288 with 1 Axes>"
      ]
     },
     "metadata": {
      "needs_background": "light"
     },
     "output_type": "display_data"
    }
   ],
   "source": [
    "df_dropna['AGE_CAT']=pd.cut(df_dropna['AGE'],\n",
    "                            bins=[0,25,45,65, np.inf],\n",
    "                            labels=[1,2,3,4])\n",
    "df_dropna['AGE_CAT'].hist()"
   ]
  },
  {
   "cell_type": "code",
   "execution_count": 30,
   "metadata": {},
   "outputs": [
    {
     "data": {
      "text/plain": [
       "<matplotlib.axes._subplots.AxesSubplot at 0x170606e5c08>"
      ]
     },
     "execution_count": 30,
     "metadata": {},
     "output_type": "execute_result"
    },
    {
     "data": {
      "image/png": "[encoded data removed]",
      "text/plain": [
       "<Figure size 432x288 with 1 Axes>"
      ]
     },
     "metadata": {
      "needs_background": "light"
     },
     "output_type": "display_data"
    }
   ],
   "source": [
    "df_dropna['YEARS_OF_ENROLL_CAT']=pd.cut(df_dropna['YEARS_OF_ENROLL'],\n",
    "                            bins=[-1,5,10,15,20, np.inf],\n",
    "                            labels=[1,2,3,4,5])\n",
    "df_dropna['YEARS_OF_ENROLL_CAT'].hist()"
   ]
  },
  {
   "cell_type": "code",
   "execution_count": 31,
   "metadata": {},
   "outputs": [
    {
     "data": {
      "text/html": [
       "<div>\n",
       "<style scoped>\n",
       "    .dataframe tbody tr th:only-of-type {\n",
       "        vertical-align: middle;\n",
       "    }\n",
       "\n",
       "    .dataframe tbody tr th {\n",
       "        vertical-align: top;\n",
       "    }\n",
       "\n",
       "    .dataframe thead th {\n",
       "        text-align: right;\n",
       "    }\n",
       "</style>\n",
       "<table border=\"1\" class=\"dataframe\">\n",
       "  <thead>\n",
       "    <tr style=\"text-align: right;\">\n",
       "      <th></th>\n",
       "      <th>UNIQUE_COLLECTOR_ID</th>\n",
       "      <th>ACCOUNT_STATUS</th>\n",
       "      <th>GENDER</th>\n",
       "      <th>LANGUAGE</th>\n",
       "      <th>PROMO_MAILABLE_FLAG</th>\n",
       "      <th>ACCOUNT_BALANCE</th>\n",
       "      <th>DREAM_ACCOUNT_BALANCE</th>\n",
       "      <th>CASH_ACCOUNT_BALANCE</th>\n",
       "      <th>CASH_RATIO</th>\n",
       "      <th>EMAIL_OPT_IN_FLAG</th>\n",
       "      <th>EARN_IN_CAMPAIGN_PERIOD</th>\n",
       "      <th>POST_1M_EARN</th>\n",
       "      <th>WEB_ACTIVE_30DAYS</th>\n",
       "      <th>EMAIL_ENGAGED_30DAYS</th>\n",
       "      <th>CONTROL_FLAG</th>\n",
       "      <th>AGE</th>\n",
       "      <th>YEARS_OF_ENROLL</th>\n",
       "    </tr>\n",
       "    <tr>\n",
       "      <th>RESPONDENT</th>\n",
       "      <th></th>\n",
       "      <th></th>\n",
       "      <th></th>\n",
       "      <th></th>\n",
       "      <th></th>\n",
       "      <th></th>\n",
       "      <th></th>\n",
       "      <th></th>\n",
       "      <th></th>\n",
       "      <th></th>\n",
       "      <th></th>\n",
       "      <th></th>\n",
       "      <th></th>\n",
       "      <th></th>\n",
       "      <th></th>\n",
       "      <th></th>\n",
       "      <th></th>\n",
       "    </tr>\n",
       "  </thead>\n",
       "  <tbody>\n",
       "    <tr>\n",
       "      <td>0</td>\n",
       "      <td>1.453868e+10</td>\n",
       "      <td>0.999652</td>\n",
       "      <td>0.37117</td>\n",
       "      <td>0.906511</td>\n",
       "      <td>0.977368</td>\n",
       "      <td>3996.621518</td>\n",
       "      <td>3627.789345</td>\n",
       "      <td>368.832173</td>\n",
       "      <td>45.015669</td>\n",
       "      <td>1.0</td>\n",
       "      <td>575.713788</td>\n",
       "      <td>373.958217</td>\n",
       "      <td>0.405641</td>\n",
       "      <td>0.77977</td>\n",
       "      <td>0.029074</td>\n",
       "      <td>42.440460</td>\n",
       "      <td>13.697772</td>\n",
       "    </tr>\n",
       "    <tr>\n",
       "      <td>1</td>\n",
       "      <td>1.439011e+10</td>\n",
       "      <td>1.000000</td>\n",
       "      <td>0.34058</td>\n",
       "      <td>0.893720</td>\n",
       "      <td>0.987923</td>\n",
       "      <td>4313.429952</td>\n",
       "      <td>4002.159420</td>\n",
       "      <td>311.270531</td>\n",
       "      <td>44.082126</td>\n",
       "      <td>1.0</td>\n",
       "      <td>603.601449</td>\n",
       "      <td>390.859903</td>\n",
       "      <td>0.422705</td>\n",
       "      <td>0.73913</td>\n",
       "      <td>0.038647</td>\n",
       "      <td>42.657005</td>\n",
       "      <td>13.500000</td>\n",
       "    </tr>\n",
       "  </tbody>\n",
       "</table>\n",
       "</div>"
      ],
      "text/plain": [
       "            UNIQUE_COLLECTOR_ID  ACCOUNT_STATUS   GENDER  LANGUAGE  \\\n",
       "RESPONDENT                                                           \n",
       "0                  1.453868e+10        0.999652  0.37117  0.906511   \n",
       "1                  1.439011e+10        1.000000  0.34058  0.893720   \n",
       "\n",
       "            PROMO_MAILABLE_FLAG  ACCOUNT_BALANCE  DREAM_ACCOUNT_BALANCE  \\\n",
       "RESPONDENT                                                                \n",
       "0                      0.977368      3996.621518            3627.789345   \n",
       "1                      0.987923      4313.429952            4002.159420   \n",
       "\n",
       "            CASH_ACCOUNT_BALANCE  CASH_RATIO  EMAIL_OPT_IN_FLAG  \\\n",
       "RESPONDENT                                                        \n",
       "0                     368.832173   45.015669                1.0   \n",
       "1                     311.270531   44.082126                1.0   \n",
       "\n",
       "            EARN_IN_CAMPAIGN_PERIOD  POST_1M_EARN  WEB_ACTIVE_30DAYS  \\\n",
       "RESPONDENT                                                             \n",
       "0                        575.713788    373.958217           0.405641   \n",
       "1                        603.601449    390.859903           0.422705   \n",
       "\n",
       "            EMAIL_ENGAGED_30DAYS  CONTROL_FLAG        AGE  YEARS_OF_ENROLL  \n",
       "RESPONDENT                                                                  \n",
       "0                        0.77977      0.029074  42.440460        13.697772  \n",
       "1                        0.73913      0.038647  42.657005        13.500000  "
      ]
     },
     "execution_count": 31,
     "metadata": {},
     "output_type": "execute_result"
    }
   ],
   "source": [
    "df_dropna.groupby('RESPONDENT').mean()"
   ]
  },
  {
   "cell_type": "code",
   "execution_count": 32,
   "metadata": {},
   "outputs": [
    {
     "data": {
      "text/html": [
       "<div>\n",
       "<style scoped>\n",
       "    .dataframe tbody tr th:only-of-type {\n",
       "        vertical-align: middle;\n",
       "    }\n",
       "\n",
       "    .dataframe tbody tr th {\n",
       "        vertical-align: top;\n",
       "    }\n",
       "\n",
       "    .dataframe thead th {\n",
       "        text-align: right;\n",
       "    }\n",
       "</style>\n",
       "<table border=\"1\" class=\"dataframe\">\n",
       "  <thead>\n",
       "    <tr style=\"text-align: right;\">\n",
       "      <th></th>\n",
       "      <th>UNIQUE_COLLECTOR_ID</th>\n",
       "      <th>ACCOUNT_STATUS</th>\n",
       "      <th>GENDER</th>\n",
       "      <th>LANGUAGE</th>\n",
       "      <th>PROMO_MAILABLE_FLAG</th>\n",
       "      <th>ACCOUNT_BALANCE</th>\n",
       "      <th>DREAM_ACCOUNT_BALANCE</th>\n",
       "      <th>CASH_ACCOUNT_BALANCE</th>\n",
       "      <th>CASH_RATIO</th>\n",
       "      <th>EMAIL_OPT_IN_FLAG</th>\n",
       "      <th>EARN_IN_CAMPAIGN_PERIOD</th>\n",
       "      <th>POST_1M_EARN</th>\n",
       "      <th>WEB_ACTIVE_30DAYS</th>\n",
       "      <th>EMAIL_ENGAGED_30DAYS</th>\n",
       "      <th>RESPONDENT</th>\n",
       "      <th>CONTROL_FLAG</th>\n",
       "      <th>AGE</th>\n",
       "      <th>YEARS_OF_ENROLL</th>\n",
       "    </tr>\n",
       "    <tr>\n",
       "      <th>AGE_CAT</th>\n",
       "      <th></th>\n",
       "      <th></th>\n",
       "      <th></th>\n",
       "      <th></th>\n",
       "      <th></th>\n",
       "      <th></th>\n",
       "      <th></th>\n",
       "      <th></th>\n",
       "      <th></th>\n",
       "      <th></th>\n",
       "      <th></th>\n",
       "      <th></th>\n",
       "      <th></th>\n",
       "      <th></th>\n",
       "      <th></th>\n",
       "      <th></th>\n",
       "      <th></th>\n",
       "      <th></th>\n",
       "    </tr>\n",
       "  </thead>\n",
       "  <tbody>\n",
       "    <tr>\n",
       "      <td>1</td>\n",
       "      <td>1.437462e+10</td>\n",
       "      <td>1.000000</td>\n",
       "      <td>0.337423</td>\n",
       "      <td>0.874233</td>\n",
       "      <td>0.984663</td>\n",
       "      <td>1176.438650</td>\n",
       "      <td>956.009202</td>\n",
       "      <td>220.429448</td>\n",
       "      <td>55.276074</td>\n",
       "      <td>1.0</td>\n",
       "      <td>286.024540</td>\n",
       "      <td>171.174847</td>\n",
       "      <td>0.239264</td>\n",
       "      <td>0.650307</td>\n",
       "      <td>0.088957</td>\n",
       "      <td>0.033742</td>\n",
       "      <td>21.874233</td>\n",
       "      <td>1.726994</td>\n",
       "    </tr>\n",
       "    <tr>\n",
       "      <td>2</td>\n",
       "      <td>1.450843e+10</td>\n",
       "      <td>1.000000</td>\n",
       "      <td>0.351642</td>\n",
       "      <td>0.900623</td>\n",
       "      <td>0.977067</td>\n",
       "      <td>3347.818516</td>\n",
       "      <td>3018.562571</td>\n",
       "      <td>329.255946</td>\n",
       "      <td>45.741789</td>\n",
       "      <td>1.0</td>\n",
       "      <td>483.821348</td>\n",
       "      <td>332.433182</td>\n",
       "      <td>0.373443</td>\n",
       "      <td>0.753681</td>\n",
       "      <td>0.064270</td>\n",
       "      <td>0.032276</td>\n",
       "      <td>37.177520</td>\n",
       "      <td>11.928652</td>\n",
       "    </tr>\n",
       "    <tr>\n",
       "      <td>3</td>\n",
       "      <td>1.457991e+10</td>\n",
       "      <td>0.999075</td>\n",
       "      <td>0.401294</td>\n",
       "      <td>0.917707</td>\n",
       "      <td>0.977809</td>\n",
       "      <td>5471.038373</td>\n",
       "      <td>5028.179380</td>\n",
       "      <td>442.858992</td>\n",
       "      <td>42.246879</td>\n",
       "      <td>1.0</td>\n",
       "      <td>754.375405</td>\n",
       "      <td>469.328248</td>\n",
       "      <td>0.478964</td>\n",
       "      <td>0.828479</td>\n",
       "      <td>0.063338</td>\n",
       "      <td>0.025890</td>\n",
       "      <td>52.414239</td>\n",
       "      <td>17.952843</td>\n",
       "    </tr>\n",
       "    <tr>\n",
       "      <td>4</td>\n",
       "      <td>1.460886e+10</td>\n",
       "      <td>1.000000</td>\n",
       "      <td>0.386861</td>\n",
       "      <td>0.919708</td>\n",
       "      <td>0.992701</td>\n",
       "      <td>5113.021898</td>\n",
       "      <td>4713.445255</td>\n",
       "      <td>399.576642</td>\n",
       "      <td>42.773723</td>\n",
       "      <td>1.0</td>\n",
       "      <td>897.635036</td>\n",
       "      <td>472.394161</td>\n",
       "      <td>0.525547</td>\n",
       "      <td>0.868613</td>\n",
       "      <td>0.153285</td>\n",
       "      <td>0.014599</td>\n",
       "      <td>70.248175</td>\n",
       "      <td>20.014599</td>\n",
       "    </tr>\n",
       "  </tbody>\n",
       "</table>\n",
       "</div>"
      ],
      "text/plain": [
       "         UNIQUE_COLLECTOR_ID  ACCOUNT_STATUS    GENDER  LANGUAGE  \\\n",
       "AGE_CAT                                                            \n",
       "1               1.437462e+10        1.000000  0.337423  0.874233   \n",
       "2               1.450843e+10        1.000000  0.351642  0.900623   \n",
       "3               1.457991e+10        0.999075  0.401294  0.917707   \n",
       "4               1.460886e+10        1.000000  0.386861  0.919708   \n",
       "\n",
       "         PROMO_MAILABLE_FLAG  ACCOUNT_BALANCE  DREAM_ACCOUNT_BALANCE  \\\n",
       "AGE_CAT                                                                \n",
       "1                   0.984663      1176.438650             956.009202   \n",
       "2                   0.977067      3347.818516            3018.562571   \n",
       "3                   0.977809      5471.038373            5028.179380   \n",
       "4                   0.992701      5113.021898            4713.445255   \n",
       "\n",
       "         CASH_ACCOUNT_BALANCE  CASH_RATIO  EMAIL_OPT_IN_FLAG  \\\n",
       "AGE_CAT                                                        \n",
       "1                  220.429448   55.276074                1.0   \n",
       "2                  329.255946   45.741789                1.0   \n",
       "3                  442.858992   42.246879                1.0   \n",
       "4                  399.576642   42.773723                1.0   \n",
       "\n",
       "         EARN_IN_CAMPAIGN_PERIOD  POST_1M_EARN  WEB_ACTIVE_30DAYS  \\\n",
       "AGE_CAT                                                             \n",
       "1                     286.024540    171.174847           0.239264   \n",
       "2                     483.821348    332.433182           0.373443   \n",
       "3                     754.375405    469.328248           0.478964   \n",
       "4                     897.635036    472.394161           0.525547   \n",
       "\n",
       "         EMAIL_ENGAGED_30DAYS  RESPONDENT  CONTROL_FLAG        AGE  \\\n",
       "AGE_CAT                                                              \n",
       "1                    0.650307    0.088957      0.033742  21.874233   \n",
       "2                    0.753681    0.064270      0.032276  37.177520   \n",
       "3                    0.828479    0.063338      0.025890  52.414239   \n",
       "4                    0.868613    0.153285      0.014599  70.248175   \n",
       "\n",
       "         YEARS_OF_ENROLL  \n",
       "AGE_CAT                   \n",
       "1               1.726994  \n",
       "2              11.928652  \n",
       "3              17.952843  \n",
       "4              20.014599  "
      ]
     },
     "execution_count": 32,
     "metadata": {},
     "output_type": "execute_result"
    }
   ],
   "source": [
    "df_dropna.groupby('AGE_CAT').mean()"
   ]
  },
  {
   "cell_type": "code",
   "execution_count": 33,
   "metadata": {},
   "outputs": [
    {
     "data": {
      "text/html": [
       "<div>\n",
       "<style scoped>\n",
       "    .dataframe tbody tr th:only-of-type {\n",
       "        vertical-align: middle;\n",
       "    }\n",
       "\n",
       "    .dataframe tbody tr th {\n",
       "        vertical-align: top;\n",
       "    }\n",
       "\n",
       "    .dataframe thead th {\n",
       "        text-align: right;\n",
       "    }\n",
       "</style>\n",
       "<table border=\"1\" class=\"dataframe\">\n",
       "  <thead>\n",
       "    <tr style=\"text-align: right;\">\n",
       "      <th></th>\n",
       "      <th>UNIQUE_COLLECTOR_ID</th>\n",
       "      <th>ACCOUNT_STATUS</th>\n",
       "      <th>GENDER</th>\n",
       "      <th>LANGUAGE</th>\n",
       "      <th>PROMO_MAILABLE_FLAG</th>\n",
       "      <th>ACCOUNT_BALANCE</th>\n",
       "      <th>DREAM_ACCOUNT_BALANCE</th>\n",
       "      <th>CASH_ACCOUNT_BALANCE</th>\n",
       "      <th>CASH_RATIO</th>\n",
       "      <th>EMAIL_OPT_IN_FLAG</th>\n",
       "      <th>EARN_IN_CAMPAIGN_PERIOD</th>\n",
       "      <th>POST_1M_EARN</th>\n",
       "      <th>WEB_ACTIVE_30DAYS</th>\n",
       "      <th>EMAIL_ENGAGED_30DAYS</th>\n",
       "      <th>RESPONDENT</th>\n",
       "      <th>CONTROL_FLAG</th>\n",
       "      <th>AGE</th>\n",
       "      <th>YEARS_OF_ENROLL</th>\n",
       "    </tr>\n",
       "    <tr>\n",
       "      <th>YEARS_OF_ENROLL_CAT</th>\n",
       "      <th></th>\n",
       "      <th></th>\n",
       "      <th></th>\n",
       "      <th></th>\n",
       "      <th></th>\n",
       "      <th></th>\n",
       "      <th></th>\n",
       "      <th></th>\n",
       "      <th></th>\n",
       "      <th></th>\n",
       "      <th></th>\n",
       "      <th></th>\n",
       "      <th></th>\n",
       "      <th></th>\n",
       "      <th></th>\n",
       "      <th></th>\n",
       "      <th></th>\n",
       "      <th></th>\n",
       "    </tr>\n",
       "  </thead>\n",
       "  <tbody>\n",
       "    <tr>\n",
       "      <td>1</td>\n",
       "      <td>1.452366e+10</td>\n",
       "      <td>1.000000</td>\n",
       "      <td>0.371636</td>\n",
       "      <td>0.917818</td>\n",
       "      <td>0.977455</td>\n",
       "      <td>1732.778182</td>\n",
       "      <td>1408.276364</td>\n",
       "      <td>324.501818</td>\n",
       "      <td>57.047273</td>\n",
       "      <td>1.0</td>\n",
       "      <td>307.722909</td>\n",
       "      <td>236.275636</td>\n",
       "      <td>0.269818</td>\n",
       "      <td>0.680727</td>\n",
       "      <td>0.072000</td>\n",
       "      <td>0.033455</td>\n",
       "      <td>34.186182</td>\n",
       "      <td>2.044364</td>\n",
       "    </tr>\n",
       "    <tr>\n",
       "      <td>2</td>\n",
       "      <td>1.471077e+10</td>\n",
       "      <td>1.000000</td>\n",
       "      <td>0.409574</td>\n",
       "      <td>0.874113</td>\n",
       "      <td>0.968085</td>\n",
       "      <td>2965.257092</td>\n",
       "      <td>2732.631206</td>\n",
       "      <td>232.625887</td>\n",
       "      <td>43.386525</td>\n",
       "      <td>1.0</td>\n",
       "      <td>534.907801</td>\n",
       "      <td>313.943262</td>\n",
       "      <td>0.402482</td>\n",
       "      <td>0.778369</td>\n",
       "      <td>0.063830</td>\n",
       "      <td>0.035461</td>\n",
       "      <td>37.923759</td>\n",
       "      <td>8.597518</td>\n",
       "    </tr>\n",
       "    <tr>\n",
       "      <td>3</td>\n",
       "      <td>1.448018e+10</td>\n",
       "      <td>0.998571</td>\n",
       "      <td>0.345000</td>\n",
       "      <td>0.852143</td>\n",
       "      <td>0.977143</td>\n",
       "      <td>3567.466429</td>\n",
       "      <td>3225.194286</td>\n",
       "      <td>342.272143</td>\n",
       "      <td>47.714286</td>\n",
       "      <td>1.0</td>\n",
       "      <td>510.788571</td>\n",
       "      <td>365.845714</td>\n",
       "      <td>0.383571</td>\n",
       "      <td>0.757143</td>\n",
       "      <td>0.057857</td>\n",
       "      <td>0.031429</td>\n",
       "      <td>40.487857</td>\n",
       "      <td>13.305000</td>\n",
       "    </tr>\n",
       "    <tr>\n",
       "      <td>4</td>\n",
       "      <td>1.444825e+10</td>\n",
       "      <td>1.000000</td>\n",
       "      <td>0.370889</td>\n",
       "      <td>0.925822</td>\n",
       "      <td>0.981106</td>\n",
       "      <td>4385.542337</td>\n",
       "      <td>3988.510147</td>\n",
       "      <td>397.032190</td>\n",
       "      <td>42.456263</td>\n",
       "      <td>1.0</td>\n",
       "      <td>620.009797</td>\n",
       "      <td>375.969209</td>\n",
       "      <td>0.431770</td>\n",
       "      <td>0.825752</td>\n",
       "      <td>0.072078</td>\n",
       "      <td>0.023793</td>\n",
       "      <td>45.294612</td>\n",
       "      <td>18.181945</td>\n",
       "    </tr>\n",
       "    <tr>\n",
       "      <td>5</td>\n",
       "      <td>1.459135e+10</td>\n",
       "      <td>1.000000</td>\n",
       "      <td>0.372662</td>\n",
       "      <td>0.939568</td>\n",
       "      <td>0.980576</td>\n",
       "      <td>6781.284892</td>\n",
       "      <td>6332.718705</td>\n",
       "      <td>448.566187</td>\n",
       "      <td>33.410072</td>\n",
       "      <td>1.0</td>\n",
       "      <td>885.529496</td>\n",
       "      <td>545.643885</td>\n",
       "      <td>0.541727</td>\n",
       "      <td>0.841727</td>\n",
       "      <td>0.068345</td>\n",
       "      <td>0.028058</td>\n",
       "      <td>51.535252</td>\n",
       "      <td>23.021583</td>\n",
       "    </tr>\n",
       "  </tbody>\n",
       "</table>\n",
       "</div>"
      ],
      "text/plain": [
       "                     UNIQUE_COLLECTOR_ID  ACCOUNT_STATUS    GENDER  LANGUAGE  \\\n",
       "YEARS_OF_ENROLL_CAT                                                            \n",
       "1                           1.452366e+10        1.000000  0.371636  0.917818   \n",
       "2                           1.471077e+10        1.000000  0.409574  0.874113   \n",
       "3                           1.448018e+10        0.998571  0.345000  0.852143   \n",
       "4                           1.444825e+10        1.000000  0.370889  0.925822   \n",
       "5                           1.459135e+10        1.000000  0.372662  0.939568   \n",
       "\n",
       "                     PROMO_MAILABLE_FLAG  ACCOUNT_BALANCE  \\\n",
       "YEARS_OF_ENROLL_CAT                                         \n",
       "1                               0.977455      1732.778182   \n",
       "2                               0.968085      2965.257092   \n",
       "3                               0.977143      3567.466429   \n",
       "4                               0.981106      4385.542337   \n",
       "5                               0.980576      6781.284892   \n",
       "\n",
       "                     DREAM_ACCOUNT_BALANCE  CASH_ACCOUNT_BALANCE  CASH_RATIO  \\\n",
       "YEARS_OF_ENROLL_CAT                                                            \n",
       "1                              1408.276364            324.501818   57.047273   \n",
       "2                              2732.631206            232.625887   43.386525   \n",
       "3                              3225.194286            342.272143   47.714286   \n",
       "4                              3988.510147            397.032190   42.456263   \n",
       "5                              6332.718705            448.566187   33.410072   \n",
       "\n",
       "                     EMAIL_OPT_IN_FLAG  EARN_IN_CAMPAIGN_PERIOD  POST_1M_EARN  \\\n",
       "YEARS_OF_ENROLL_CAT                                                             \n",
       "1                                  1.0               307.722909    236.275636   \n",
       "2                                  1.0               534.907801    313.943262   \n",
       "3                                  1.0               510.788571    365.845714   \n",
       "4                                  1.0               620.009797    375.969209   \n",
       "5                                  1.0               885.529496    545.643885   \n",
       "\n",
       "                     WEB_ACTIVE_30DAYS  EMAIL_ENGAGED_30DAYS  RESPONDENT  \\\n",
       "YEARS_OF_ENROLL_CAT                                                        \n",
       "1                             0.269818              0.680727    0.072000   \n",
       "2                             0.402482              0.778369    0.063830   \n",
       "3                             0.383571              0.757143    0.057857   \n",
       "4                             0.431770              0.825752    0.072078   \n",
       "5                             0.541727              0.841727    0.068345   \n",
       "\n",
       "                     CONTROL_FLAG        AGE  YEARS_OF_ENROLL  \n",
       "YEARS_OF_ENROLL_CAT                                            \n",
       "1                        0.033455  34.186182         2.044364  \n",
       "2                        0.035461  37.923759         8.597518  \n",
       "3                        0.031429  40.487857        13.305000  \n",
       "4                        0.023793  45.294612        18.181945  \n",
       "5                        0.028058  51.535252        23.021583  "
      ]
     },
     "execution_count": 33,
     "metadata": {},
     "output_type": "execute_result"
    }
   ],
   "source": [
    "df_dropna.groupby('YEARS_OF_ENROLL_CAT').mean()"
   ]
  },
  {
   "cell_type": "markdown",
   "metadata": {},
   "source": [
    "#### Additional observations\n",
    "- All sample colletors who responded are having active account\n",
    "- Colletors who are elder than 65 years old are the most likely to respond (+15%), 8.9% of age group < 25 years old collector responded. \n",
    "- Colletors who have enrolled for more than 15 years are more likely to respond "
   ]
  },
  {
   "cell_type": "code",
   "execution_count": 34,
   "metadata": {},
   "outputs": [
    {
     "data": {
      "text/html": [
       "<div>\n",
       "<style scoped>\n",
       "    .dataframe tbody tr th:only-of-type {\n",
       "        vertical-align: middle;\n",
       "    }\n",
       "\n",
       "    .dataframe tbody tr th {\n",
       "        vertical-align: top;\n",
       "    }\n",
       "\n",
       "    .dataframe thead th {\n",
       "        text-align: right;\n",
       "    }\n",
       "</style>\n",
       "<table border=\"1\" class=\"dataframe\">\n",
       "  <thead>\n",
       "    <tr style=\"text-align: right;\">\n",
       "      <th></th>\n",
       "      <th>UNIQUE_COLLECTOR_ID</th>\n",
       "      <th>ACCOUNT_STATUS</th>\n",
       "      <th>COLLECTOR_TIER</th>\n",
       "      <th>ENROLLMENT_DATE</th>\n",
       "      <th>BIRTHDATE</th>\n",
       "      <th>GENDER</th>\n",
       "      <th>LANGUAGE</th>\n",
       "      <th>HOUSEHOLD_INCOME_CATEGORY</th>\n",
       "      <th>HOME_ADDRESS_CITY</th>\n",
       "      <th>HOME_ADDRESS_PROVINCE_CODE</th>\n",
       "      <th>...</th>\n",
       "      <th>POST_1M_EARN</th>\n",
       "      <th>WEB_ACTIVE_30DAYS</th>\n",
       "      <th>EMAIL_ENGAGED_30DAYS</th>\n",
       "      <th>RESPONDENT</th>\n",
       "      <th>DATE_OF_RESPONSE</th>\n",
       "      <th>CONTROL_FLAG</th>\n",
       "      <th>AGE</th>\n",
       "      <th>YEARS_OF_ENROLL</th>\n",
       "      <th>AGE_CAT</th>\n",
       "      <th>YEARS_OF_ENROLL_CAT</th>\n",
       "    </tr>\n",
       "  </thead>\n",
       "  <tbody>\n",
       "    <tr>\n",
       "      <td>0</td>\n",
       "      <td>14089420521</td>\n",
       "      <td>1</td>\n",
       "      <td>O</td>\n",
       "      <td>1997-04-11</td>\n",
       "      <td>1973-06-10</td>\n",
       "      <td>0</td>\n",
       "      <td>1</td>\n",
       "      <td>-1</td>\n",
       "      <td>KESWICK RIDGE</td>\n",
       "      <td>NB</td>\n",
       "      <td>...</td>\n",
       "      <td>1353</td>\n",
       "      <td>1</td>\n",
       "      <td>1</td>\n",
       "      <td>1</td>\n",
       "      <td>2018-02-28</td>\n",
       "      <td>0</td>\n",
       "      <td>43</td>\n",
       "      <td>20</td>\n",
       "      <td>2</td>\n",
       "      <td>4</td>\n",
       "    </tr>\n",
       "    <tr>\n",
       "      <td>2</td>\n",
       "      <td>15139470171</td>\n",
       "      <td>1</td>\n",
       "      <td>B</td>\n",
       "      <td>2015-07-14</td>\n",
       "      <td>1996-05-05</td>\n",
       "      <td>0</td>\n",
       "      <td>1</td>\n",
       "      <td>-1</td>\n",
       "      <td>SCARBOROUGH</td>\n",
       "      <td>ON</td>\n",
       "      <td>...</td>\n",
       "      <td>6</td>\n",
       "      <td>0</td>\n",
       "      <td>1</td>\n",
       "      <td>1</td>\n",
       "      <td>2018-02-20</td>\n",
       "      <td>0</td>\n",
       "      <td>21</td>\n",
       "      <td>1</td>\n",
       "      <td>1</td>\n",
       "      <td>1</td>\n",
       "    </tr>\n",
       "    <tr>\n",
       "      <td>3</td>\n",
       "      <td>12883629783</td>\n",
       "      <td>1</td>\n",
       "      <td>B</td>\n",
       "      <td>2015-07-14</td>\n",
       "      <td>1996-05-05</td>\n",
       "      <td>0</td>\n",
       "      <td>1</td>\n",
       "      <td>-1</td>\n",
       "      <td>SCARBOROUGH</td>\n",
       "      <td>ON</td>\n",
       "      <td>...</td>\n",
       "      <td>6</td>\n",
       "      <td>0</td>\n",
       "      <td>1</td>\n",
       "      <td>1</td>\n",
       "      <td>2018-02-24</td>\n",
       "      <td>0</td>\n",
       "      <td>21</td>\n",
       "      <td>1</td>\n",
       "      <td>1</td>\n",
       "      <td>1</td>\n",
       "    </tr>\n",
       "    <tr>\n",
       "      <td>4</td>\n",
       "      <td>12371682557</td>\n",
       "      <td>1</td>\n",
       "      <td>G</td>\n",
       "      <td>2017-07-26</td>\n",
       "      <td>1978-07-07</td>\n",
       "      <td>0</td>\n",
       "      <td>1</td>\n",
       "      <td>-1</td>\n",
       "      <td>VICTORIA</td>\n",
       "      <td>BC</td>\n",
       "      <td>...</td>\n",
       "      <td>732</td>\n",
       "      <td>0</td>\n",
       "      <td>0</td>\n",
       "      <td>1</td>\n",
       "      <td>2018-02-26</td>\n",
       "      <td>0</td>\n",
       "      <td>38</td>\n",
       "      <td>0</td>\n",
       "      <td>2</td>\n",
       "      <td>1</td>\n",
       "    </tr>\n",
       "    <tr>\n",
       "      <td>6</td>\n",
       "      <td>17275436755</td>\n",
       "      <td>1</td>\n",
       "      <td>O</td>\n",
       "      <td>1994-12-08</td>\n",
       "      <td>1973-08-16</td>\n",
       "      <td>0</td>\n",
       "      <td>1</td>\n",
       "      <td>-1</td>\n",
       "      <td>VICTORIA</td>\n",
       "      <td>BC</td>\n",
       "      <td>...</td>\n",
       "      <td>2139</td>\n",
       "      <td>1</td>\n",
       "      <td>1</td>\n",
       "      <td>1</td>\n",
       "      <td>2018-02-22</td>\n",
       "      <td>0</td>\n",
       "      <td>43</td>\n",
       "      <td>22</td>\n",
       "      <td>2</td>\n",
       "      <td>5</td>\n",
       "    </tr>\n",
       "  </tbody>\n",
       "</table>\n",
       "<p>5 rows × 29 columns</p>\n",
       "</div>"
      ],
      "text/plain": [
       "   UNIQUE_COLLECTOR_ID  ACCOUNT_STATUS COLLECTOR_TIER ENROLLMENT_DATE  \\\n",
       "0          14089420521               1              O      1997-04-11   \n",
       "2          15139470171               1              B      2015-07-14   \n",
       "3          12883629783               1              B      2015-07-14   \n",
       "4          12371682557               1              G      2017-07-26   \n",
       "6          17275436755               1              O      1994-12-08   \n",
       "\n",
       "   BIRTHDATE  GENDER  LANGUAGE HOUSEHOLD_INCOME_CATEGORY HOME_ADDRESS_CITY  \\\n",
       "0 1973-06-10       0         1                        -1     KESWICK RIDGE   \n",
       "2 1996-05-05       0         1                        -1       SCARBOROUGH   \n",
       "3 1996-05-05       0         1                        -1       SCARBOROUGH   \n",
       "4 1978-07-07       0         1                        -1          VICTORIA   \n",
       "6 1973-08-16       0         1                        -1          VICTORIA   \n",
       "\n",
       "  HOME_ADDRESS_PROVINCE_CODE  ... POST_1M_EARN  WEB_ACTIVE_30DAYS  \\\n",
       "0                         NB  ...         1353                  1   \n",
       "2                         ON  ...            6                  0   \n",
       "3                         ON  ...            6                  0   \n",
       "4                         BC  ...          732                  0   \n",
       "6                         BC  ...         2139                  1   \n",
       "\n",
       "   EMAIL_ENGAGED_30DAYS  RESPONDENT  DATE_OF_RESPONSE  CONTROL_FLAG AGE  \\\n",
       "0                     1           1        2018-02-28             0  43   \n",
       "2                     1           1        2018-02-20             0  21   \n",
       "3                     1           1        2018-02-24             0  21   \n",
       "4                     0           1        2018-02-26             0  38   \n",
       "6                     1           1        2018-02-22             0  43   \n",
       "\n",
       "   YEARS_OF_ENROLL  AGE_CAT  YEARS_OF_ENROLL_CAT  \n",
       "0               20        2                    4  \n",
       "2                1        1                    1  \n",
       "3                1        1                    1  \n",
       "4                0        2                    1  \n",
       "6               22        2                    5  \n",
       "\n",
       "[5 rows x 29 columns]"
      ]
     },
     "execution_count": 34,
     "metadata": {},
     "output_type": "execute_result"
    }
   ],
   "source": [
    "df_dropna.head()"
   ]
  },
  {
   "cell_type": "markdown",
   "metadata": {},
   "source": [
    "## 3.4 Combining Attributes: Populating additional numerical features (POST_1M_EARN_RATIO)"
   ]
  },
  {
   "cell_type": "code",
   "execution_count": 35,
   "metadata": {},
   "outputs": [],
   "source": [
    "df_dropna['POST_1M_EARN_RATIO']=df_dropna['POST_1M_EARN']/(df_dropna['POST_1M_EARN']+df_dropna['EARN_IN_CAMPAIGN_PERIOD'])"
   ]
  },
  {
   "cell_type": "code",
   "execution_count": 36,
   "metadata": {},
   "outputs": [
    {
     "name": "stdout",
     "output_type": "stream",
     "text": [
      "<class 'pandas.core.frame.DataFrame'>\n",
      "Int64Index: 6158 entries, 0 to 8597\n",
      "Data columns (total 30 columns):\n",
      "UNIQUE_COLLECTOR_ID           6158 non-null int64\n",
      "ACCOUNT_STATUS                6158 non-null int64\n",
      "COLLECTOR_TIER                6158 non-null category\n",
      "ENROLLMENT_DATE               6158 non-null datetime64[ns]\n",
      "BIRTHDATE                     6158 non-null datetime64[ns]\n",
      "GENDER                        6158 non-null int64\n",
      "LANGUAGE                      6158 non-null int64\n",
      "HOUSEHOLD_INCOME_CATEGORY     6158 non-null category\n",
      "HOME_ADDRESS_CITY             6158 non-null category\n",
      "HOME_ADDRESS_PROVINCE_CODE    6158 non-null category\n",
      "HOME_ADDRESS_REGION_CODE      6158 non-null category\n",
      "PROMO_MAILABLE_FLAG           6158 non-null int64\n",
      "ACCOUNT_BALANCE               6158 non-null int64\n",
      "DREAM_ACCOUNT_BALANCE         6158 non-null int64\n",
      "CASH_ACCOUNT_BALANCE          6158 non-null int64\n",
      "CASH_RATIO                    6158 non-null int64\n",
      "LAST_RATIO_CHG_DATE           4422 non-null datetime64[ns]\n",
      "EMAIL_OPT_IN_FLAG             6158 non-null int64\n",
      "EARN_IN_CAMPAIGN_PERIOD       6158 non-null int64\n",
      "POST_1M_EARN                  6158 non-null int64\n",
      "WEB_ACTIVE_30DAYS             6158 non-null int64\n",
      "EMAIL_ENGAGED_30DAYS          6158 non-null int64\n",
      "RESPONDENT                    6158 non-null int64\n",
      "DATE_OF_RESPONSE              414 non-null datetime64[ns]\n",
      "CONTROL_FLAG                  6158 non-null int64\n",
      "AGE                           6158 non-null int64\n",
      "YEARS_OF_ENROLL               6158 non-null int64\n",
      "AGE_CAT                       6158 non-null category\n",
      "YEARS_OF_ENROLL_CAT           6158 non-null category\n",
      "POST_1M_EARN_RATIO            6158 non-null float64\n",
      "dtypes: category(7), datetime64[ns](4), float64(1), int64(18)\n",
      "memory usage: 1.2 MB\n"
     ]
    }
   ],
   "source": [
    "df_dropna.info()"
   ]
  },
  {
   "cell_type": "code",
   "execution_count": 37,
   "metadata": {},
   "outputs": [
    {
     "data": {
      "text/html": [
       "<div>\n",
       "<style scoped>\n",
       "    .dataframe tbody tr th:only-of-type {\n",
       "        vertical-align: middle;\n",
       "    }\n",
       "\n",
       "    .dataframe tbody tr th {\n",
       "        vertical-align: top;\n",
       "    }\n",
       "\n",
       "    .dataframe thead th {\n",
       "        text-align: right;\n",
       "    }\n",
       "</style>\n",
       "<table border=\"1\" class=\"dataframe\">\n",
       "  <thead>\n",
       "    <tr style=\"text-align: right;\">\n",
       "      <th></th>\n",
       "      <th>UNIQUE_COLLECTOR_ID</th>\n",
       "      <th>ACCOUNT_STATUS</th>\n",
       "      <th>COLLECTOR_TIER</th>\n",
       "      <th>ENROLLMENT_DATE</th>\n",
       "      <th>BIRTHDATE</th>\n",
       "      <th>GENDER</th>\n",
       "      <th>LANGUAGE</th>\n",
       "      <th>HOUSEHOLD_INCOME_CATEGORY</th>\n",
       "      <th>HOME_ADDRESS_CITY</th>\n",
       "      <th>HOME_ADDRESS_PROVINCE_CODE</th>\n",
       "      <th>...</th>\n",
       "      <th>WEB_ACTIVE_30DAYS</th>\n",
       "      <th>EMAIL_ENGAGED_30DAYS</th>\n",
       "      <th>RESPONDENT</th>\n",
       "      <th>DATE_OF_RESPONSE</th>\n",
       "      <th>CONTROL_FLAG</th>\n",
       "      <th>AGE</th>\n",
       "      <th>YEARS_OF_ENROLL</th>\n",
       "      <th>AGE_CAT</th>\n",
       "      <th>YEARS_OF_ENROLL_CAT</th>\n",
       "      <th>POST_1M_EARN_RATIO</th>\n",
       "    </tr>\n",
       "  </thead>\n",
       "  <tbody>\n",
       "    <tr>\n",
       "      <td>0</td>\n",
       "      <td>14089420521</td>\n",
       "      <td>1</td>\n",
       "      <td>O</td>\n",
       "      <td>1997-04-11</td>\n",
       "      <td>1973-06-10</td>\n",
       "      <td>0</td>\n",
       "      <td>1</td>\n",
       "      <td>-1</td>\n",
       "      <td>KESWICK RIDGE</td>\n",
       "      <td>NB</td>\n",
       "      <td>...</td>\n",
       "      <td>1</td>\n",
       "      <td>1</td>\n",
       "      <td>1</td>\n",
       "      <td>2018-02-28</td>\n",
       "      <td>0</td>\n",
       "      <td>43</td>\n",
       "      <td>20</td>\n",
       "      <td>2</td>\n",
       "      <td>4</td>\n",
       "      <td>0.263178</td>\n",
       "    </tr>\n",
       "    <tr>\n",
       "      <td>2</td>\n",
       "      <td>15139470171</td>\n",
       "      <td>1</td>\n",
       "      <td>B</td>\n",
       "      <td>2015-07-14</td>\n",
       "      <td>1996-05-05</td>\n",
       "      <td>0</td>\n",
       "      <td>1</td>\n",
       "      <td>-1</td>\n",
       "      <td>SCARBOROUGH</td>\n",
       "      <td>ON</td>\n",
       "      <td>...</td>\n",
       "      <td>0</td>\n",
       "      <td>1</td>\n",
       "      <td>1</td>\n",
       "      <td>2018-02-20</td>\n",
       "      <td>0</td>\n",
       "      <td>21</td>\n",
       "      <td>1</td>\n",
       "      <td>1</td>\n",
       "      <td>1</td>\n",
       "      <td>0.206897</td>\n",
       "    </tr>\n",
       "    <tr>\n",
       "      <td>3</td>\n",
       "      <td>12883629783</td>\n",
       "      <td>1</td>\n",
       "      <td>B</td>\n",
       "      <td>2015-07-14</td>\n",
       "      <td>1996-05-05</td>\n",
       "      <td>0</td>\n",
       "      <td>1</td>\n",
       "      <td>-1</td>\n",
       "      <td>SCARBOROUGH</td>\n",
       "      <td>ON</td>\n",
       "      <td>...</td>\n",
       "      <td>0</td>\n",
       "      <td>1</td>\n",
       "      <td>1</td>\n",
       "      <td>2018-02-24</td>\n",
       "      <td>0</td>\n",
       "      <td>21</td>\n",
       "      <td>1</td>\n",
       "      <td>1</td>\n",
       "      <td>1</td>\n",
       "      <td>0.206897</td>\n",
       "    </tr>\n",
       "    <tr>\n",
       "      <td>4</td>\n",
       "      <td>12371682557</td>\n",
       "      <td>1</td>\n",
       "      <td>G</td>\n",
       "      <td>2017-07-26</td>\n",
       "      <td>1978-07-07</td>\n",
       "      <td>0</td>\n",
       "      <td>1</td>\n",
       "      <td>-1</td>\n",
       "      <td>VICTORIA</td>\n",
       "      <td>BC</td>\n",
       "      <td>...</td>\n",
       "      <td>0</td>\n",
       "      <td>0</td>\n",
       "      <td>1</td>\n",
       "      <td>2018-02-26</td>\n",
       "      <td>0</td>\n",
       "      <td>38</td>\n",
       "      <td>0</td>\n",
       "      <td>2</td>\n",
       "      <td>1</td>\n",
       "      <td>0.829932</td>\n",
       "    </tr>\n",
       "    <tr>\n",
       "      <td>6</td>\n",
       "      <td>17275436755</td>\n",
       "      <td>1</td>\n",
       "      <td>O</td>\n",
       "      <td>1994-12-08</td>\n",
       "      <td>1973-08-16</td>\n",
       "      <td>0</td>\n",
       "      <td>1</td>\n",
       "      <td>-1</td>\n",
       "      <td>VICTORIA</td>\n",
       "      <td>BC</td>\n",
       "      <td>...</td>\n",
       "      <td>1</td>\n",
       "      <td>1</td>\n",
       "      <td>1</td>\n",
       "      <td>2018-02-22</td>\n",
       "      <td>0</td>\n",
       "      <td>43</td>\n",
       "      <td>22</td>\n",
       "      <td>2</td>\n",
       "      <td>5</td>\n",
       "      <td>0.456758</td>\n",
       "    </tr>\n",
       "  </tbody>\n",
       "</table>\n",
       "<p>5 rows × 30 columns</p>\n",
       "</div>"
      ],
      "text/plain": [
       "   UNIQUE_COLLECTOR_ID  ACCOUNT_STATUS COLLECTOR_TIER ENROLLMENT_DATE  \\\n",
       "0          14089420521               1              O      1997-04-11   \n",
       "2          15139470171               1              B      2015-07-14   \n",
       "3          12883629783               1              B      2015-07-14   \n",
       "4          12371682557               1              G      2017-07-26   \n",
       "6          17275436755               1              O      1994-12-08   \n",
       "\n",
       "   BIRTHDATE  GENDER  LANGUAGE HOUSEHOLD_INCOME_CATEGORY HOME_ADDRESS_CITY  \\\n",
       "0 1973-06-10       0         1                        -1     KESWICK RIDGE   \n",
       "2 1996-05-05       0         1                        -1       SCARBOROUGH   \n",
       "3 1996-05-05       0         1                        -1       SCARBOROUGH   \n",
       "4 1978-07-07       0         1                        -1          VICTORIA   \n",
       "6 1973-08-16       0         1                        -1          VICTORIA   \n",
       "\n",
       "  HOME_ADDRESS_PROVINCE_CODE  ... WEB_ACTIVE_30DAYS  EMAIL_ENGAGED_30DAYS  \\\n",
       "0                         NB  ...                 1                     1   \n",
       "2                         ON  ...                 0                     1   \n",
       "3                         ON  ...                 0                     1   \n",
       "4                         BC  ...                 0                     0   \n",
       "6                         BC  ...                 1                     1   \n",
       "\n",
       "   RESPONDENT  DATE_OF_RESPONSE  CONTROL_FLAG  AGE YEARS_OF_ENROLL  AGE_CAT  \\\n",
       "0           1        2018-02-28             0   43              20        2   \n",
       "2           1        2018-02-20             0   21               1        1   \n",
       "3           1        2018-02-24             0   21               1        1   \n",
       "4           1        2018-02-26             0   38               0        2   \n",
       "6           1        2018-02-22             0   43              22        2   \n",
       "\n",
       "   YEARS_OF_ENROLL_CAT  POST_1M_EARN_RATIO  \n",
       "0                    4            0.263178  \n",
       "2                    1            0.206897  \n",
       "3                    1            0.206897  \n",
       "4                    1            0.829932  \n",
       "6                    5            0.456758  \n",
       "\n",
       "[5 rows x 30 columns]"
      ]
     },
     "execution_count": 37,
     "metadata": {},
     "output_type": "execute_result"
    }
   ],
   "source": [
    "df_dropna.head()"
   ]
  },
  {
   "cell_type": "code",
   "execution_count": 38,
   "metadata": {},
   "outputs": [],
   "source": [
    "# Where to save the figures\n",
    "#PROJECT_ROOT_DIR = \"C:\\Users\\azhao\\Downloads\"\n",
    "#CHAPTER_ID = \"Cineplex Case Study\"\n",
    "#IMAGES_PATH = os.path.join(PROJECT_ROOT_DIR, \"images\", CHAPTER_ID)"
   ]
  },
  {
   "cell_type": "code",
   "execution_count": 39,
   "metadata": {},
   "outputs": [],
   "source": [
    "def save_fig(fig_id, tight_layout=True, fig_extension=\"png\", resolution=300):\n",
    "    path = os.path.join(IMAGES_PATH, fig_id + \".\" + fig_extension)\n",
    "    print(\"Saving figure\", fig_id)\n",
    "    if tight_layout:\n",
    "        plt.tight_layout()\n",
    "    plt.savefig(path, format=fig_extension, dpi=resolution)"
   ]
  },
  {
   "cell_type": "code",
   "execution_count": 40,
   "metadata": {},
   "outputs": [
    {
     "data": {
      "text/plain": [
       "<function matplotlib.pyplot.show(*args, **kw)>"
      ]
     },
     "execution_count": 40,
     "metadata": {},
     "output_type": "execute_result"
    },
    {
     "data": {
      "image/png": "[encoded data removed]",
      "text/plain": [
       "<Figure size 1440x1080 with 20 Axes>"
      ]
     },
     "metadata": {
      "needs_background": "light"
     },
     "output_type": "display_data"
    }
   ],
   "source": [
    "%matplotlib inline\n",
    "import matplotlib.pyplot as plt\n",
    "df_dropna.hist(bins=25,figsize=(20,15))\n",
    "#save_fig(\"attribute_histogram_plots\")\n",
    "plt.show"
   ]
  },
  {
   "cell_type": "code",
   "execution_count": 41,
   "metadata": {},
   "outputs": [
    {
     "data": {
      "text/plain": [
       "-1    5189\n",
       " 2     890\n",
       " 1     684\n",
       " 0     648\n",
       " 3     610\n",
       " 4     577\n",
       "Name: HOUSEHOLD_INCOME_CATEGORY, dtype: int64"
      ]
     },
     "execution_count": 41,
     "metadata": {},
     "output_type": "execute_result"
    }
   ],
   "source": [
    "df[\"HOUSEHOLD_INCOME_CATEGORY\"].value_counts()"
   ]
  },
  {
   "cell_type": "code",
   "execution_count": 42,
   "metadata": {},
   "outputs": [
    {
     "data": {
      "text/plain": [
       "1    6158\n",
       "Name: EMAIL_OPT_IN_FLAG, dtype: int64"
      ]
     },
     "execution_count": 42,
     "metadata": {},
     "output_type": "execute_result"
    }
   ],
   "source": [
    "df_dropna[\"EMAIL_OPT_IN_FLAG\"].value_counts()"
   ]
  },
  {
   "cell_type": "markdown",
   "metadata": {},
   "source": [
    "## 3.5 Checking if Control and Target group has the same audience composition"
   ]
  },
  {
   "cell_type": "code",
   "execution_count": 43,
   "metadata": {},
   "outputs": [],
   "source": [
    "df_dropna_t=df_dropna[(df_dropna['CONTROL_FLAG'] == 0)]\n",
    "df_dropna_c=df_dropna[(df_dropna['CONTROL_FLAG'] == 1)]"
   ]
  },
  {
   "cell_type": "markdown",
   "metadata": {},
   "source": [
    "#### 3.51 COLLECTOR_TIER"
   ]
  },
  {
   "cell_type": "code",
   "execution_count": 44,
   "metadata": {},
   "outputs": [
    {
     "data": {
      "text/plain": [
       "B    0.502594\n",
       "G    0.345272\n",
       "O    0.152134\n",
       "Name: COLLECTOR_TIER, dtype: float64"
      ]
     },
     "execution_count": 44,
     "metadata": {},
     "output_type": "execute_result"
    }
   ],
   "source": [
    "df_dropna_t[\"COLLECTOR_TIER\"].value_counts()/len(df_dropna_t)"
   ]
  },
  {
   "cell_type": "code",
   "execution_count": 45,
   "metadata": {},
   "outputs": [
    {
     "data": {
      "text/plain": [
       "B    0.524590\n",
       "G    0.360656\n",
       "O    0.114754\n",
       "Name: COLLECTOR_TIER, dtype: float64"
      ]
     },
     "execution_count": 45,
     "metadata": {},
     "output_type": "execute_result"
    }
   ],
   "source": [
    "df_dropna_c[\"COLLECTOR_TIER\"].value_counts()/len(df_dropna_c)"
   ]
  },
  {
   "cell_type": "markdown",
   "metadata": {},
   "source": [
    "#### 3.52 HOUSEHOLD_INCOME_CATEGORY     "
   ]
  },
  {
   "cell_type": "code",
   "execution_count": 46,
   "metadata": {},
   "outputs": [
    {
     "data": {
      "text/plain": [
       "-1    0.573724\n",
       " 2    0.111130\n",
       " 1    0.081004\n",
       " 4    0.078661\n",
       " 0    0.077824\n",
       " 3    0.077657\n",
       "Name: HOUSEHOLD_INCOME_CATEGORY, dtype: float64"
      ]
     },
     "execution_count": 46,
     "metadata": {},
     "output_type": "execute_result"
    }
   ],
   "source": [
    "df_dropna_t[\"HOUSEHOLD_INCOME_CATEGORY\"].value_counts()/len(df_dropna_t)"
   ]
  },
  {
   "cell_type": "code",
   "execution_count": 47,
   "metadata": {},
   "outputs": [
    {
     "data": {
      "text/plain": [
       "-1    0.672131\n",
       " 2    0.103825\n",
       " 1    0.076503\n",
       " 0    0.060109\n",
       " 4    0.049180\n",
       " 3    0.038251\n",
       "Name: HOUSEHOLD_INCOME_CATEGORY, dtype: float64"
      ]
     },
     "execution_count": 47,
     "metadata": {},
     "output_type": "execute_result"
    }
   ],
   "source": [
    "df_dropna_c[\"HOUSEHOLD_INCOME_CATEGORY\"].value_counts()/len(df_dropna_c)"
   ]
  },
  {
   "cell_type": "markdown",
   "metadata": {},
   "source": [
    "#### Observations:\n",
    "- 4% difference of composition of Income Category 3: CAD 75K to CAD99,999           \n"
   ]
  },
  {
   "cell_type": "markdown",
   "metadata": {},
   "source": [
    "#### 3.53 HOME_ADDRESS_REGION_CODE      "
   ]
  },
  {
   "cell_type": "code",
   "execution_count": 48,
   "metadata": {},
   "outputs": [
    {
     "data": {
      "text/plain": [
       "O    0.401339\n",
       "W    0.330209\n",
       "A    0.146444\n",
       "Q    0.122008\n",
       "Name: HOME_ADDRESS_REGION_CODE, dtype: float64"
      ]
     },
     "execution_count": 48,
     "metadata": {},
     "output_type": "execute_result"
    }
   ],
   "source": [
    "df_dropna_t[\"HOME_ADDRESS_REGION_CODE\"].value_counts()/len(df_dropna_t)"
   ]
  },
  {
   "cell_type": "code",
   "execution_count": 49,
   "metadata": {},
   "outputs": [
    {
     "data": {
      "text/plain": [
       "O    0.415301\n",
       "W    0.355191\n",
       "A    0.125683\n",
       "Q    0.103825\n",
       "Name: HOME_ADDRESS_REGION_CODE, dtype: float64"
      ]
     },
     "execution_count": 49,
     "metadata": {},
     "output_type": "execute_result"
    }
   ],
   "source": [
    "df_dropna_c[\"HOME_ADDRESS_REGION_CODE\"].value_counts()/len(df_dropna_c)"
   ]
  },
  {
   "cell_type": "code",
   "execution_count": 50,
   "metadata": {},
   "outputs": [],
   "source": [
    "#### 3.54 YEARS_OF_ENROLL_CAT"
   ]
  },
  {
   "cell_type": "code",
   "execution_count": 51,
   "metadata": {},
   "outputs": [
    {
     "data": {
      "text/plain": [
       "4    0.233473\n",
       "3    0.226946\n",
       "5    0.226109\n",
       "1    0.222427\n",
       "2    0.091046\n",
       "Name: YEARS_OF_ENROLL_CAT, dtype: float64"
      ]
     },
     "execution_count": 51,
     "metadata": {},
     "output_type": "execute_result"
    }
   ],
   "source": [
    "df_dropna_t[\"YEARS_OF_ENROLL_CAT\"].value_counts()/len(df_dropna_t)"
   ]
  },
  {
   "cell_type": "code",
   "execution_count": 52,
   "metadata": {},
   "outputs": [
    {
     "data": {
      "text/plain": [
       "1    0.251366\n",
       "3    0.240437\n",
       "5    0.213115\n",
       "4    0.185792\n",
       "2    0.109290\n",
       "Name: YEARS_OF_ENROLL_CAT, dtype: float64"
      ]
     },
     "execution_count": 52,
     "metadata": {},
     "output_type": "execute_result"
    }
   ],
   "source": [
    "df_dropna_c[\"YEARS_OF_ENROLL_CAT\"].value_counts()/len(df_dropna_c)"
   ]
  },
  {
   "cell_type": "markdown",
   "metadata": {},
   "source": [
    "#### 3.55 AGE_CAT     "
   ]
  },
  {
   "cell_type": "code",
   "execution_count": 53,
   "metadata": {},
   "outputs": [
    {
     "data": {
      "text/plain": [
       "2    0.572050\n",
       "3    0.352636\n",
       "1    0.052720\n",
       "4    0.022594\n",
       "Name: AGE_CAT, dtype: float64"
      ]
     },
     "execution_count": 53,
     "metadata": {},
     "output_type": "execute_result"
    }
   ],
   "source": [
    "df_dropna_t[\"AGE_CAT\"].value_counts()/len(df_dropna_t)"
   ]
  },
  {
   "cell_type": "code",
   "execution_count": 54,
   "metadata": {},
   "outputs": [
    {
     "data": {
      "text/plain": [
       "2    0.622951\n",
       "3    0.306011\n",
       "1    0.060109\n",
       "4    0.010929\n",
       "Name: AGE_CAT, dtype: float64"
      ]
     },
     "execution_count": 54,
     "metadata": {},
     "output_type": "execute_result"
    }
   ],
   "source": [
    "df_dropna_c[\"AGE_CAT\"].value_counts()/len(df_dropna_c)"
   ]
  },
  {
   "cell_type": "markdown",
   "metadata": {},
   "source": [
    "#### 3.56 Others      "
   ]
  },
  {
   "cell_type": "code",
   "execution_count": 55,
   "metadata": {},
   "outputs": [
    {
     "data": {
      "text/plain": [
       "1    0.978577\n",
       "0    0.021423\n",
       "Name: PROMO_MAILABLE_FLAG, dtype: float64"
      ]
     },
     "execution_count": 55,
     "metadata": {},
     "output_type": "execute_result"
    }
   ],
   "source": [
    "df_dropna_t[\"PROMO_MAILABLE_FLAG\"].value_counts()/len(df_dropna_t)     "
   ]
  },
  {
   "cell_type": "code",
   "execution_count": 56,
   "metadata": {},
   "outputs": [
    {
     "data": {
      "text/plain": [
       "1    0.961749\n",
       "0    0.038251\n",
       "Name: PROMO_MAILABLE_FLAG, dtype: float64"
      ]
     },
     "execution_count": 56,
     "metadata": {},
     "output_type": "execute_result"
    }
   ],
   "source": [
    "df_dropna_c[\"PROMO_MAILABLE_FLAG\"].value_counts()/len(df_dropna_c)     "
   ]
  },
  {
   "cell_type": "code",
   "execution_count": 57,
   "metadata": {},
   "outputs": [
    {
     "data": {
      "text/plain": [
       "1    0.777908\n",
       "0    0.222092\n",
       "Name: EMAIL_ENGAGED_30DAYS, dtype: float64"
      ]
     },
     "execution_count": 57,
     "metadata": {},
     "output_type": "execute_result"
    }
   ],
   "source": [
    "df_dropna_t[\"EMAIL_ENGAGED_30DAYS\"].value_counts()/len(df_dropna_t)     "
   ]
  },
  {
   "cell_type": "code",
   "execution_count": 58,
   "metadata": {},
   "outputs": [
    {
     "data": {
      "text/plain": [
       "1    0.748634\n",
       "0    0.251366\n",
       "Name: EMAIL_ENGAGED_30DAYS, dtype: float64"
      ]
     },
     "execution_count": 58,
     "metadata": {},
     "output_type": "execute_result"
    }
   ],
   "source": [
    "df_dropna_c[\"EMAIL_ENGAGED_30DAYS\"].value_counts()/len(df_dropna_c)    "
   ]
  },
  {
   "cell_type": "code",
   "execution_count": 59,
   "metadata": {},
   "outputs": [
    {
     "data": {
      "text/plain": [
       "<function matplotlib.pyplot.show(*args, **kw)>"
      ]
     },
     "execution_count": 59,
     "metadata": {},
     "output_type": "execute_result"
    },
    {
     "data": {
      "image/png": "[encoded data removed]",
      "text/plain": [
       "<Figure size 1440x1080 with 20 Axes>"
      ]
     },
     "metadata": {
      "needs_background": "light"
     },
     "output_type": "display_data"
    }
   ],
   "source": [
    "%matplotlib inline\n",
    "import matplotlib.pyplot as plt\n",
    "df_dropna_t.hist(bins=25,figsize=(20,15))\n",
    "#save_fig(\"attribute_histogram_plots\")\n",
    "plt.show"
   ]
  },
  {
   "cell_type": "markdown",
   "metadata": {},
   "source": [
    "# 4.Post-campaign Analysis: A/B Testing"
   ]
  },
  {
   "cell_type": "markdown",
   "metadata": {},
   "source": [
    "## 4.1 A/B Testing for all audience"
   ]
  },
  {
   "cell_type": "code",
   "execution_count": 60,
   "metadata": {},
   "outputs": [
    {
     "name": "stdout",
     "output_type": "stream",
     "text": [
      "Before data cleaning, conversion rate of all audience for control group is 0.0936,for test group is 0.069.\n"
     ]
    },
    {
     "data": {
      "text/plain": [
       "CONTROL_FLAG  RESPONDENT\n",
       "0             0             7756\n",
       "              1              575\n",
       "1             0              242\n",
       "              1               25\n",
       "Name: UNIQUE_COLLECTOR_ID, dtype: int64"
      ]
     },
     "execution_count": 60,
     "metadata": {},
     "output_type": "execute_result"
    }
   ],
   "source": [
    "##Number of respondents before data cleaning:\n",
    "(zero_t,one_t)=(7756,575)\n",
    "(zero_c,one_c)=(242,25)\n",
    "rate_t=round(one_t/(zero_t+one_t),4)\n",
    "rate_c=round(one_c/(zero_c+one_c),4)\n",
    "print(\"Before data cleaning, conversion rate of all audience for control group is {0},for test group is {1}.\".format(rate_c, rate_t))\n",
    "df.groupby(['CONTROL_FLAG','RESPONDENT'])['UNIQUE_COLLECTOR_ID'].count()"
   ]
  },
  {
   "cell_type": "code",
   "execution_count": 61,
   "metadata": {},
   "outputs": [
    {
     "name": "stdout",
     "output_type": "stream",
     "text": [
      "Conversion rate of all audience for control group is 0.0874,for test group is 0.0666.\n"
     ]
    },
    {
     "data": {
      "text/plain": [
       "CONTROL_FLAG  RESPONDENT\n",
       "0             0             5577\n",
       "              1              398\n",
       "1             0              167\n",
       "              1               16\n",
       "Name: UNIQUE_COLLECTOR_ID, dtype: int64"
      ]
     },
     "execution_count": 61,
     "metadata": {},
     "output_type": "execute_result"
    }
   ],
   "source": [
    "##Number of respondents after data cleaning:\n",
    "(zero_t,one_t)=(5577,398)\n",
    "(zero_c,one_c)=(167,16)\n",
    "rate_t=round(one_t/(zero_t+one_t),4)\n",
    "rate_c=round(one_c/(zero_c+one_c),4)\n",
    "print(\"Conversion rate of all audience for control group is {0},for test group is {1}.\".format(rate_c, rate_t))\n",
    "df_dropna.groupby(['CONTROL_FLAG','RESPONDENT'])['UNIQUE_COLLECTOR_ID'].count()"
   ]
  },
  {
   "cell_type": "code",
   "execution_count": 62,
   "metadata": {},
   "outputs": [
    {
     "name": "stdout",
     "output_type": "stream",
     "text": [
      "P value of one-tail test is 0.8660131167244486\n"
     ]
    }
   ],
   "source": [
    "from scipy.stats import ttest_ind_from_stats,ttest_ind\n",
    "\n",
    "n_t, n_conv_t = zero_t+one_t,one_t\n",
    "n_c, n_conv_c = zero_c+one_c,one_c\n",
    "# Test group \n",
    "t = np.zeros(n_t)\n",
    "t[:n_conv_t] = 1\n",
    "# Control group\n",
    "c = np.zeros(n_c)\n",
    "c[:n_conv_c] = 1\n",
    "#Stats test\n",
    "t1, p1 = ttest_ind(t, c)\n",
    "\n",
    "p1 = 1 - p1/2 if t1 < 0 else p1/2\n",
    "print('P value of one-tail test is '+ str(p1))"
   ]
  },
  {
   "cell_type": "markdown",
   "metadata": {},
   "source": [
    "## 4.2 A/B Testing for males and females"
   ]
  },
  {
   "cell_type": "code",
   "execution_count": 63,
   "metadata": {},
   "outputs": [
    {
     "name": "stdout",
     "output_type": "stream",
     "text": [
      "For females, conversion rate for control group is 0.087,for test group is 0.0698.\n"
     ]
    },
    {
     "data": {
      "text/plain": [
       "GENDER  CONTROL_FLAG  RESPONDENT\n",
       "0       0             0             3507\n",
       "                      1              263\n",
       "        1             0              105\n",
       "                      1               10\n",
       "1       0             0             2070\n",
       "                      1              135\n",
       "        1             0               62\n",
       "                      1                6\n",
       "Name: UNIQUE_COLLECTOR_ID, dtype: int64"
      ]
     },
     "execution_count": 63,
     "metadata": {},
     "output_type": "execute_result"
    }
   ],
   "source": [
    "##Number of respondent across genders(females): \n",
    "(zero_t,one_t)=(3507,263)\n",
    "(zero_c,one_c)=(105,10)\n",
    "rate_t=round(one_t/(zero_t+one_t),4)\n",
    "rate_c=round(one_c/(zero_c+one_c),4)\n",
    "print(\"For females, conversion rate for control group is {0},for test group is {1}.\".format(rate_c, rate_t))\n",
    "df_dropna.groupby(['GENDER','CONTROL_FLAG','RESPONDENT'])['UNIQUE_COLLECTOR_ID'].count()"
   ]
  },
  {
   "cell_type": "code",
   "execution_count": 64,
   "metadata": {},
   "outputs": [
    {
     "name": "stdout",
     "output_type": "stream",
     "text": [
      "P value of one-tail test is 0.7612920962629789\n"
     ]
    }
   ],
   "source": [
    "from scipy.stats import ttest_ind_from_stats,ttest_ind\n",
    "\n",
    "n_t, n_conv_t = zero_t+one_t,one_t\n",
    "n_c, n_conv_c = zero_c+one_c,one_c\n",
    "# Test group \n",
    "t = np.zeros(n_t)\n",
    "t[:n_conv_t] = 1\n",
    "# Control group\n",
    "c = np.zeros(n_c)\n",
    "c[:n_conv_c] = 1\n",
    "#Stats test\n",
    "t1, p1 = ttest_ind(t, c)\n",
    "\n",
    "p1 = 1 - p1/2 if t1 < 0 else p1/2\n",
    "print('P value of one-tail test is '+ str(p1))"
   ]
  },
  {
   "cell_type": "code",
   "execution_count": 65,
   "metadata": {},
   "outputs": [
    {
     "name": "stdout",
     "output_type": "stream",
     "text": [
      "For females, conversion rate for control group is 0.0882,for test group is 0.0612.\n"
     ]
    },
    {
     "data": {
      "text/plain": [
       "GENDER  CONTROL_FLAG  RESPONDENT\n",
       "0       0             0             3507\n",
       "                      1              263\n",
       "        1             0              105\n",
       "                      1               10\n",
       "1       0             0             2070\n",
       "                      1              135\n",
       "        1             0               62\n",
       "                      1                6\n",
       "Name: UNIQUE_COLLECTOR_ID, dtype: int64"
      ]
     },
     "execution_count": 65,
     "metadata": {},
     "output_type": "execute_result"
    }
   ],
   "source": [
    "##Number of respondent across genders(males): \n",
    "(zero_t,one_t)=(2070,135)\n",
    "(zero_c,one_c)=(62,6)\n",
    "rate_t=round(one_t/(zero_t+one_t),4)\n",
    "rate_c=round(one_c/(zero_c+one_c),4)\n",
    "print(\"For females, conversion rate for control group is {0},for test group is {1}.\".format(rate_c, rate_t))\n",
    "df_dropna.groupby(['GENDER','CONTROL_FLAG','RESPONDENT'])['UNIQUE_COLLECTOR_ID'].count()"
   ]
  },
  {
   "cell_type": "code",
   "execution_count": 66,
   "metadata": {},
   "outputs": [
    {
     "name": "stdout",
     "output_type": "stream",
     "text": [
      "P value of one-tail test is 0.8183412369406822\n"
     ]
    }
   ],
   "source": [
    "from scipy.stats import ttest_ind_from_stats,ttest_ind\n",
    "\n",
    "n_t, n_conv_t = zero_t+one_t,one_t\n",
    "n_c, n_conv_c = zero_c+one_c,one_c\n",
    "# Test group \n",
    "t = np.zeros(n_t)\n",
    "t[:n_conv_t] = 1\n",
    "# Control group\n",
    "c = np.zeros(n_c)\n",
    "c[:n_conv_c] = 1\n",
    "#Stats test\n",
    "t1, p1 = ttest_ind(t, c)\n",
    "\n",
    "p1 = 1 - p1/2 if t1 < 0 else p1/2\n",
    "print('P value of one-tail test is '+ str(p1))"
   ]
  },
  {
   "cell_type": "markdown",
   "metadata": {},
   "source": [
    "## 4.3 A/B Testing across different COLLECTOR_TIER"
   ]
  },
  {
   "cell_type": "code",
   "execution_count": 67,
   "metadata": {},
   "outputs": [
    {
     "name": "stdout",
     "output_type": "stream",
     "text": [
      "For Blue Collectors, conversion rate for control group is 0.0938,for test group is 0.0656.\n"
     ]
    },
    {
     "data": {
      "text/plain": [
       "COLLECTOR_TIER  CONTROL_FLAG  RESPONDENT\n",
       "B               0             0             2806\n",
       "                              1              197\n",
       "                1             0               87\n",
       "                              1                9\n",
       "G               0             0             1918\n",
       "                              1              145\n",
       "                1             0               60\n",
       "                              1                6\n",
       "O               0             0              853\n",
       "                              1               56\n",
       "                1             0               20\n",
       "                              1                1\n",
       "Name: UNIQUE_COLLECTOR_ID, dtype: int64"
      ]
     },
     "execution_count": 67,
     "metadata": {},
     "output_type": "execute_result"
    }
   ],
   "source": [
    "##Number of respondent across collector_tiers (Blue): \n",
    "(zero_t,one_t)=(2806,197)\n",
    "(zero_c,one_c)=(87,9)\n",
    "rate_t=round(one_t/(zero_t+one_t),4)\n",
    "rate_c=round(one_c/(zero_c+one_c),4)\n",
    "print(\"For Blue Collectors, conversion rate for control group is {0},for test group is {1}.\".format(rate_c, rate_t))\n",
    "df_dropna.groupby(['COLLECTOR_TIER','CONTROL_FLAG','RESPONDENT'])['UNIQUE_COLLECTOR_ID'].count()"
   ]
  },
  {
   "cell_type": "code",
   "execution_count": 68,
   "metadata": {},
   "outputs": [
    {
     "name": "stdout",
     "output_type": "stream",
     "text": [
      "For Gold Collectors, conversion rate for control group is 0.0909,for test group is 0.0703.\n"
     ]
    }
   ],
   "source": [
    "##Number of respondent across collector_tiers (Gold): \n",
    "(zero_t,one_t)=(1918,145)\n",
    "(zero_c,one_c)=(60,6)\n",
    "rate_t=round(one_t/(zero_t+one_t),4)\n",
    "rate_c=round(one_c/(zero_c+one_c),4)\n",
    "print(\"For Gold Collectors, conversion rate for control group is {0},for test group is {1}.\".format(rate_c, rate_t))"
   ]
  },
  {
   "cell_type": "code",
   "execution_count": 69,
   "metadata": {},
   "outputs": [
    {
     "name": "stdout",
     "output_type": "stream",
     "text": [
      "P value of one-tail test is 0.7396078651241138\n"
     ]
    }
   ],
   "source": [
    "from scipy.stats import ttest_ind_from_stats,ttest_ind\n",
    "\n",
    "n_t, n_conv_t = zero_t+one_t,one_t\n",
    "n_c, n_conv_c = zero_c+one_c,one_c\n",
    "# Test group \n",
    "t = np.zeros(n_t)\n",
    "t[:n_conv_t] = 1\n",
    "# Control group\n",
    "c = np.zeros(n_c)\n",
    "c[:n_conv_c] = 1\n",
    "#Stats test\n",
    "t1, p1 = ttest_ind(t, c)\n",
    "\n",
    "p1 = 1 - p1/2 if t1 < 0 else p1/2\n",
    "print('P value of one-tail test is '+ str(p1))"
   ]
  },
  {
   "cell_type": "code",
   "execution_count": 70,
   "metadata": {},
   "outputs": [
    {
     "name": "stdout",
     "output_type": "stream",
     "text": [
      "For Onyx Collectors, conversion rate for control group is 0.0476,for test group is 0.0616.\n"
     ]
    }
   ],
   "source": [
    "##Number of respondent across collector_tiers (Onyx): \n",
    "(zero_t,one_t)=(853,56)\n",
    "(zero_c,one_c)=(20,1)\n",
    "rate_t=round(one_t/(zero_t+one_t),4)\n",
    "rate_c=round(one_c/(zero_c+one_c),4)\n",
    "print(\"For Onyx Collectors, conversion rate for control group is {0},for test group is {1}.\".format(rate_c, rate_t))"
   ]
  },
  {
   "cell_type": "code",
   "execution_count": 71,
   "metadata": {},
   "outputs": [
    {
     "name": "stdout",
     "output_type": "stream",
     "text": [
      "P value of one-tail test is 0.39595169326786556\n"
     ]
    }
   ],
   "source": [
    "from scipy.stats import ttest_ind_from_stats,ttest_ind\n",
    "\n",
    "n_t, n_conv_t = zero_t+one_t,one_t\n",
    "n_c, n_conv_c = zero_c+one_c,one_c\n",
    "# Test group \n",
    "t = np.zeros(n_t)\n",
    "t[:n_conv_t] = 1\n",
    "# Control group\n",
    "c = np.zeros(n_c)\n",
    "c[:n_conv_c] = 1\n",
    "#Stats test\n",
    "t1, p1 = ttest_ind(t, c)\n",
    "\n",
    "p1 = 1 - p1/2 if t1 < 0 else p1/2\n",
    "print('P value of one-tail test is '+ str(p1))"
   ]
  },
  {
   "cell_type": "markdown",
   "metadata": {},
   "source": [
    "## 4.4 A/B Testing across different HOME_ADDRESS_REGION"
   ]
  },
  {
   "cell_type": "code",
   "execution_count": 72,
   "metadata": {},
   "outputs": [
    {
     "name": "stdout",
     "output_type": "stream",
     "text": [
      "For Ontario collectors, conversion rate for control group is 0.0526,for test group is 0.0676.\n"
     ]
    },
    {
     "data": {
      "text/plain": [
       "HOME_ADDRESS_REGION_CODE  CONTROL_FLAG  RESPONDENT\n",
       "A                         0             0              824\n",
       "                                        1               51\n",
       "                          1             0               20\n",
       "                                        1                3\n",
       "O                         0             0             2236\n",
       "                                        1              162\n",
       "                          1             0               72\n",
       "                                        1                4\n",
       "Q                         0             0              677\n",
       "                                        1               52\n",
       "                          1             0               16\n",
       "                                        1                3\n",
       "W                         0             0             1840\n",
       "                                        1              133\n",
       "                          1             0               59\n",
       "                                        1                6\n",
       "Name: UNIQUE_COLLECTOR_ID, dtype: int64"
      ]
     },
     "execution_count": 72,
     "metadata": {},
     "output_type": "execute_result"
    }
   ],
   "source": [
    "##Number of respondent across HOME_ADDRESS_REGION_CODE (O): \n",
    "(zero_t,one_t)=(2236,162)\n",
    "(zero_c,one_c)=(72,4)\n",
    "rate_t=round(one_t/(zero_t+one_t),4)\n",
    "rate_c=round(one_c/(zero_c+one_c),4)\n",
    "print(\"For Ontario collectors, conversion rate for control group is {0},for test group is {1}.\".format(rate_c, rate_t))\n",
    "df_dropna.groupby(['HOME_ADDRESS_REGION_CODE','CONTROL_FLAG','RESPONDENT'])['UNIQUE_COLLECTOR_ID'].count()"
   ]
  },
  {
   "cell_type": "code",
   "execution_count": 73,
   "metadata": {},
   "outputs": [
    {
     "name": "stdout",
     "output_type": "stream",
     "text": [
      "P value of one-tail test is 0.3044131844953638\n"
     ]
    }
   ],
   "source": [
    "from scipy.stats import ttest_ind_from_stats,ttest_ind\n",
    "\n",
    "n_t, n_conv_t = zero_t+one_t,one_t\n",
    "n_c, n_conv_c = zero_c+one_c,one_c\n",
    "# Test group \n",
    "t = np.zeros(n_t)\n",
    "t[:n_conv_t] = 1\n",
    "# Control group\n",
    "c = np.zeros(n_c)\n",
    "c[:n_conv_c] = 1\n",
    "#Stats test\n",
    "t1, p1 = ttest_ind(t, c)\n",
    "\n",
    "p1 = 1 - p1/2 if t1 < 0 else p1/2\n",
    "print('P value of one-tail test is '+ str(p1))"
   ]
  },
  {
   "cell_type": "markdown",
   "metadata": {},
   "source": [
    "## 4.4 A/B Testing across different AGE_CAT"
   ]
  },
  {
   "cell_type": "code",
   "execution_count": 74,
   "metadata": {},
   "outputs": [
    {
     "name": "stdout",
     "output_type": "stream",
     "text": [
      "For collectors < 25 yrs, conversion rate for control group is 0.1304,for test group is 0.0583.\n"
     ]
    },
    {
     "data": {
      "text/plain": [
       "AGE_CAT  CONTROL_FLAG  RESPONDENT\n",
       "1        0             0              287\n",
       "                       1               28\n",
       "         1             0               10\n",
       "                       1                1\n",
       "2        0             0             3199\n",
       "                       1              219\n",
       "         1             0              106\n",
       "                       1                8\n",
       "3        0             0             1976\n",
       "                       1              131\n",
       "         1             0               50\n",
       "                       1                6\n",
       "4        0             0              115\n",
       "                       1               20\n",
       "         1             0                1\n",
       "                       1                1\n",
       "Name: UNIQUE_COLLECTOR_ID, dtype: int64"
      ]
     },
     "execution_count": 74,
     "metadata": {},
     "output_type": "execute_result"
    }
   ],
   "source": [
    "##Number of respondent across AGE_CAT_1 (<25 yrs): \n",
    "(zero_t,one_t)=(824,51)\n",
    "(zero_c,one_c)=(20,3)\n",
    "rate_t=round(one_t/(zero_t+one_t),4)\n",
    "rate_c=round(one_c/(zero_c+one_c),4)\n",
    "print(\"For collectors < 25 yrs, conversion rate for control group is {0},for test group is {1}.\".format(rate_c, rate_t))\n",
    "df_dropna.groupby(['AGE_CAT','CONTROL_FLAG','RESPONDENT'])['UNIQUE_COLLECTOR_ID'].count()"
   ]
  },
  {
   "cell_type": "markdown",
   "metadata": {},
   "source": [
    "# 5. Analysis: Logistic regression"
   ]
  },
  {
   "cell_type": "markdown",
   "metadata": {},
   "source": [
    "## 5.1 How each attribute correlates with RESPONDENT"
   ]
  },
  {
   "cell_type": "code",
   "execution_count": 75,
   "metadata": {},
   "outputs": [],
   "source": [
    "corr_matrix=df_dropna.corr()"
   ]
  },
  {
   "cell_type": "code",
   "execution_count": 76,
   "metadata": {},
   "outputs": [
    {
     "data": {
      "text/html": [
       "<div>\n",
       "<style scoped>\n",
       "    .dataframe tbody tr th:only-of-type {\n",
       "        vertical-align: middle;\n",
       "    }\n",
       "\n",
       "    .dataframe tbody tr th {\n",
       "        vertical-align: top;\n",
       "    }\n",
       "\n",
       "    .dataframe thead th {\n",
       "        text-align: right;\n",
       "    }\n",
       "</style>\n",
       "<table border=\"1\" class=\"dataframe\">\n",
       "  <thead>\n",
       "    <tr style=\"text-align: right;\">\n",
       "      <th></th>\n",
       "      <th>UNIQUE_COLLECTOR_ID</th>\n",
       "      <th>ACCOUNT_STATUS</th>\n",
       "      <th>GENDER</th>\n",
       "      <th>LANGUAGE</th>\n",
       "      <th>PROMO_MAILABLE_FLAG</th>\n",
       "      <th>ACCOUNT_BALANCE</th>\n",
       "      <th>DREAM_ACCOUNT_BALANCE</th>\n",
       "      <th>CASH_ACCOUNT_BALANCE</th>\n",
       "      <th>CASH_RATIO</th>\n",
       "      <th>EMAIL_OPT_IN_FLAG</th>\n",
       "      <th>EARN_IN_CAMPAIGN_PERIOD</th>\n",
       "      <th>POST_1M_EARN</th>\n",
       "      <th>WEB_ACTIVE_30DAYS</th>\n",
       "      <th>EMAIL_ENGAGED_30DAYS</th>\n",
       "      <th>RESPONDENT</th>\n",
       "      <th>CONTROL_FLAG</th>\n",
       "      <th>AGE</th>\n",
       "      <th>YEARS_OF_ENROLL</th>\n",
       "      <th>POST_1M_EARN_RATIO</th>\n",
       "    </tr>\n",
       "  </thead>\n",
       "  <tbody>\n",
       "    <tr>\n",
       "      <td>UNIQUE_COLLECTOR_ID</td>\n",
       "      <td>1.000000</td>\n",
       "      <td>0.017819</td>\n",
       "      <td>0.002339</td>\n",
       "      <td>-0.027061</td>\n",
       "      <td>0.010536</td>\n",
       "      <td>-0.006645</td>\n",
       "      <td>-0.008146</td>\n",
       "      <td>0.009173</td>\n",
       "      <td>0.006074</td>\n",
       "      <td>NaN</td>\n",
       "      <td>-0.023798</td>\n",
       "      <td>-0.016833</td>\n",
       "      <td>-0.003988</td>\n",
       "      <td>0.005475</td>\n",
       "      <td>-0.014282</td>\n",
       "      <td>-0.006543</td>\n",
       "      <td>0.021018</td>\n",
       "      <td>-0.001689</td>\n",
       "      <td>-0.013989</td>\n",
       "    </tr>\n",
       "    <tr>\n",
       "      <td>ACCOUNT_STATUS</td>\n",
       "      <td>0.017819</td>\n",
       "      <td>1.000000</td>\n",
       "      <td>-0.023565</td>\n",
       "      <td>-0.005818</td>\n",
       "      <td>0.120394</td>\n",
       "      <td>0.008599</td>\n",
       "      <td>0.008000</td>\n",
       "      <td>0.004779</td>\n",
       "      <td>-0.020941</td>\n",
       "      <td>NaN</td>\n",
       "      <td>0.006894</td>\n",
       "      <td>0.005831</td>\n",
       "      <td>0.014926</td>\n",
       "      <td>-0.009655</td>\n",
       "      <td>0.004839</td>\n",
       "      <td>0.003154</td>\n",
       "      <td>-0.016921</td>\n",
       "      <td>-0.001910</td>\n",
       "      <td>-0.005575</td>\n",
       "    </tr>\n",
       "    <tr>\n",
       "      <td>GENDER</td>\n",
       "      <td>0.002339</td>\n",
       "      <td>-0.023565</td>\n",
       "      <td>1.000000</td>\n",
       "      <td>0.041967</td>\n",
       "      <td>0.001908</td>\n",
       "      <td>0.065725</td>\n",
       "      <td>0.056709</td>\n",
       "      <td>0.065577</td>\n",
       "      <td>-0.034077</td>\n",
       "      <td>NaN</td>\n",
       "      <td>0.070348</td>\n",
       "      <td>0.071454</td>\n",
       "      <td>0.022175</td>\n",
       "      <td>0.037831</td>\n",
       "      <td>-0.015874</td>\n",
       "      <td>0.000896</td>\n",
       "      <td>0.047700</td>\n",
       "      <td>-0.009220</td>\n",
       "      <td>0.006645</td>\n",
       "    </tr>\n",
       "    <tr>\n",
       "      <td>LANGUAGE</td>\n",
       "      <td>-0.027061</td>\n",
       "      <td>-0.005818</td>\n",
       "      <td>0.041967</td>\n",
       "      <td>1.000000</td>\n",
       "      <td>-0.010384</td>\n",
       "      <td>0.074608</td>\n",
       "      <td>0.078673</td>\n",
       "      <td>-0.019216</td>\n",
       "      <td>-0.148933</td>\n",
       "      <td>NaN</td>\n",
       "      <td>0.057438</td>\n",
       "      <td>0.036823</td>\n",
       "      <td>0.103300</td>\n",
       "      <td>0.027306</td>\n",
       "      <td>-0.010958</td>\n",
       "      <td>0.007413</td>\n",
       "      <td>0.038282</td>\n",
       "      <td>0.049361</td>\n",
       "      <td>0.013425</td>\n",
       "    </tr>\n",
       "    <tr>\n",
       "      <td>PROMO_MAILABLE_FLAG</td>\n",
       "      <td>0.010536</td>\n",
       "      <td>0.120394</td>\n",
       "      <td>0.001908</td>\n",
       "      <td>-0.010384</td>\n",
       "      <td>1.000000</td>\n",
       "      <td>0.016012</td>\n",
       "      <td>0.013401</td>\n",
       "      <td>0.018694</td>\n",
       "      <td>0.007224</td>\n",
       "      <td>NaN</td>\n",
       "      <td>0.032105</td>\n",
       "      <td>0.039793</td>\n",
       "      <td>0.044962</td>\n",
       "      <td>0.021049</td>\n",
       "      <td>0.018051</td>\n",
       "      <td>-0.019515</td>\n",
       "      <td>0.002843</td>\n",
       "      <td>0.011156</td>\n",
       "      <td>0.031154</td>\n",
       "    </tr>\n",
       "    <tr>\n",
       "      <td>ACCOUNT_BALANCE</td>\n",
       "      <td>-0.006645</td>\n",
       "      <td>0.008599</td>\n",
       "      <td>0.065725</td>\n",
       "      <td>0.074608</td>\n",
       "      <td>0.016012</td>\n",
       "      <td>1.000000</td>\n",
       "      <td>0.988631</td>\n",
       "      <td>0.173748</td>\n",
       "      <td>-0.283265</td>\n",
       "      <td>NaN</td>\n",
       "      <td>0.435047</td>\n",
       "      <td>0.525420</td>\n",
       "      <td>0.242937</td>\n",
       "      <td>0.103056</td>\n",
       "      <td>0.009501</td>\n",
       "      <td>-0.016018</td>\n",
       "      <td>0.149677</td>\n",
       "      <td>0.206345</td>\n",
       "      <td>0.077120</td>\n",
       "    </tr>\n",
       "    <tr>\n",
       "      <td>DREAM_ACCOUNT_BALANCE</td>\n",
       "      <td>-0.008146</td>\n",
       "      <td>0.008000</td>\n",
       "      <td>0.056709</td>\n",
       "      <td>0.078673</td>\n",
       "      <td>0.013401</td>\n",
       "      <td>0.988631</td>\n",
       "      <td>1.000000</td>\n",
       "      <td>0.023694</td>\n",
       "      <td>-0.322107</td>\n",
       "      <td>NaN</td>\n",
       "      <td>0.427381</td>\n",
       "      <td>0.508231</td>\n",
       "      <td>0.230427</td>\n",
       "      <td>0.093759</td>\n",
       "      <td>0.011398</td>\n",
       "      <td>-0.017997</td>\n",
       "      <td>0.144354</td>\n",
       "      <td>0.203835</td>\n",
       "      <td>0.061855</td>\n",
       "    </tr>\n",
       "    <tr>\n",
       "      <td>CASH_ACCOUNT_BALANCE</td>\n",
       "      <td>0.009173</td>\n",
       "      <td>0.004779</td>\n",
       "      <td>0.065577</td>\n",
       "      <td>-0.019216</td>\n",
       "      <td>0.018694</td>\n",
       "      <td>0.173748</td>\n",
       "      <td>0.023694</td>\n",
       "      <td>1.000000</td>\n",
       "      <td>0.226261</td>\n",
       "      <td>NaN</td>\n",
       "      <td>0.093401</td>\n",
       "      <td>0.164743</td>\n",
       "      <td>0.106053</td>\n",
       "      <td>0.071118</td>\n",
       "      <td>-0.011478</td>\n",
       "      <td>0.011370</td>\n",
       "      <td>0.049725</td>\n",
       "      <td>0.036926</td>\n",
       "      <td>0.107632</td>\n",
       "    </tr>\n",
       "    <tr>\n",
       "      <td>CASH_RATIO</td>\n",
       "      <td>0.006074</td>\n",
       "      <td>-0.020941</td>\n",
       "      <td>-0.034077</td>\n",
       "      <td>-0.148933</td>\n",
       "      <td>0.007224</td>\n",
       "      <td>-0.283265</td>\n",
       "      <td>-0.322107</td>\n",
       "      <td>0.226261</td>\n",
       "      <td>1.000000</td>\n",
       "      <td>NaN</td>\n",
       "      <td>-0.198788</td>\n",
       "      <td>-0.181372</td>\n",
       "      <td>-0.185985</td>\n",
       "      <td>-0.050884</td>\n",
       "      <td>-0.004934</td>\n",
       "      <td>0.014000</td>\n",
       "      <td>-0.065527</td>\n",
       "      <td>-0.168747</td>\n",
       "      <td>-0.027045</td>\n",
       "    </tr>\n",
       "    <tr>\n",
       "      <td>EMAIL_OPT_IN_FLAG</td>\n",
       "      <td>NaN</td>\n",
       "      <td>NaN</td>\n",
       "      <td>NaN</td>\n",
       "      <td>NaN</td>\n",
       "      <td>NaN</td>\n",
       "      <td>NaN</td>\n",
       "      <td>NaN</td>\n",
       "      <td>NaN</td>\n",
       "      <td>NaN</td>\n",
       "      <td>NaN</td>\n",
       "      <td>NaN</td>\n",
       "      <td>NaN</td>\n",
       "      <td>NaN</td>\n",
       "      <td>NaN</td>\n",
       "      <td>NaN</td>\n",
       "      <td>NaN</td>\n",
       "      <td>NaN</td>\n",
       "      <td>NaN</td>\n",
       "      <td>NaN</td>\n",
       "    </tr>\n",
       "    <tr>\n",
       "      <td>EARN_IN_CAMPAIGN_PERIOD</td>\n",
       "      <td>-0.023798</td>\n",
       "      <td>0.006894</td>\n",
       "      <td>0.070348</td>\n",
       "      <td>0.057438</td>\n",
       "      <td>0.032105</td>\n",
       "      <td>0.435047</td>\n",
       "      <td>0.427381</td>\n",
       "      <td>0.093401</td>\n",
       "      <td>-0.198788</td>\n",
       "      <td>NaN</td>\n",
       "      <td>1.000000</td>\n",
       "      <td>0.635573</td>\n",
       "      <td>0.308035</td>\n",
       "      <td>0.121040</td>\n",
       "      <td>0.005915</td>\n",
       "      <td>-0.016904</td>\n",
       "      <td>0.123811</td>\n",
       "      <td>0.164559</td>\n",
       "      <td>-0.027690</td>\n",
       "    </tr>\n",
       "    <tr>\n",
       "      <td>POST_1M_EARN</td>\n",
       "      <td>-0.016833</td>\n",
       "      <td>0.005831</td>\n",
       "      <td>0.071454</td>\n",
       "      <td>0.036823</td>\n",
       "      <td>0.039793</td>\n",
       "      <td>0.525420</td>\n",
       "      <td>0.508231</td>\n",
       "      <td>0.164743</td>\n",
       "      <td>-0.181372</td>\n",
       "      <td>NaN</td>\n",
       "      <td>0.635573</td>\n",
       "      <td>1.000000</td>\n",
       "      <td>0.365852</td>\n",
       "      <td>0.159232</td>\n",
       "      <td>0.006056</td>\n",
       "      <td>-0.003977</td>\n",
       "      <td>0.116581</td>\n",
       "      <td>0.149045</td>\n",
       "      <td>0.392901</td>\n",
       "    </tr>\n",
       "    <tr>\n",
       "      <td>WEB_ACTIVE_30DAYS</td>\n",
       "      <td>-0.003988</td>\n",
       "      <td>0.014926</td>\n",
       "      <td>0.022175</td>\n",
       "      <td>0.103300</td>\n",
       "      <td>0.044962</td>\n",
       "      <td>0.242937</td>\n",
       "      <td>0.230427</td>\n",
       "      <td>0.106053</td>\n",
       "      <td>-0.185985</td>\n",
       "      <td>NaN</td>\n",
       "      <td>0.308035</td>\n",
       "      <td>0.365852</td>\n",
       "      <td>1.000000</td>\n",
       "      <td>0.278386</td>\n",
       "      <td>0.008699</td>\n",
       "      <td>0.006926</td>\n",
       "      <td>0.134549</td>\n",
       "      <td>0.190083</td>\n",
       "      <td>0.114755</td>\n",
       "    </tr>\n",
       "    <tr>\n",
       "      <td>EMAIL_ENGAGED_30DAYS</td>\n",
       "      <td>0.005475</td>\n",
       "      <td>-0.009655</td>\n",
       "      <td>0.037831</td>\n",
       "      <td>0.027306</td>\n",
       "      <td>0.021049</td>\n",
       "      <td>0.103056</td>\n",
       "      <td>0.093759</td>\n",
       "      <td>0.071118</td>\n",
       "      <td>-0.050884</td>\n",
       "      <td>NaN</td>\n",
       "      <td>0.121040</td>\n",
       "      <td>0.159232</td>\n",
       "      <td>0.278386</td>\n",
       "      <td>1.000000</td>\n",
       "      <td>-0.024450</td>\n",
       "      <td>-0.011943</td>\n",
       "      <td>0.125744</td>\n",
       "      <td>0.150732</td>\n",
       "      <td>0.061327</td>\n",
       "    </tr>\n",
       "    <tr>\n",
       "      <td>RESPONDENT</td>\n",
       "      <td>-0.014282</td>\n",
       "      <td>0.004839</td>\n",
       "      <td>-0.015874</td>\n",
       "      <td>-0.010958</td>\n",
       "      <td>0.018051</td>\n",
       "      <td>0.009501</td>\n",
       "      <td>0.011398</td>\n",
       "      <td>-0.011478</td>\n",
       "      <td>-0.004934</td>\n",
       "      <td>NaN</td>\n",
       "      <td>0.005915</td>\n",
       "      <td>0.006056</td>\n",
       "      <td>0.008699</td>\n",
       "      <td>-0.024450</td>\n",
       "      <td>1.000000</td>\n",
       "      <td>0.014118</td>\n",
       "      <td>0.005068</td>\n",
       "      <td>-0.006437</td>\n",
       "      <td>0.005422</td>\n",
       "    </tr>\n",
       "    <tr>\n",
       "      <td>CONTROL_FLAG</td>\n",
       "      <td>-0.006543</td>\n",
       "      <td>0.003154</td>\n",
       "      <td>0.000896</td>\n",
       "      <td>0.007413</td>\n",
       "      <td>-0.019515</td>\n",
       "      <td>-0.016018</td>\n",
       "      <td>-0.017997</td>\n",
       "      <td>0.011370</td>\n",
       "      <td>0.014000</td>\n",
       "      <td>NaN</td>\n",
       "      <td>-0.016904</td>\n",
       "      <td>-0.003977</td>\n",
       "      <td>0.006926</td>\n",
       "      <td>-0.011943</td>\n",
       "      <td>0.014118</td>\n",
       "      <td>1.000000</td>\n",
       "      <td>-0.015396</td>\n",
       "      <td>-0.018924</td>\n",
       "      <td>0.003625</td>\n",
       "    </tr>\n",
       "    <tr>\n",
       "      <td>AGE</td>\n",
       "      <td>0.021018</td>\n",
       "      <td>-0.016921</td>\n",
       "      <td>0.047700</td>\n",
       "      <td>0.038282</td>\n",
       "      <td>0.002843</td>\n",
       "      <td>0.149677</td>\n",
       "      <td>0.144354</td>\n",
       "      <td>0.049725</td>\n",
       "      <td>-0.065527</td>\n",
       "      <td>NaN</td>\n",
       "      <td>0.123811</td>\n",
       "      <td>0.116581</td>\n",
       "      <td>0.134549</td>\n",
       "      <td>0.125744</td>\n",
       "      <td>0.005068</td>\n",
       "      <td>-0.015396</td>\n",
       "      <td>1.000000</td>\n",
       "      <td>0.588129</td>\n",
       "      <td>0.024002</td>\n",
       "    </tr>\n",
       "    <tr>\n",
       "      <td>YEARS_OF_ENROLL</td>\n",
       "      <td>-0.001689</td>\n",
       "      <td>-0.001910</td>\n",
       "      <td>-0.009220</td>\n",
       "      <td>0.049361</td>\n",
       "      <td>0.011156</td>\n",
       "      <td>0.206345</td>\n",
       "      <td>0.203835</td>\n",
       "      <td>0.036926</td>\n",
       "      <td>-0.168747</td>\n",
       "      <td>NaN</td>\n",
       "      <td>0.164559</td>\n",
       "      <td>0.149045</td>\n",
       "      <td>0.190083</td>\n",
       "      <td>0.150732</td>\n",
       "      <td>-0.006437</td>\n",
       "      <td>-0.018924</td>\n",
       "      <td>0.588129</td>\n",
       "      <td>1.000000</td>\n",
       "      <td>0.026164</td>\n",
       "    </tr>\n",
       "    <tr>\n",
       "      <td>POST_1M_EARN_RATIO</td>\n",
       "      <td>-0.013989</td>\n",
       "      <td>-0.005575</td>\n",
       "      <td>0.006645</td>\n",
       "      <td>0.013425</td>\n",
       "      <td>0.031154</td>\n",
       "      <td>0.077120</td>\n",
       "      <td>0.061855</td>\n",
       "      <td>0.107632</td>\n",
       "      <td>-0.027045</td>\n",
       "      <td>NaN</td>\n",
       "      <td>-0.027690</td>\n",
       "      <td>0.392901</td>\n",
       "      <td>0.114755</td>\n",
       "      <td>0.061327</td>\n",
       "      <td>0.005422</td>\n",
       "      <td>0.003625</td>\n",
       "      <td>0.024002</td>\n",
       "      <td>0.026164</td>\n",
       "      <td>1.000000</td>\n",
       "    </tr>\n",
       "  </tbody>\n",
       "</table>\n",
       "</div>"
      ],
      "text/plain": [
       "                         UNIQUE_COLLECTOR_ID  ACCOUNT_STATUS    GENDER  \\\n",
       "UNIQUE_COLLECTOR_ID                 1.000000        0.017819  0.002339   \n",
       "ACCOUNT_STATUS                      0.017819        1.000000 -0.023565   \n",
       "GENDER                              0.002339       -0.023565  1.000000   \n",
       "LANGUAGE                           -0.027061       -0.005818  0.041967   \n",
       "PROMO_MAILABLE_FLAG                 0.010536        0.120394  0.001908   \n",
       "ACCOUNT_BALANCE                    -0.006645        0.008599  0.065725   \n",
       "DREAM_ACCOUNT_BALANCE              -0.008146        0.008000  0.056709   \n",
       "CASH_ACCOUNT_BALANCE                0.009173        0.004779  0.065577   \n",
       "CASH_RATIO                          0.006074       -0.020941 -0.034077   \n",
       "EMAIL_OPT_IN_FLAG                        NaN             NaN       NaN   \n",
       "EARN_IN_CAMPAIGN_PERIOD            -0.023798        0.006894  0.070348   \n",
       "POST_1M_EARN                       -0.016833        0.005831  0.071454   \n",
       "WEB_ACTIVE_30DAYS                  -0.003988        0.014926  0.022175   \n",
       "EMAIL_ENGAGED_30DAYS                0.005475       -0.009655  0.037831   \n",
       "RESPONDENT                         -0.014282        0.004839 -0.015874   \n",
       "CONTROL_FLAG                       -0.006543        0.003154  0.000896   \n",
       "AGE                                 0.021018       -0.016921  0.047700   \n",
       "YEARS_OF_ENROLL                    -0.001689       -0.001910 -0.009220   \n",
       "POST_1M_EARN_RATIO                 -0.013989       -0.005575  0.006645   \n",
       "\n",
       "                         LANGUAGE  PROMO_MAILABLE_FLAG  ACCOUNT_BALANCE  \\\n",
       "UNIQUE_COLLECTOR_ID     -0.027061             0.010536        -0.006645   \n",
       "ACCOUNT_STATUS          -0.005818             0.120394         0.008599   \n",
       "GENDER                   0.041967             0.001908         0.065725   \n",
       "LANGUAGE                 1.000000            -0.010384         0.074608   \n",
       "PROMO_MAILABLE_FLAG     -0.010384             1.000000         0.016012   \n",
       "ACCOUNT_BALANCE          0.074608             0.016012         1.000000   \n",
       "DREAM_ACCOUNT_BALANCE    0.078673             0.013401         0.988631   \n",
       "CASH_ACCOUNT_BALANCE    -0.019216             0.018694         0.173748   \n",
       "CASH_RATIO              -0.148933             0.007224        -0.283265   \n",
       "EMAIL_OPT_IN_FLAG             NaN                  NaN              NaN   \n",
       "EARN_IN_CAMPAIGN_PERIOD  0.057438             0.032105         0.435047   \n",
       "POST_1M_EARN             0.036823             0.039793         0.525420   \n",
       "WEB_ACTIVE_30DAYS        0.103300             0.044962         0.242937   \n",
       "EMAIL_ENGAGED_30DAYS     0.027306             0.021049         0.103056   \n",
       "RESPONDENT              -0.010958             0.018051         0.009501   \n",
       "CONTROL_FLAG             0.007413            -0.019515        -0.016018   \n",
       "AGE                      0.038282             0.002843         0.149677   \n",
       "YEARS_OF_ENROLL          0.049361             0.011156         0.206345   \n",
       "POST_1M_EARN_RATIO       0.013425             0.031154         0.077120   \n",
       "\n",
       "                         DREAM_ACCOUNT_BALANCE  CASH_ACCOUNT_BALANCE  \\\n",
       "UNIQUE_COLLECTOR_ID                  -0.008146              0.009173   \n",
       "ACCOUNT_STATUS                        0.008000              0.004779   \n",
       "GENDER                                0.056709              0.065577   \n",
       "LANGUAGE                              0.078673             -0.019216   \n",
       "PROMO_MAILABLE_FLAG                   0.013401              0.018694   \n",
       "ACCOUNT_BALANCE                       0.988631              0.173748   \n",
       "DREAM_ACCOUNT_BALANCE                 1.000000              0.023694   \n",
       "CASH_ACCOUNT_BALANCE                  0.023694              1.000000   \n",
       "CASH_RATIO                           -0.322107              0.226261   \n",
       "EMAIL_OPT_IN_FLAG                          NaN                   NaN   \n",
       "EARN_IN_CAMPAIGN_PERIOD               0.427381              0.093401   \n",
       "POST_1M_EARN                          0.508231              0.164743   \n",
       "WEB_ACTIVE_30DAYS                     0.230427              0.106053   \n",
       "EMAIL_ENGAGED_30DAYS                  0.093759              0.071118   \n",
       "RESPONDENT                            0.011398             -0.011478   \n",
       "CONTROL_FLAG                         -0.017997              0.011370   \n",
       "AGE                                   0.144354              0.049725   \n",
       "YEARS_OF_ENROLL                       0.203835              0.036926   \n",
       "POST_1M_EARN_RATIO                    0.061855              0.107632   \n",
       "\n",
       "                         CASH_RATIO  EMAIL_OPT_IN_FLAG  \\\n",
       "UNIQUE_COLLECTOR_ID        0.006074                NaN   \n",
       "ACCOUNT_STATUS            -0.020941                NaN   \n",
       "GENDER                    -0.034077                NaN   \n",
       "LANGUAGE                  -0.148933                NaN   \n",
       "PROMO_MAILABLE_FLAG        0.007224                NaN   \n",
       "ACCOUNT_BALANCE           -0.283265                NaN   \n",
       "DREAM_ACCOUNT_BALANCE     -0.322107                NaN   \n",
       "CASH_ACCOUNT_BALANCE       0.226261                NaN   \n",
       "CASH_RATIO                 1.000000                NaN   \n",
       "EMAIL_OPT_IN_FLAG               NaN                NaN   \n",
       "EARN_IN_CAMPAIGN_PERIOD   -0.198788                NaN   \n",
       "POST_1M_EARN              -0.181372                NaN   \n",
       "WEB_ACTIVE_30DAYS         -0.185985                NaN   \n",
       "EMAIL_ENGAGED_30DAYS      -0.050884                NaN   \n",
       "RESPONDENT                -0.004934                NaN   \n",
       "CONTROL_FLAG               0.014000                NaN   \n",
       "AGE                       -0.065527                NaN   \n",
       "YEARS_OF_ENROLL           -0.168747                NaN   \n",
       "POST_1M_EARN_RATIO        -0.027045                NaN   \n",
       "\n",
       "                         EARN_IN_CAMPAIGN_PERIOD  POST_1M_EARN  \\\n",
       "UNIQUE_COLLECTOR_ID                    -0.023798     -0.016833   \n",
       "ACCOUNT_STATUS                          0.006894      0.005831   \n",
       "GENDER                                  0.070348      0.071454   \n",
       "LANGUAGE                                0.057438      0.036823   \n",
       "PROMO_MAILABLE_FLAG                     0.032105      0.039793   \n",
       "ACCOUNT_BALANCE                         0.435047      0.525420   \n",
       "DREAM_ACCOUNT_BALANCE                   0.427381      0.508231   \n",
       "CASH_ACCOUNT_BALANCE                    0.093401      0.164743   \n",
       "CASH_RATIO                             -0.198788     -0.181372   \n",
       "EMAIL_OPT_IN_FLAG                            NaN           NaN   \n",
       "EARN_IN_CAMPAIGN_PERIOD                 1.000000      0.635573   \n",
       "POST_1M_EARN                            0.635573      1.000000   \n",
       "WEB_ACTIVE_30DAYS                       0.308035      0.365852   \n",
       "EMAIL_ENGAGED_30DAYS                    0.121040      0.159232   \n",
       "RESPONDENT                              0.005915      0.006056   \n",
       "CONTROL_FLAG                           -0.016904     -0.003977   \n",
       "AGE                                     0.123811      0.116581   \n",
       "YEARS_OF_ENROLL                         0.164559      0.149045   \n",
       "POST_1M_EARN_RATIO                     -0.027690      0.392901   \n",
       "\n",
       "                         WEB_ACTIVE_30DAYS  EMAIL_ENGAGED_30DAYS  RESPONDENT  \\\n",
       "UNIQUE_COLLECTOR_ID              -0.003988              0.005475   -0.014282   \n",
       "ACCOUNT_STATUS                    0.014926             -0.009655    0.004839   \n",
       "GENDER                            0.022175              0.037831   -0.015874   \n",
       "LANGUAGE                          0.103300              0.027306   -0.010958   \n",
       "PROMO_MAILABLE_FLAG               0.044962              0.021049    0.018051   \n",
       "ACCOUNT_BALANCE                   0.242937              0.103056    0.009501   \n",
       "DREAM_ACCOUNT_BALANCE             0.230427              0.093759    0.011398   \n",
       "CASH_ACCOUNT_BALANCE              0.106053              0.071118   -0.011478   \n",
       "CASH_RATIO                       -0.185985             -0.050884   -0.004934   \n",
       "EMAIL_OPT_IN_FLAG                      NaN                   NaN         NaN   \n",
       "EARN_IN_CAMPAIGN_PERIOD           0.308035              0.121040    0.005915   \n",
       "POST_1M_EARN                      0.365852              0.159232    0.006056   \n",
       "WEB_ACTIVE_30DAYS                 1.000000              0.278386    0.008699   \n",
       "EMAIL_ENGAGED_30DAYS              0.278386              1.000000   -0.024450   \n",
       "RESPONDENT                        0.008699             -0.024450    1.000000   \n",
       "CONTROL_FLAG                      0.006926             -0.011943    0.014118   \n",
       "AGE                               0.134549              0.125744    0.005068   \n",
       "YEARS_OF_ENROLL                   0.190083              0.150732   -0.006437   \n",
       "POST_1M_EARN_RATIO                0.114755              0.061327    0.005422   \n",
       "\n",
       "                         CONTROL_FLAG       AGE  YEARS_OF_ENROLL  \\\n",
       "UNIQUE_COLLECTOR_ID         -0.006543  0.021018        -0.001689   \n",
       "ACCOUNT_STATUS               0.003154 -0.016921        -0.001910   \n",
       "GENDER                       0.000896  0.047700        -0.009220   \n",
       "LANGUAGE                     0.007413  0.038282         0.049361   \n",
       "PROMO_MAILABLE_FLAG         -0.019515  0.002843         0.011156   \n",
       "ACCOUNT_BALANCE             -0.016018  0.149677         0.206345   \n",
       "DREAM_ACCOUNT_BALANCE       -0.017997  0.144354         0.203835   \n",
       "CASH_ACCOUNT_BALANCE         0.011370  0.049725         0.036926   \n",
       "CASH_RATIO                   0.014000 -0.065527        -0.168747   \n",
       "EMAIL_OPT_IN_FLAG                 NaN       NaN              NaN   \n",
       "EARN_IN_CAMPAIGN_PERIOD     -0.016904  0.123811         0.164559   \n",
       "POST_1M_EARN                -0.003977  0.116581         0.149045   \n",
       "WEB_ACTIVE_30DAYS            0.006926  0.134549         0.190083   \n",
       "EMAIL_ENGAGED_30DAYS        -0.011943  0.125744         0.150732   \n",
       "RESPONDENT                   0.014118  0.005068        -0.006437   \n",
       "CONTROL_FLAG                 1.000000 -0.015396        -0.018924   \n",
       "AGE                         -0.015396  1.000000         0.588129   \n",
       "YEARS_OF_ENROLL             -0.018924  0.588129         1.000000   \n",
       "POST_1M_EARN_RATIO           0.003625  0.024002         0.026164   \n",
       "\n",
       "                         POST_1M_EARN_RATIO  \n",
       "UNIQUE_COLLECTOR_ID               -0.013989  \n",
       "ACCOUNT_STATUS                    -0.005575  \n",
       "GENDER                             0.006645  \n",
       "LANGUAGE                           0.013425  \n",
       "PROMO_MAILABLE_FLAG                0.031154  \n",
       "ACCOUNT_BALANCE                    0.077120  \n",
       "DREAM_ACCOUNT_BALANCE              0.061855  \n",
       "CASH_ACCOUNT_BALANCE               0.107632  \n",
       "CASH_RATIO                        -0.027045  \n",
       "EMAIL_OPT_IN_FLAG                       NaN  \n",
       "EARN_IN_CAMPAIGN_PERIOD           -0.027690  \n",
       "POST_1M_EARN                       0.392901  \n",
       "WEB_ACTIVE_30DAYS                  0.114755  \n",
       "EMAIL_ENGAGED_30DAYS               0.061327  \n",
       "RESPONDENT                         0.005422  \n",
       "CONTROL_FLAG                       0.003625  \n",
       "AGE                                0.024002  \n",
       "YEARS_OF_ENROLL                    0.026164  \n",
       "POST_1M_EARN_RATIO                 1.000000  "
      ]
     },
     "execution_count": 76,
     "metadata": {},
     "output_type": "execute_result"
    }
   ],
   "source": [
    "corr_matrix"
   ]
  },
  {
   "cell_type": "code",
   "execution_count": 77,
   "metadata": {},
   "outputs": [
    {
     "data": {
      "text/plain": [
       "RESPONDENT                 1.000000\n",
       "PROMO_MAILABLE_FLAG        0.018051\n",
       "CONTROL_FLAG               0.014118\n",
       "DREAM_ACCOUNT_BALANCE      0.011398\n",
       "ACCOUNT_BALANCE            0.009501\n",
       "WEB_ACTIVE_30DAYS          0.008699\n",
       "POST_1M_EARN               0.006056\n",
       "EARN_IN_CAMPAIGN_PERIOD    0.005915\n",
       "POST_1M_EARN_RATIO         0.005422\n",
       "AGE                        0.005068\n",
       "ACCOUNT_STATUS             0.004839\n",
       "CASH_RATIO                -0.004934\n",
       "YEARS_OF_ENROLL           -0.006437\n",
       "LANGUAGE                  -0.010958\n",
       "CASH_ACCOUNT_BALANCE      -0.011478\n",
       "UNIQUE_COLLECTOR_ID       -0.014282\n",
       "GENDER                    -0.015874\n",
       "EMAIL_ENGAGED_30DAYS      -0.024450\n",
       "EMAIL_OPT_IN_FLAG               NaN\n",
       "Name: RESPONDENT, dtype: float64"
      ]
     },
     "execution_count": 77,
     "metadata": {},
     "output_type": "execute_result"
    }
   ],
   "source": [
    "corr_matrix[\"RESPONDENT\"].sort_values(ascending=False)"
   ]
  },
  {
   "cell_type": "code",
   "execution_count": 78,
   "metadata": {},
   "outputs": [],
   "source": [
    "##Alternatively, plot numerical attributes against every other numerical attributes"
   ]
  },
  {
   "cell_type": "code",
   "execution_count": 79,
   "metadata": {},
   "outputs": [
    {
     "data": {
      "text/plain": [
       "array([[<matplotlib.axes._subplots.AxesSubplot object at 0x0000017060B11B08>,\n",
       "        <matplotlib.axes._subplots.AxesSubplot object at 0x00000170609A50C8>,\n",
       "        <matplotlib.axes._subplots.AxesSubplot object at 0x0000017060B3B608>],\n",
       "       [<matplotlib.axes._subplots.AxesSubplot object at 0x0000017060B19F08>,\n",
       "        <matplotlib.axes._subplots.AxesSubplot object at 0x00000170609F4408>,\n",
       "        <matplotlib.axes._subplots.AxesSubplot object at 0x0000017060BD6CC8>],\n",
       "       [<matplotlib.axes._subplots.AxesSubplot object at 0x0000017060BC6D88>,\n",
       "        <matplotlib.axes._subplots.AxesSubplot object at 0x0000017060AD2288>,\n",
       "        <matplotlib.axes._subplots.AxesSubplot object at 0x0000017060AC3C88>]],\n",
       "      dtype=object)"
      ]
     },
     "execution_count": 79,
     "metadata": {},
     "output_type": "execute_result"
    },
    {
     "data": {
      "image/png": "[encoded data removed]",
      "text/plain": [
       "<Figure size 864x576 with 9 Axes>"
      ]
     },
     "metadata": {
      "needs_background": "light"
     },
     "output_type": "display_data"
    }
   ],
   "source": [
    "from pandas.plotting import scatter_matrix \n",
    "attributes = [\"CASH_RATIO\",\"ACCOUNT_BALANCE\",\"CASH_ACCOUNT_BALANCE\"]\n",
    "scatter_matrix(df_dropna[attributes],figsize=(12,8))"
   ]
  },
  {
   "cell_type": "code",
   "execution_count": 80,
   "metadata": {},
   "outputs": [
    {
     "name": "stdout",
     "output_type": "stream",
     "text": [
      "<class 'pandas.core.frame.DataFrame'>\n",
      "Int64Index: 6158 entries, 0 to 8597\n",
      "Data columns (total 30 columns):\n",
      "UNIQUE_COLLECTOR_ID           6158 non-null int64\n",
      "ACCOUNT_STATUS                6158 non-null int64\n",
      "COLLECTOR_TIER                6158 non-null category\n",
      "ENROLLMENT_DATE               6158 non-null datetime64[ns]\n",
      "BIRTHDATE                     6158 non-null datetime64[ns]\n",
      "GENDER                        6158 non-null int64\n",
      "LANGUAGE                      6158 non-null int64\n",
      "HOUSEHOLD_INCOME_CATEGORY     6158 non-null category\n",
      "HOME_ADDRESS_CITY             6158 non-null category\n",
      "HOME_ADDRESS_PROVINCE_CODE    6158 non-null category\n",
      "HOME_ADDRESS_REGION_CODE      6158 non-null category\n",
      "PROMO_MAILABLE_FLAG           6158 non-null int64\n",
      "ACCOUNT_BALANCE               6158 non-null int64\n",
      "DREAM_ACCOUNT_BALANCE         6158 non-null int64\n",
      "CASH_ACCOUNT_BALANCE          6158 non-null int64\n",
      "CASH_RATIO                    6158 non-null int64\n",
      "LAST_RATIO_CHG_DATE           4422 non-null datetime64[ns]\n",
      "EMAIL_OPT_IN_FLAG             6158 non-null int64\n",
      "EARN_IN_CAMPAIGN_PERIOD       6158 non-null int64\n",
      "POST_1M_EARN                  6158 non-null int64\n",
      "WEB_ACTIVE_30DAYS             6158 non-null int64\n",
      "EMAIL_ENGAGED_30DAYS          6158 non-null int64\n",
      "RESPONDENT                    6158 non-null int64\n",
      "DATE_OF_RESPONSE              414 non-null datetime64[ns]\n",
      "CONTROL_FLAG                  6158 non-null int64\n",
      "AGE                           6158 non-null int64\n",
      "YEARS_OF_ENROLL               6158 non-null int64\n",
      "AGE_CAT                       6158 non-null category\n",
      "YEARS_OF_ENROLL_CAT           6158 non-null category\n",
      "POST_1M_EARN_RATIO            6158 non-null float64\n",
      "dtypes: category(7), datetime64[ns](4), float64(1), int64(18)\n",
      "memory usage: 1.2 MB\n"
     ]
    }
   ],
   "source": [
    "df_dropna.info()"
   ]
  },
  {
   "cell_type": "code",
   "execution_count": 209,
   "metadata": {},
   "outputs": [],
   "source": [
    "df_1 = pd.get_dummies(df_dropna['HOME_ADDRESS_REGION_CODE'], prefix= 'HOME_ADDRESS_REGION_CODE')\n",
    "df_2 = pd.get_dummies(df_dropna['COLLECTOR_TIER'], prefix='COLLECTOR_TIER')    \n",
    "df_3 = pd.get_dummies(df_dropna['HOUSEHOLD_INCOME_CATEGORY'], prefix='HOUSEHOLD_INCOME_CATEGORY')     \n",
    "data = pd.concat([df_dropna, df_1, df_2,df_3], axis=1)\n",
    "#print (df_dropna.head())\n",
    "    \n",
    "cat_vars=['HOME_ADDRESS_REGION_CODE','COLLECTOR_TIER','HOUSEHOLD_INCOME_CATEGORY']\n",
    "data_vars=data.columns.values.tolist()\n",
    "\n",
    "data_vars.remove('UNIQUE_COLLECTOR_ID')\n",
    "data_vars.remove('ENROLLMENT_DATE')\n",
    "data_vars.remove('ACCOUNT_STATUS')\n",
    "data_vars.remove('BIRTHDATE')\n",
    "data_vars.remove('HOME_ADDRESS_CITY')\n",
    "data_vars.remove('HOME_ADDRESS_PROVINCE_CODE')\n",
    "data_vars.remove('LAST_RATIO_CHG_DATE')\n",
    "data_vars.remove('EARN_IN_CAMPAIGN_PERIOD')\n",
    "data_vars.remove('POST_1M_EARN')\n",
    "data_vars.remove('DATE_OF_RESPONSE')\n",
    "data_vars.remove('HOUSEHOLD_INCOME_CATEGORY')\n",
    "to_keep=[i for i in data_vars if i not in cat_vars]"
   ]
  },
  {
   "cell_type": "code",
   "execution_count": 210,
   "metadata": {},
   "outputs": [
    {
     "name": "stdout",
     "output_type": "stream",
     "text": [
      "<class 'pandas.core.frame.DataFrame'>\n",
      "Int64Index: 6158 entries, 0 to 8597\n",
      "Data columns (total 38 columns):\n",
      "UNIQUE_COLLECTOR_ID             6158 non-null int64\n",
      "ACCOUNT_STATUS                  6158 non-null int64\n",
      "COLLECTOR_TIER                  6158 non-null category\n",
      "ENROLLMENT_DATE                 6158 non-null datetime64[ns]\n",
      "BIRTHDATE                       6158 non-null object\n",
      "GENDER                          6158 non-null int64\n",
      "LANGUAGE                        6158 non-null int64\n",
      "HOUSEHOLD_INCOME_CATEGORY       6158 non-null category\n",
      "HOME_ADDRESS_CITY               6158 non-null category\n",
      "HOME_ADDRESS_PROVINCE_CODE      6158 non-null category\n",
      "HOME_ADDRESS_REGION_CODE        6158 non-null category\n",
      "PROMO_MAILABLE_FLAG             6158 non-null int64\n",
      "ACCOUNT_BALANCE                 6158 non-null int64\n",
      "DREAM_ACCOUNT_BALANCE           6158 non-null int64\n",
      "CASH_ACCOUNT_BALANCE            6158 non-null int64\n",
      "CASH_RATIO                      6158 non-null int64\n",
      "LAST_RATIO_CHG_DATE             4422 non-null datetime64[ns]\n",
      "EMAIL_OPT_IN_FLAG               6158 non-null int64\n",
      "EARN_IN_CAMPAIGN_PERIOD         6158 non-null int64\n",
      "POST_1M_EARN                    6158 non-null int64\n",
      "WEB_ACTIVE_30DAYS               6158 non-null int64\n",
      "EMAIL_ENGAGED_30DAYS            6158 non-null int64\n",
      "RESPONDENT                      6158 non-null int64\n",
      "DATE_OF_RESPONSE                414 non-null datetime64[ns]\n",
      "CONTROL_FLAG                    6158 non-null int64\n",
      "HOME_ADDRESS_REGION_CODE_A      6158 non-null uint8\n",
      "HOME_ADDRESS_REGION_CODE_O      6158 non-null uint8\n",
      "HOME_ADDRESS_REGION_CODE_Q      6158 non-null uint8\n",
      "HOME_ADDRESS_REGION_CODE_W      6158 non-null uint8\n",
      "COLLECTOR_TIER_B                6158 non-null uint8\n",
      "COLLECTOR_TIER_G                6158 non-null uint8\n",
      "COLLECTOR_TIER_O                6158 non-null uint8\n",
      "HOUSEHOLD_INCOME_CATEGORY_-1    6158 non-null uint8\n",
      "HOUSEHOLD_INCOME_CATEGORY_0     6158 non-null uint8\n",
      "HOUSEHOLD_INCOME_CATEGORY_1     6158 non-null uint8\n",
      "HOUSEHOLD_INCOME_CATEGORY_2     6158 non-null uint8\n",
      "HOUSEHOLD_INCOME_CATEGORY_3     6158 non-null uint8\n",
      "HOUSEHOLD_INCOME_CATEGORY_4     6158 non-null uint8\n",
      "dtypes: category(5), datetime64[ns](3), int64(16), object(1), uint8(13)\n",
      "memory usage: 1.1+ MB\n"
     ]
    }
   ],
   "source": [
    "data.info()"
   ]
  },
  {
   "cell_type": "code",
   "execution_count": 211,
   "metadata": {},
   "outputs": [
    {
     "data": {
      "text/plain": [
       "['GENDER',\n",
       " 'LANGUAGE',\n",
       " 'PROMO_MAILABLE_FLAG',\n",
       " 'ACCOUNT_BALANCE',\n",
       " 'DREAM_ACCOUNT_BALANCE',\n",
       " 'CASH_ACCOUNT_BALANCE',\n",
       " 'CASH_RATIO',\n",
       " 'EMAIL_OPT_IN_FLAG',\n",
       " 'WEB_ACTIVE_30DAYS',\n",
       " 'EMAIL_ENGAGED_30DAYS',\n",
       " 'RESPONDENT',\n",
       " 'CONTROL_FLAG',\n",
       " 'HOME_ADDRESS_REGION_CODE_A',\n",
       " 'HOME_ADDRESS_REGION_CODE_O',\n",
       " 'HOME_ADDRESS_REGION_CODE_Q',\n",
       " 'HOME_ADDRESS_REGION_CODE_W',\n",
       " 'COLLECTOR_TIER_B',\n",
       " 'COLLECTOR_TIER_G',\n",
       " 'COLLECTOR_TIER_O',\n",
       " 'HOUSEHOLD_INCOME_CATEGORY_-1',\n",
       " 'HOUSEHOLD_INCOME_CATEGORY_0',\n",
       " 'HOUSEHOLD_INCOME_CATEGORY_1',\n",
       " 'HOUSEHOLD_INCOME_CATEGORY_2',\n",
       " 'HOUSEHOLD_INCOME_CATEGORY_3',\n",
       " 'HOUSEHOLD_INCOME_CATEGORY_4']"
      ]
     },
     "execution_count": 211,
     "metadata": {},
     "output_type": "execute_result"
    }
   ],
   "source": [
    "to_keep"
   ]
  },
  {
   "cell_type": "code",
   "execution_count": 212,
   "metadata": {},
   "outputs": [
    {
     "data": {
      "text/plain": [
       "array(['GENDER', 'LANGUAGE', 'PROMO_MAILABLE_FLAG', 'ACCOUNT_BALANCE',\n",
       "       'DREAM_ACCOUNT_BALANCE', 'CASH_ACCOUNT_BALANCE', 'CASH_RATIO',\n",
       "       'EMAIL_OPT_IN_FLAG', 'WEB_ACTIVE_30DAYS', 'EMAIL_ENGAGED_30DAYS',\n",
       "       'RESPONDENT', 'CONTROL_FLAG', 'HOME_ADDRESS_REGION_CODE_A',\n",
       "       'HOME_ADDRESS_REGION_CODE_O', 'HOME_ADDRESS_REGION_CODE_Q',\n",
       "       'HOME_ADDRESS_REGION_CODE_W', 'COLLECTOR_TIER_B',\n",
       "       'COLLECTOR_TIER_G', 'COLLECTOR_TIER_O',\n",
       "       'HOUSEHOLD_INCOME_CATEGORY_-1', 'HOUSEHOLD_INCOME_CATEGORY_0',\n",
       "       'HOUSEHOLD_INCOME_CATEGORY_1', 'HOUSEHOLD_INCOME_CATEGORY_2',\n",
       "       'HOUSEHOLD_INCOME_CATEGORY_3', 'HOUSEHOLD_INCOME_CATEGORY_4'],\n",
       "      dtype=object)"
      ]
     },
     "execution_count": 212,
     "metadata": {},
     "output_type": "execute_result"
    }
   ],
   "source": [
    "data_final=data[to_keep]\n",
    "data_final.columns.values"
   ]
  },
  {
   "cell_type": "markdown",
   "metadata": {},
   "source": [
    "## 5.2 Over-sampling using SMOTE"
   ]
  },
  {
   "cell_type": "code",
   "execution_count": 84,
   "metadata": {},
   "outputs": [
    {
     "name": "stdout",
     "output_type": "stream",
     "text": [
      "Requirement already satisfied: imblearn in c:\\users\\azhao\\appdata\\local\\continuum\\anaconda3\\lib\\site-packages (0.0)\n",
      "Requirement already satisfied: imbalanced-learn in c:\\users\\azhao\\appdata\\local\\continuum\\anaconda3\\lib\\site-packages (from imblearn) (0.6.1)\n",
      "Requirement already satisfied: numpy>=1.11 in c:\\users\\azhao\\appdata\\local\\continuum\\anaconda3\\lib\\site-packages (from imbalanced-learn->imblearn) (1.16.5)\n",
      "Requirement already satisfied: scipy>=0.17 in c:\\users\\azhao\\appdata\\local\\continuum\\anaconda3\\lib\\site-packages (from imbalanced-learn->imblearn) (1.4.1)\n",
      "Requirement already satisfied: scikit-learn>=0.22 in c:\\users\\azhao\\appdata\\local\\continuum\\anaconda3\\lib\\site-packages (from imbalanced-learn->imblearn) (0.22.1)\n",
      "Requirement already satisfied: joblib>=0.11 in c:\\users\\azhao\\appdata\\local\\continuum\\anaconda3\\lib\\site-packages (from imbalanced-learn->imblearn) (0.13.2)\n"
     ]
    }
   ],
   "source": [
    "!pip install imblearn"
   ]
  },
  {
   "cell_type": "code",
   "execution_count": 213,
   "metadata": {},
   "outputs": [],
   "source": [
    "from imblearn.over_sampling import SMOTE\n",
    "import pandas as pd\n",
    "import numpy as np\n",
    "from sklearn import preprocessing\n",
    "import matplotlib.pyplot as plt \n",
    "from sklearn.linear_model import LogisticRegression\n",
    "from sklearn.model_selection import train_test_split\n",
    "import seaborn as sns"
   ]
  },
  {
   "cell_type": "code",
   "execution_count": 214,
   "metadata": {},
   "outputs": [],
   "source": [
    "import tensorflow as tf"
   ]
  },
  {
   "cell_type": "code",
   "execution_count": 215,
   "metadata": {},
   "outputs": [
    {
     "name": "stdout",
     "output_type": "stream",
     "text": [
      "length of oversampled data is  8040\n",
      "Number of no subscription in oversampled data 4020\n",
      "Number of subscription 4020\n",
      "Proportion of no respondent data in oversampled data is  0.5\n",
      "Proportion of respondent data in oversampled data is  0.5\n"
     ]
    }
   ],
   "source": [
    "X = data_final.loc[:, data_final.columns != 'RESPONDENT']\n",
    "y = data_final.loc[:, data_final.columns == 'RESPONDENT']\n",
    "os = SMOTE(random_state=0)\n",
    "X_train, X_test, y_train, y_test = train_test_split(X, y, test_size=0.3, random_state=0)\n",
    "columns = X_train.columns\n",
    "os_data_X,os_data_y=os.fit_sample(X_train, np.ravel(y_train))\n",
    "os_data_X = pd.DataFrame(data=os_data_X,columns=columns )\n",
    "os_data_y= pd.DataFrame(data=os_data_y,columns=['y'])\n",
    "# we can Check the numbers of our data\n",
    "print(\"length of oversampled data is \",len(os_data_X))\n",
    "print(\"Number of no subscription in oversampled data\",len(os_data_y[os_data_y['y']==0]))\n",
    "print(\"Number of subscription\",len(os_data_y[os_data_y['y']==1]))\n",
    "print(\"Proportion of no respondent data in oversampled data is \",len(os_data_y[os_data_y['y']==0])/len(os_data_X))\n",
    "print(\"Proportion of respondent data in oversampled data is \",len(os_data_y[os_data_y['y']==1])/len(os_data_X))"
   ]
  },
  {
   "cell_type": "code",
   "execution_count": 223,
   "metadata": {},
   "outputs": [
    {
     "name": "stderr",
     "output_type": "stream",
     "text": [
      "C:\\Users\\azhao\\AppData\\Local\\Continuum\\anaconda3\\lib\\site-packages\\sklearn\\linear_model\\_logistic.py:940: ConvergenceWarning: lbfgs failed to converge (status=1):\n",
      "STOP: TOTAL NO. of ITERATIONS REACHED LIMIT.\n",
      "\n",
      "Increase the number of iterations (max_iter) or scale the data as shown in:\n",
      "    https://scikit-learn.org/stable/modules/preprocessing.html\n",
      "Please also refer to the documentation for alternative solver options:\n",
      "    https://scikit-learn.org/stable/modules/linear_model.html#logistic-regression\n",
      "  extra_warning_msg=_LOGISTIC_SOLVER_CONVERGENCE_MSG)\n",
      "C:\\Users\\azhao\\AppData\\Local\\Continuum\\anaconda3\\lib\\site-packages\\sklearn\\linear_model\\_logistic.py:940: ConvergenceWarning: lbfgs failed to converge (status=1):\n",
      "STOP: TOTAL NO. of ITERATIONS REACHED LIMIT.\n",
      "\n",
      "Increase the number of iterations (max_iter) or scale the data as shown in:\n",
      "    https://scikit-learn.org/stable/modules/preprocessing.html\n",
      "Please also refer to the documentation for alternative solver options:\n",
      "    https://scikit-learn.org/stable/modules/linear_model.html#logistic-regression\n",
      "  extra_warning_msg=_LOGISTIC_SOLVER_CONVERGENCE_MSG)\n",
      "C:\\Users\\azhao\\AppData\\Local\\Continuum\\anaconda3\\lib\\site-packages\\sklearn\\linear_model\\_logistic.py:940: ConvergenceWarning: lbfgs failed to converge (status=1):\n",
      "STOP: TOTAL NO. of ITERATIONS REACHED LIMIT.\n",
      "\n",
      "Increase the number of iterations (max_iter) or scale the data as shown in:\n",
      "    https://scikit-learn.org/stable/modules/preprocessing.html\n",
      "Please also refer to the documentation for alternative solver options:\n",
      "    https://scikit-learn.org/stable/modules/linear_model.html#logistic-regression\n",
      "  extra_warning_msg=_LOGISTIC_SOLVER_CONVERGENCE_MSG)\n",
      "C:\\Users\\azhao\\AppData\\Local\\Continuum\\anaconda3\\lib\\site-packages\\sklearn\\linear_model\\_logistic.py:940: ConvergenceWarning: lbfgs failed to converge (status=1):\n",
      "STOP: TOTAL NO. of ITERATIONS REACHED LIMIT.\n",
      "\n",
      "Increase the number of iterations (max_iter) or scale the data as shown in:\n",
      "    https://scikit-learn.org/stable/modules/preprocessing.html\n",
      "Please also refer to the documentation for alternative solver options:\n",
      "    https://scikit-learn.org/stable/modules/linear_model.html#logistic-regression\n",
      "  extra_warning_msg=_LOGISTIC_SOLVER_CONVERGENCE_MSG)\n",
      "C:\\Users\\azhao\\AppData\\Local\\Continuum\\anaconda3\\lib\\site-packages\\sklearn\\linear_model\\_logistic.py:940: ConvergenceWarning: lbfgs failed to converge (status=1):\n",
      "STOP: TOTAL NO. of ITERATIONS REACHED LIMIT.\n",
      "\n",
      "Increase the number of iterations (max_iter) or scale the data as shown in:\n",
      "    https://scikit-learn.org/stable/modules/preprocessing.html\n",
      "Please also refer to the documentation for alternative solver options:\n",
      "    https://scikit-learn.org/stable/modules/linear_model.html#logistic-regression\n",
      "  extra_warning_msg=_LOGISTIC_SOLVER_CONVERGENCE_MSG)\n",
      "C:\\Users\\azhao\\AppData\\Local\\Continuum\\anaconda3\\lib\\site-packages\\sklearn\\linear_model\\_logistic.py:940: ConvergenceWarning: lbfgs failed to converge (status=1):\n",
      "STOP: TOTAL NO. of ITERATIONS REACHED LIMIT.\n",
      "\n",
      "Increase the number of iterations (max_iter) or scale the data as shown in:\n",
      "    https://scikit-learn.org/stable/modules/preprocessing.html\n",
      "Please also refer to the documentation for alternative solver options:\n",
      "    https://scikit-learn.org/stable/modules/linear_model.html#logistic-regression\n",
      "  extra_warning_msg=_LOGISTIC_SOLVER_CONVERGENCE_MSG)\n",
      "C:\\Users\\azhao\\AppData\\Local\\Continuum\\anaconda3\\lib\\site-packages\\sklearn\\linear_model\\_logistic.py:940: ConvergenceWarning: lbfgs failed to converge (status=1):\n",
      "STOP: TOTAL NO. of ITERATIONS REACHED LIMIT.\n",
      "\n",
      "Increase the number of iterations (max_iter) or scale the data as shown in:\n",
      "    https://scikit-learn.org/stable/modules/preprocessing.html\n",
      "Please also refer to the documentation for alternative solver options:\n",
      "    https://scikit-learn.org/stable/modules/linear_model.html#logistic-regression\n",
      "  extra_warning_msg=_LOGISTIC_SOLVER_CONVERGENCE_MSG)\n",
      "C:\\Users\\azhao\\AppData\\Local\\Continuum\\anaconda3\\lib\\site-packages\\sklearn\\linear_model\\_logistic.py:940: ConvergenceWarning: lbfgs failed to converge (status=1):\n",
      "STOP: TOTAL NO. of ITERATIONS REACHED LIMIT.\n",
      "\n",
      "Increase the number of iterations (max_iter) or scale the data as shown in:\n",
      "    https://scikit-learn.org/stable/modules/preprocessing.html\n",
      "Please also refer to the documentation for alternative solver options:\n",
      "    https://scikit-learn.org/stable/modules/linear_model.html#logistic-regression\n",
      "  extra_warning_msg=_LOGISTIC_SOLVER_CONVERGENCE_MSG)\n",
      "C:\\Users\\azhao\\AppData\\Local\\Continuum\\anaconda3\\lib\\site-packages\\sklearn\\linear_model\\_logistic.py:940: ConvergenceWarning: lbfgs failed to converge (status=1):\n",
      "STOP: TOTAL NO. of ITERATIONS REACHED LIMIT.\n",
      "\n",
      "Increase the number of iterations (max_iter) or scale the data as shown in:\n",
      "    https://scikit-learn.org/stable/modules/preprocessing.html\n",
      "Please also refer to the documentation for alternative solver options:\n",
      "    https://scikit-learn.org/stable/modules/linear_model.html#logistic-regression\n",
      "  extra_warning_msg=_LOGISTIC_SOLVER_CONVERGENCE_MSG)\n",
      "C:\\Users\\azhao\\AppData\\Local\\Continuum\\anaconda3\\lib\\site-packages\\sklearn\\linear_model\\_logistic.py:940: ConvergenceWarning: lbfgs failed to converge (status=1):\n",
      "STOP: TOTAL NO. of ITERATIONS REACHED LIMIT.\n",
      "\n",
      "Increase the number of iterations (max_iter) or scale the data as shown in:\n",
      "    https://scikit-learn.org/stable/modules/preprocessing.html\n",
      "Please also refer to the documentation for alternative solver options:\n",
      "    https://scikit-learn.org/stable/modules/linear_model.html#logistic-regression\n",
      "  extra_warning_msg=_LOGISTIC_SOLVER_CONVERGENCE_MSG)\n"
     ]
    },
    {
     "name": "stdout",
     "output_type": "stream",
     "text": [
      "[False False False  True  True  True False False False False False  True\n",
      " False False False  True  True  True False False False False False False]\n",
      "[13 17  7  1  1  1 18  4 16 14 15  1  3  5  2  1  1  1 11 12 10  6  8  9]\n"
     ]
    },
    {
     "name": "stderr",
     "output_type": "stream",
     "text": [
      "C:\\Users\\azhao\\AppData\\Local\\Continuum\\anaconda3\\lib\\site-packages\\sklearn\\linear_model\\_logistic.py:940: ConvergenceWarning: lbfgs failed to converge (status=1):\n",
      "STOP: TOTAL NO. of ITERATIONS REACHED LIMIT.\n",
      "\n",
      "Increase the number of iterations (max_iter) or scale the data as shown in:\n",
      "    https://scikit-learn.org/stable/modules/preprocessing.html\n",
      "Please also refer to the documentation for alternative solver options:\n",
      "    https://scikit-learn.org/stable/modules/linear_model.html#logistic-regression\n",
      "  extra_warning_msg=_LOGISTIC_SOLVER_CONVERGENCE_MSG)\n",
      "C:\\Users\\azhao\\AppData\\Local\\Continuum\\anaconda3\\lib\\site-packages\\sklearn\\linear_model\\_logistic.py:940: ConvergenceWarning: lbfgs failed to converge (status=1):\n",
      "STOP: TOTAL NO. of ITERATIONS REACHED LIMIT.\n",
      "\n",
      "Increase the number of iterations (max_iter) or scale the data as shown in:\n",
      "    https://scikit-learn.org/stable/modules/preprocessing.html\n",
      "Please also refer to the documentation for alternative solver options:\n",
      "    https://scikit-learn.org/stable/modules/linear_model.html#logistic-regression\n",
      "  extra_warning_msg=_LOGISTIC_SOLVER_CONVERGENCE_MSG)\n"
     ]
    }
   ],
   "source": [
    "data_final_vars=data_final.columns.values.tolist()\n",
    "y=['y']\n",
    "X=[i for i in data_final_vars if i not in y]\n",
    "from sklearn.feature_selection import RFE\n",
    "from sklearn.linear_model import LogisticRegression\n",
    "\n",
    "logreg = LogisticRegression()\n",
    "rfe = RFE(logreg, 7)\n",
    "rfe = rfe.fit(os_data_X, os_data_y.values.ravel())\n",
    "\n",
    "print(rfe.support_)\n",
    "print(rfe.ranking_)"
   ]
  },
  {
   "cell_type": "code",
   "execution_count": 222,
   "metadata": {},
   "outputs": [
    {
     "data": {
      "text/plain": [
       "['GENDER',\n",
       " 'LANGUAGE',\n",
       " 'PROMO_MAILABLE_FLAG',\n",
       " 'ACCOUNT_BALANCE',\n",
       " 'DREAM_ACCOUNT_BALANCE',\n",
       " 'CASH_ACCOUNT_BALANCE',\n",
       " 'CASH_RATIO',\n",
       " 'EMAIL_OPT_IN_FLAG',\n",
       " 'WEB_ACTIVE_30DAYS',\n",
       " 'EMAIL_ENGAGED_30DAYS',\n",
       " 'RESPONDENT',\n",
       " 'CONTROL_FLAG',\n",
       " 'HOME_ADDRESS_REGION_CODE_A',\n",
       " 'HOME_ADDRESS_REGION_CODE_O',\n",
       " 'HOME_ADDRESS_REGION_CODE_Q',\n",
       " 'HOME_ADDRESS_REGION_CODE_W',\n",
       " 'COLLECTOR_TIER_B',\n",
       " 'COLLECTOR_TIER_G',\n",
       " 'COLLECTOR_TIER_O',\n",
       " 'HOUSEHOLD_INCOME_CATEGORY_-1',\n",
       " 'HOUSEHOLD_INCOME_CATEGORY_0',\n",
       " 'HOUSEHOLD_INCOME_CATEGORY_1',\n",
       " 'HOUSEHOLD_INCOME_CATEGORY_2',\n",
       " 'HOUSEHOLD_INCOME_CATEGORY_3',\n",
       " 'HOUSEHOLD_INCOME_CATEGORY_4']"
      ]
     },
     "execution_count": 222,
     "metadata": {},
     "output_type": "execute_result"
    }
   ],
   "source": [
    "data_final_vars"
   ]
  },
  {
   "cell_type": "markdown",
   "metadata": {},
   "source": [
    "The RFE has helped us select the above 7 features "
   ]
  },
  {
   "cell_type": "code",
   "execution_count": 224,
   "metadata": {},
   "outputs": [],
   "source": [
    "#I remove 'COLLECTOR_TIER_B',replace ACCOUNT_BALANCE by CONTROL_FLAG\n",
    "cols=['DREAM_ACCOUNT_BALANCE','CONTROL_FLAG', 'CASH_ACCOUNT_BALANCE','HOME_ADDRESS_REGION_CODE_A', 'COLLECTOR_TIER_G', 'COLLECTOR_TIER_O'] \n",
    "X=os_data_X[cols]\n",
    "y=os_data_y['y']"
   ]
  },
  {
   "cell_type": "code",
   "execution_count": 225,
   "metadata": {},
   "outputs": [
    {
     "name": "stdout",
     "output_type": "stream",
     "text": [
      "Optimization terminated successfully.\n",
      "         Current function value: 0.631464\n",
      "         Iterations 6\n",
      "                              Results: Logit\n",
      "===========================================================================\n",
      "Model:                 Logit               Pseudo R-squared:    0.089      \n",
      "Dependent Variable:    y                   AIC:                 10165.9345 \n",
      "Date:                  2020-02-09 22:23    BIC:                 10207.8876 \n",
      "No. Observations:      8040                Log-Likelihood:      -5077.0    \n",
      "Df Model:              5                   LL-Null:             -5572.9    \n",
      "Df Residuals:          8034                LLR p-value:         3.4556e-212\n",
      "Converged:             1.0000              Scale:               1.0000     \n",
      "No. Iterations:        6.0000                                              \n",
      "---------------------------------------------------------------------------\n",
      "                            Coef.  Std.Err.    z     P>|z|   [0.025  0.975]\n",
      "---------------------------------------------------------------------------\n",
      "DREAM_ACCOUNT_BALANCE       0.0001   0.0000  12.8895 0.0000  0.0001  0.0001\n",
      "CONTROL_FLAG               -1.7880   0.2880  -6.2091 0.0000 -2.3524 -1.2236\n",
      "CASH_ACCOUNT_BALANCE        0.0001   0.0000   4.1728 0.0000  0.0000  0.0001\n",
      "HOME_ADDRESS_REGION_CODE_A -1.5713   0.1156 -13.5898 0.0000 -1.7980 -1.3447\n",
      "COLLECTOR_TIER_G           -0.8678   0.0546 -15.8877 0.0000 -0.9749 -0.7608\n",
      "COLLECTOR_TIER_O           -1.6728   0.1061 -15.7666 0.0000 -1.8808 -1.4649\n",
      "===========================================================================\n",
      "\n"
     ]
    }
   ],
   "source": [
    "import statsmodels.api as sm\n",
    "logit_model=sm.Logit(y,X)\n",
    "result=logit_model.fit()\n",
    "print(result.summary2())"
   ]
  },
  {
   "cell_type": "markdown",
   "metadata": {},
   "source": [
    "## 5.3 Model fitting"
   ]
  },
  {
   "cell_type": "code",
   "execution_count": 226,
   "metadata": {},
   "outputs": [
    {
     "data": {
      "text/plain": [
       "LogisticRegression(C=1.0, class_weight=None, dual=False, fit_intercept=True,\n",
       "                   intercept_scaling=1, l1_ratio=None, max_iter=100,\n",
       "                   multi_class='auto', n_jobs=None, penalty='l2',\n",
       "                   random_state=None, solver='lbfgs', tol=0.0001, verbose=0,\n",
       "                   warm_start=False)"
      ]
     },
     "execution_count": 226,
     "metadata": {},
     "output_type": "execute_result"
    }
   ],
   "source": [
    "##Model fitting \n",
    "from sklearn.linear_model import LogisticRegression\n",
    "from sklearn import metrics\n",
    "X_train, X_test, y_train, y_test = train_test_split(X, y, test_size=0.3, random_state=0)\n",
    "logreg = LogisticRegression()\n",
    "logreg.fit(X_train, y_train)"
   ]
  },
  {
   "cell_type": "code",
   "execution_count": 227,
   "metadata": {},
   "outputs": [
    {
     "name": "stdout",
     "output_type": "stream",
     "text": [
      "Accuracy of logistic regression classifier on test set: 0.66\n"
     ]
    }
   ],
   "source": [
    "y_pred = logreg.predict(X_test)\n",
    "print('Accuracy of logistic regression classifier on test set: {:.2f}'.format(logreg.score(X_test, y_test)))"
   ]
  },
  {
   "cell_type": "code",
   "execution_count": 228,
   "metadata": {},
   "outputs": [
    {
     "data": {
      "image/png": "[encoded data removed]",
      "text/plain": [
       "<Figure size 432x288 with 1 Axes>"
      ]
     },
     "metadata": {
      "needs_background": "light"
     },
     "output_type": "display_data"
    }
   ],
   "source": [
    "from sklearn.metrics import roc_auc_score\n",
    "from sklearn.metrics import roc_curve\n",
    "logit_roc_auc = roc_auc_score(y_test, logreg.predict(X_test))\n",
    "fpr, tpr, thresholds = roc_curve(y_test, logreg.predict_proba(X_test)[:,1])\n",
    "plt.figure()\n",
    "plt.plot(fpr, tpr, label='Logistic Regression (area = %0.2f)' % logit_roc_auc)\n",
    "plt.plot([0, 1], [0, 1],'r--')\n",
    "plt.xlim([0.0, 1.0])\n",
    "plt.ylim([0.0, 1.05])\n",
    "plt.xlabel('False Positive Rate')\n",
    "plt.ylabel('True Positive Rate')\n",
    "plt.title('Receiver operating characteristic')\n",
    "plt.legend(loc=\"lower right\")\n",
    "plt.savefig('Log_ROC')\n",
    "plt.show()"
   ]
  },
  {
   "cell_type": "markdown",
   "metadata": {},
   "source": [
    "## 5.4 Evaluating model performance"
   ]
  },
  {
   "cell_type": "markdown",
   "metadata": {},
   "source": [
    "#### RMSE"
   ]
  },
  {
   "cell_type": "code",
   "execution_count": 229,
   "metadata": {},
   "outputs": [],
   "source": [
    "from sklearn.metrics import mean_squared_error\n",
    "from sklearn.model_selection import cross_val_score"
   ]
  },
  {
   "cell_type": "code",
   "execution_count": 230,
   "metadata": {},
   "outputs": [
    {
     "name": "stdout",
     "output_type": "stream",
     "text": [
      "Train RMSE: 0.587 \n",
      " Test RMSE: 0.585\n"
     ]
    }
   ],
   "source": [
    "respondent_predictions = logreg.predict(X_train)\n",
    "mse = mean_squared_error(y_train, respondent_predictions)\n",
    "rmse = np.sqrt(mse)\n",
    "\n",
    "# Estimation for test\n",
    "test_predictions = logreg.predict(X_test)\n",
    "test_mse = mean_squared_error(y_test, test_predictions)\n",
    "test_rmse = np.sqrt(test_mse)\n",
    "print(\"Train RMSE: %.3f \\n Test RMSE: %.3f\" %(rmse, test_rmse) )"
   ]
  },
  {
   "cell_type": "markdown",
   "metadata": {},
   "source": [
    "#### Confusion Matrix"
   ]
  },
  {
   "cell_type": "code",
   "execution_count": 231,
   "metadata": {},
   "outputs": [
    {
     "name": "stdout",
     "output_type": "stream",
     "text": [
      "[[658 536]\n",
      " [289 929]]\n"
     ]
    }
   ],
   "source": [
    "from sklearn.metrics import confusion_matrix\n",
    "confusion_matrix = confusion_matrix(y_test, y_pred)\n",
    "print(confusion_matrix)"
   ]
  },
  {
   "cell_type": "markdown",
   "metadata": {},
   "source": [
    "The result is telling us that we have 658+929 correct predictions and 536+289 incorrect predictions."
   ]
  }
 ],
 "metadata": {
  "anaconda-cloud": {},
  "kernelspec": {
   "display_name": "Python 3",
   "language": "python",
   "name": "python3"
  },
  "language_info": {
   "codemirror_mode": {
    "name": "ipython",
    "version": 3
   },
   "file_extension": ".py",
   "mimetype": "text/x-python",
   "name": "python",
   "nbconvert_exporter": "python",
   "pygments_lexer": "ipython3",
   "version": "3.7.4"
  },
  "toc": {
   "base_numbering": 1,
   "nav_menu": {},
   "number_sections": true,
   "sideBar": true,
   "skip_h1_title": false,
   "title_cell": "Table of Contents",
   "title_sidebar": "Contents",
   "toc_cell": true,
   "toc_position": {},
   "toc_section_display": true,
   "toc_window_display": false
  }
 },
 "nbformat": 4,
 "nbformat_minor": 2
}
